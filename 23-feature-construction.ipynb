{
 "cells": [
  {
   "cell_type": "code",
   "execution_count": 1,
   "id": "738234ae",
   "metadata": {
    "_cell_guid": "b1076dfc-b9ad-4769-8c92-a6c4dae69d19",
    "_uuid": "8f2839f25d086af736a60e9eeb907d3b93b6e0e5",
    "execution": {
     "iopub.execute_input": "2025-03-07T17:07:32.050645Z",
     "iopub.status.busy": "2025-03-07T17:07:32.050298Z",
     "iopub.status.idle": "2025-03-07T17:07:32.982063Z",
     "shell.execute_reply": "2025-03-07T17:07:32.980778Z"
    },
    "papermill": {
     "duration": 0.941672,
     "end_time": "2025-03-07T17:07:32.983770",
     "exception": false,
     "start_time": "2025-03-07T17:07:32.042098",
     "status": "completed"
    },
    "tags": []
   },
   "outputs": [
    {
     "name": "stdout",
     "output_type": "stream",
     "text": [
      "/kaggle/input/titanicdataset-traincsv/train.csv\n"
     ]
    }
   ],
   "source": [
    "# This Python 3 environment comes with many helpful analytics libraries installed\n",
    "# It is defined by the kaggle/python Docker image: https://github.com/kaggle/docker-python\n",
    "# For example, here's several helpful packages to load\n",
    "\n",
    "import numpy as np # linear algebra\n",
    "import pandas as pd # data processing, CSV file I/O (e.g. pd.read_csv)\n",
    "\n",
    "# Input data files are available in the read-only \"../input/\" directory\n",
    "# For example, running this (by clicking run or pressing Shift+Enter) will list all files under the input directory\n",
    "\n",
    "import os\n",
    "for dirname, _, filenames in os.walk('/kaggle/input'):\n",
    "    for filename in filenames:\n",
    "        print(os.path.join(dirname, filename))\n",
    "\n",
    "# You can write up to 20GB to the current directory (/kaggle/working/) that gets preserved as output when you create a version using \"Save & Run All\" \n",
    "# You can also write temporary files to /kaggle/temp/, but they won't be saved outside of the current session"
   ]
  },
  {
   "cell_type": "code",
   "execution_count": 2,
   "id": "352a6e3f",
   "metadata": {
    "execution": {
     "iopub.execute_input": "2025-03-07T17:07:32.998313Z",
     "iopub.status.busy": "2025-03-07T17:07:32.997766Z",
     "iopub.status.idle": "2025-03-07T17:07:33.020583Z",
     "shell.execute_reply": "2025-03-07T17:07:33.019555Z"
    },
    "papermill": {
     "duration": 0.031859,
     "end_time": "2025-03-07T17:07:33.022400",
     "exception": false,
     "start_time": "2025-03-07T17:07:32.990541",
     "status": "completed"
    },
    "tags": []
   },
   "outputs": [],
   "source": [
    "df = pd.read_csv('/kaggle/input/titanicdataset-traincsv/train.csv')"
   ]
  },
  {
   "cell_type": "code",
   "execution_count": 3,
   "id": "0e76e3c7",
   "metadata": {
    "execution": {
     "iopub.execute_input": "2025-03-07T17:07:33.036568Z",
     "iopub.status.busy": "2025-03-07T17:07:33.036175Z",
     "iopub.status.idle": "2025-03-07T17:07:33.066331Z",
     "shell.execute_reply": "2025-03-07T17:07:33.064923Z"
    },
    "papermill": {
     "duration": 0.03938,
     "end_time": "2025-03-07T17:07:33.068261",
     "exception": false,
     "start_time": "2025-03-07T17:07:33.028881",
     "status": "completed"
    },
    "tags": []
   },
   "outputs": [
    {
     "data": {
      "text/html": [
       "<div>\n",
       "<style scoped>\n",
       "    .dataframe tbody tr th:only-of-type {\n",
       "        vertical-align: middle;\n",
       "    }\n",
       "\n",
       "    .dataframe tbody tr th {\n",
       "        vertical-align: top;\n",
       "    }\n",
       "\n",
       "    .dataframe thead th {\n",
       "        text-align: right;\n",
       "    }\n",
       "</style>\n",
       "<table border=\"1\" class=\"dataframe\">\n",
       "  <thead>\n",
       "    <tr style=\"text-align: right;\">\n",
       "      <th></th>\n",
       "      <th>PassengerId</th>\n",
       "      <th>Survived</th>\n",
       "      <th>Pclass</th>\n",
       "      <th>Name</th>\n",
       "      <th>Sex</th>\n",
       "      <th>Age</th>\n",
       "      <th>SibSp</th>\n",
       "      <th>Parch</th>\n",
       "      <th>Ticket</th>\n",
       "      <th>Fare</th>\n",
       "      <th>Cabin</th>\n",
       "      <th>Embarked</th>\n",
       "    </tr>\n",
       "  </thead>\n",
       "  <tbody>\n",
       "    <tr>\n",
       "      <th>0</th>\n",
       "      <td>1</td>\n",
       "      <td>0</td>\n",
       "      <td>3</td>\n",
       "      <td>Braund, Mr. Owen Harris</td>\n",
       "      <td>male</td>\n",
       "      <td>22.0</td>\n",
       "      <td>1</td>\n",
       "      <td>0</td>\n",
       "      <td>A/5 21171</td>\n",
       "      <td>7.2500</td>\n",
       "      <td>NaN</td>\n",
       "      <td>S</td>\n",
       "    </tr>\n",
       "    <tr>\n",
       "      <th>1</th>\n",
       "      <td>2</td>\n",
       "      <td>1</td>\n",
       "      <td>1</td>\n",
       "      <td>Cumings, Mrs. John Bradley (Florence Briggs Th...</td>\n",
       "      <td>female</td>\n",
       "      <td>38.0</td>\n",
       "      <td>1</td>\n",
       "      <td>0</td>\n",
       "      <td>PC 17599</td>\n",
       "      <td>71.2833</td>\n",
       "      <td>C85</td>\n",
       "      <td>C</td>\n",
       "    </tr>\n",
       "    <tr>\n",
       "      <th>2</th>\n",
       "      <td>3</td>\n",
       "      <td>1</td>\n",
       "      <td>3</td>\n",
       "      <td>Heikkinen, Miss. Laina</td>\n",
       "      <td>female</td>\n",
       "      <td>26.0</td>\n",
       "      <td>0</td>\n",
       "      <td>0</td>\n",
       "      <td>STON/O2. 3101282</td>\n",
       "      <td>7.9250</td>\n",
       "      <td>NaN</td>\n",
       "      <td>S</td>\n",
       "    </tr>\n",
       "    <tr>\n",
       "      <th>3</th>\n",
       "      <td>4</td>\n",
       "      <td>1</td>\n",
       "      <td>1</td>\n",
       "      <td>Futrelle, Mrs. Jacques Heath (Lily May Peel)</td>\n",
       "      <td>female</td>\n",
       "      <td>35.0</td>\n",
       "      <td>1</td>\n",
       "      <td>0</td>\n",
       "      <td>113803</td>\n",
       "      <td>53.1000</td>\n",
       "      <td>C123</td>\n",
       "      <td>S</td>\n",
       "    </tr>\n",
       "    <tr>\n",
       "      <th>4</th>\n",
       "      <td>5</td>\n",
       "      <td>0</td>\n",
       "      <td>3</td>\n",
       "      <td>Allen, Mr. William Henry</td>\n",
       "      <td>male</td>\n",
       "      <td>35.0</td>\n",
       "      <td>0</td>\n",
       "      <td>0</td>\n",
       "      <td>373450</td>\n",
       "      <td>8.0500</td>\n",
       "      <td>NaN</td>\n",
       "      <td>S</td>\n",
       "    </tr>\n",
       "  </tbody>\n",
       "</table>\n",
       "</div>"
      ],
      "text/plain": [
       "   PassengerId  Survived  Pclass  \\\n",
       "0            1         0       3   \n",
       "1            2         1       1   \n",
       "2            3         1       3   \n",
       "3            4         1       1   \n",
       "4            5         0       3   \n",
       "\n",
       "                                                Name     Sex   Age  SibSp  \\\n",
       "0                            Braund, Mr. Owen Harris    male  22.0      1   \n",
       "1  Cumings, Mrs. John Bradley (Florence Briggs Th...  female  38.0      1   \n",
       "2                             Heikkinen, Miss. Laina  female  26.0      0   \n",
       "3       Futrelle, Mrs. Jacques Heath (Lily May Peel)  female  35.0      1   \n",
       "4                           Allen, Mr. William Henry    male  35.0      0   \n",
       "\n",
       "   Parch            Ticket     Fare Cabin Embarked  \n",
       "0      0         A/5 21171   7.2500   NaN        S  \n",
       "1      0          PC 17599  71.2833   C85        C  \n",
       "2      0  STON/O2. 3101282   7.9250   NaN        S  \n",
       "3      0            113803  53.1000  C123        S  \n",
       "4      0            373450   8.0500   NaN        S  "
      ]
     },
     "execution_count": 3,
     "metadata": {},
     "output_type": "execute_result"
    }
   ],
   "source": [
    "df.head()"
   ]
  },
  {
   "cell_type": "code",
   "execution_count": 4,
   "id": "8b8f580c",
   "metadata": {
    "execution": {
     "iopub.execute_input": "2025-03-07T17:07:33.083601Z",
     "iopub.status.busy": "2025-03-07T17:07:33.083238Z",
     "iopub.status.idle": "2025-03-07T17:07:33.095671Z",
     "shell.execute_reply": "2025-03-07T17:07:33.094606Z"
    },
    "papermill": {
     "duration": 0.021985,
     "end_time": "2025-03-07T17:07:33.097483",
     "exception": false,
     "start_time": "2025-03-07T17:07:33.075498",
     "status": "completed"
    },
    "tags": []
   },
   "outputs": [],
   "source": [
    "new_df = df[['Age','Pclass','SibSp','Parch','Survived']]"
   ]
  },
  {
   "cell_type": "code",
   "execution_count": 5,
   "id": "cb34a01d",
   "metadata": {
    "execution": {
     "iopub.execute_input": "2025-03-07T17:07:33.112146Z",
     "iopub.status.busy": "2025-03-07T17:07:33.111755Z",
     "iopub.status.idle": "2025-03-07T17:07:33.116145Z",
     "shell.execute_reply": "2025-03-07T17:07:33.115126Z"
    },
    "papermill": {
     "duration": 0.013574,
     "end_time": "2025-03-07T17:07:33.117858",
     "exception": false,
     "start_time": "2025-03-07T17:07:33.104284",
     "status": "completed"
    },
    "tags": []
   },
   "outputs": [],
   "source": [
    "new_df = new_df.copy()"
   ]
  },
  {
   "cell_type": "code",
   "execution_count": 6,
   "id": "889127ad",
   "metadata": {
    "execution": {
     "iopub.execute_input": "2025-03-07T17:07:33.132861Z",
     "iopub.status.busy": "2025-03-07T17:07:33.132501Z",
     "iopub.status.idle": "2025-03-07T17:07:33.146899Z",
     "shell.execute_reply": "2025-03-07T17:07:33.145746Z"
    },
    "papermill": {
     "duration": 0.023926,
     "end_time": "2025-03-07T17:07:33.148591",
     "exception": false,
     "start_time": "2025-03-07T17:07:33.124665",
     "status": "completed"
    },
    "tags": []
   },
   "outputs": [
    {
     "name": "stderr",
     "output_type": "stream",
     "text": [
      "/usr/local/lib/python3.10/dist-packages/pandas/io/formats/format.py:1458: RuntimeWarning: invalid value encountered in greater\n",
      "  has_large_values = (abs_vals > 1e6).any()\n",
      "/usr/local/lib/python3.10/dist-packages/pandas/io/formats/format.py:1459: RuntimeWarning: invalid value encountered in less\n",
      "  has_small_values = ((abs_vals < 10 ** (-self.digits)) & (abs_vals > 0)).any()\n",
      "/usr/local/lib/python3.10/dist-packages/pandas/io/formats/format.py:1459: RuntimeWarning: invalid value encountered in greater\n",
      "  has_small_values = ((abs_vals < 10 ** (-self.digits)) & (abs_vals > 0)).any()\n"
     ]
    },
    {
     "data": {
      "text/html": [
       "<div>\n",
       "<style scoped>\n",
       "    .dataframe tbody tr th:only-of-type {\n",
       "        vertical-align: middle;\n",
       "    }\n",
       "\n",
       "    .dataframe tbody tr th {\n",
       "        vertical-align: top;\n",
       "    }\n",
       "\n",
       "    .dataframe thead th {\n",
       "        text-align: right;\n",
       "    }\n",
       "</style>\n",
       "<table border=\"1\" class=\"dataframe\">\n",
       "  <thead>\n",
       "    <tr style=\"text-align: right;\">\n",
       "      <th></th>\n",
       "      <th>Age</th>\n",
       "      <th>Pclass</th>\n",
       "      <th>SibSp</th>\n",
       "      <th>Parch</th>\n",
       "      <th>Survived</th>\n",
       "    </tr>\n",
       "  </thead>\n",
       "  <tbody>\n",
       "    <tr>\n",
       "      <th>0</th>\n",
       "      <td>22.0</td>\n",
       "      <td>3</td>\n",
       "      <td>1</td>\n",
       "      <td>0</td>\n",
       "      <td>0</td>\n",
       "    </tr>\n",
       "    <tr>\n",
       "      <th>1</th>\n",
       "      <td>38.0</td>\n",
       "      <td>1</td>\n",
       "      <td>1</td>\n",
       "      <td>0</td>\n",
       "      <td>1</td>\n",
       "    </tr>\n",
       "    <tr>\n",
       "      <th>2</th>\n",
       "      <td>26.0</td>\n",
       "      <td>3</td>\n",
       "      <td>0</td>\n",
       "      <td>0</td>\n",
       "      <td>1</td>\n",
       "    </tr>\n",
       "    <tr>\n",
       "      <th>3</th>\n",
       "      <td>35.0</td>\n",
       "      <td>1</td>\n",
       "      <td>1</td>\n",
       "      <td>0</td>\n",
       "      <td>1</td>\n",
       "    </tr>\n",
       "    <tr>\n",
       "      <th>4</th>\n",
       "      <td>35.0</td>\n",
       "      <td>3</td>\n",
       "      <td>0</td>\n",
       "      <td>0</td>\n",
       "      <td>0</td>\n",
       "    </tr>\n",
       "    <tr>\n",
       "      <th>5</th>\n",
       "      <td>NaN</td>\n",
       "      <td>3</td>\n",
       "      <td>0</td>\n",
       "      <td>0</td>\n",
       "      <td>0</td>\n",
       "    </tr>\n",
       "    <tr>\n",
       "      <th>6</th>\n",
       "      <td>54.0</td>\n",
       "      <td>1</td>\n",
       "      <td>0</td>\n",
       "      <td>0</td>\n",
       "      <td>0</td>\n",
       "    </tr>\n",
       "    <tr>\n",
       "      <th>7</th>\n",
       "      <td>2.0</td>\n",
       "      <td>3</td>\n",
       "      <td>3</td>\n",
       "      <td>1</td>\n",
       "      <td>0</td>\n",
       "    </tr>\n",
       "    <tr>\n",
       "      <th>8</th>\n",
       "      <td>27.0</td>\n",
       "      <td>3</td>\n",
       "      <td>0</td>\n",
       "      <td>2</td>\n",
       "      <td>1</td>\n",
       "    </tr>\n",
       "    <tr>\n",
       "      <th>9</th>\n",
       "      <td>14.0</td>\n",
       "      <td>2</td>\n",
       "      <td>1</td>\n",
       "      <td>0</td>\n",
       "      <td>1</td>\n",
       "    </tr>\n",
       "  </tbody>\n",
       "</table>\n",
       "</div>"
      ],
      "text/plain": [
       "    Age  Pclass  SibSp  Parch  Survived\n",
       "0  22.0       3      1      0         0\n",
       "1  38.0       1      1      0         1\n",
       "2  26.0       3      0      0         1\n",
       "3  35.0       1      1      0         1\n",
       "4  35.0       3      0      0         0\n",
       "5   NaN       3      0      0         0\n",
       "6  54.0       1      0      0         0\n",
       "7   2.0       3      3      1         0\n",
       "8  27.0       3      0      2         1\n",
       "9  14.0       2      1      0         1"
      ]
     },
     "execution_count": 6,
     "metadata": {},
     "output_type": "execute_result"
    }
   ],
   "source": [
    "new_df.head(10)"
   ]
  },
  {
   "cell_type": "code",
   "execution_count": 7,
   "id": "f359c536",
   "metadata": {
    "execution": {
     "iopub.execute_input": "2025-03-07T17:07:33.163943Z",
     "iopub.status.busy": "2025-03-07T17:07:33.163543Z",
     "iopub.status.idle": "2025-03-07T17:07:33.170478Z",
     "shell.execute_reply": "2025-03-07T17:07:33.169209Z"
    },
    "papermill": {
     "duration": 0.016733,
     "end_time": "2025-03-07T17:07:33.172392",
     "exception": false,
     "start_time": "2025-03-07T17:07:33.155659",
     "status": "completed"
    },
    "tags": []
   },
   "outputs": [],
   "source": [
    "new_df.dropna(inplace=True)"
   ]
  },
  {
   "cell_type": "code",
   "execution_count": 8,
   "id": "d6c86c0a",
   "metadata": {
    "execution": {
     "iopub.execute_input": "2025-03-07T17:07:33.187542Z",
     "iopub.status.busy": "2025-03-07T17:07:33.187185Z",
     "iopub.status.idle": "2025-03-07T17:07:33.192451Z",
     "shell.execute_reply": "2025-03-07T17:07:33.191439Z"
    },
    "papermill": {
     "duration": 0.014664,
     "end_time": "2025-03-07T17:07:33.194068",
     "exception": false,
     "start_time": "2025-03-07T17:07:33.179404",
     "status": "completed"
    },
    "tags": []
   },
   "outputs": [],
   "source": [
    "x=new_df.iloc[:,:4]\n",
    "y=new_df.iloc[:,-1]"
   ]
  },
  {
   "cell_type": "code",
   "execution_count": 9,
   "id": "0804087a",
   "metadata": {
    "execution": {
     "iopub.execute_input": "2025-03-07T17:07:33.209232Z",
     "iopub.status.busy": "2025-03-07T17:07:33.208842Z",
     "iopub.status.idle": "2025-03-07T17:07:34.770305Z",
     "shell.execute_reply": "2025-03-07T17:07:34.769043Z"
    },
    "papermill": {
     "duration": 1.571181,
     "end_time": "2025-03-07T17:07:34.772305",
     "exception": false,
     "start_time": "2025-03-07T17:07:33.201124",
     "status": "completed"
    },
    "tags": []
   },
   "outputs": [],
   "source": [
    "from sklearn.linear_model import LogisticRegression\n",
    "from sklearn.model_selection import cross_val_score"
   ]
  },
  {
   "cell_type": "code",
   "execution_count": 10,
   "id": "6a9af2a5",
   "metadata": {
    "execution": {
     "iopub.execute_input": "2025-03-07T17:07:34.787296Z",
     "iopub.status.busy": "2025-03-07T17:07:34.786709Z",
     "iopub.status.idle": "2025-03-07T17:07:35.074072Z",
     "shell.execute_reply": "2025-03-07T17:07:35.072977Z"
    },
    "papermill": {
     "duration": 0.296721,
     "end_time": "2025-03-07T17:07:35.075931",
     "exception": false,
     "start_time": "2025-03-07T17:07:34.779210",
     "status": "completed"
    },
    "tags": []
   },
   "outputs": [
    {
     "data": {
      "text/plain": [
       "0.6933333333333332"
      ]
     },
     "execution_count": 10,
     "metadata": {},
     "output_type": "execute_result"
    }
   ],
   "source": [
    "np.mean(cross_val_score(LogisticRegression(),x,y,scoring='accuracy',cv=20))"
   ]
  },
  {
   "cell_type": "code",
   "execution_count": 11,
   "id": "f061f539",
   "metadata": {
    "execution": {
     "iopub.execute_input": "2025-03-07T17:07:35.091573Z",
     "iopub.status.busy": "2025-03-07T17:07:35.091199Z",
     "iopub.status.idle": "2025-03-07T17:07:35.097269Z",
     "shell.execute_reply": "2025-03-07T17:07:35.096117Z"
    },
    "papermill": {
     "duration": 0.015745,
     "end_time": "2025-03-07T17:07:35.098989",
     "exception": false,
     "start_time": "2025-03-07T17:07:35.083244",
     "status": "completed"
    },
    "tags": []
   },
   "outputs": [],
   "source": [
    "new_df['Family_size'] = new_df['SibSp'] + new_df['Parch'] + 1"
   ]
  },
  {
   "cell_type": "code",
   "execution_count": 12,
   "id": "701339b1",
   "metadata": {
    "execution": {
     "iopub.execute_input": "2025-03-07T17:07:35.114573Z",
     "iopub.status.busy": "2025-03-07T17:07:35.114206Z",
     "iopub.status.idle": "2025-03-07T17:07:35.118746Z",
     "shell.execute_reply": "2025-03-07T17:07:35.117726Z"
    },
    "papermill": {
     "duration": 0.0143,
     "end_time": "2025-03-07T17:07:35.120449",
     "exception": false,
     "start_time": "2025-03-07T17:07:35.106149",
     "status": "completed"
    },
    "tags": []
   },
   "outputs": [],
   "source": [
    "def myfunc(num):\n",
    "    if num == 1:\n",
    "        return 0\n",
    "    elif num >1 and num <= 4:\n",
    "        return 1\n",
    "    else:\n",
    "        return 2\n",
    "        "
   ]
  },
  {
   "cell_type": "code",
   "execution_count": 13,
   "id": "5b952996",
   "metadata": {
    "execution": {
     "iopub.execute_input": "2025-03-07T17:07:35.136565Z",
     "iopub.status.busy": "2025-03-07T17:07:35.136210Z",
     "iopub.status.idle": "2025-03-07T17:07:35.141856Z",
     "shell.execute_reply": "2025-03-07T17:07:35.140979Z"
    },
    "papermill": {
     "duration": 0.015743,
     "end_time": "2025-03-07T17:07:35.143559",
     "exception": false,
     "start_time": "2025-03-07T17:07:35.127816",
     "status": "completed"
    },
    "tags": []
   },
   "outputs": [
    {
     "data": {
      "text/plain": [
       "2"
      ]
     },
     "execution_count": 13,
     "metadata": {},
     "output_type": "execute_result"
    }
   ],
   "source": [
    "myfunc(7)"
   ]
  },
  {
   "cell_type": "code",
   "execution_count": 14,
   "id": "f0e9f922",
   "metadata": {
    "execution": {
     "iopub.execute_input": "2025-03-07T17:07:35.159121Z",
     "iopub.status.busy": "2025-03-07T17:07:35.158744Z",
     "iopub.status.idle": "2025-03-07T17:07:35.164086Z",
     "shell.execute_reply": "2025-03-07T17:07:35.163156Z"
    },
    "papermill": {
     "duration": 0.014808,
     "end_time": "2025-03-07T17:07:35.165672",
     "exception": false,
     "start_time": "2025-03-07T17:07:35.150864",
     "status": "completed"
    },
    "tags": []
   },
   "outputs": [],
   "source": [
    "new_df['Family_type'] = new_df['Family_size'].apply(myfunc)"
   ]
  },
  {
   "cell_type": "code",
   "execution_count": 15,
   "id": "f5a4b959",
   "metadata": {
    "execution": {
     "iopub.execute_input": "2025-03-07T17:07:35.181166Z",
     "iopub.status.busy": "2025-03-07T17:07:35.180785Z",
     "iopub.status.idle": "2025-03-07T17:07:35.193347Z",
     "shell.execute_reply": "2025-03-07T17:07:35.192355Z"
    },
    "papermill": {
     "duration": 0.022205,
     "end_time": "2025-03-07T17:07:35.194946",
     "exception": false,
     "start_time": "2025-03-07T17:07:35.172741",
     "status": "completed"
    },
    "tags": []
   },
   "outputs": [
    {
     "data": {
      "text/html": [
       "<div>\n",
       "<style scoped>\n",
       "    .dataframe tbody tr th:only-of-type {\n",
       "        vertical-align: middle;\n",
       "    }\n",
       "\n",
       "    .dataframe tbody tr th {\n",
       "        vertical-align: top;\n",
       "    }\n",
       "\n",
       "    .dataframe thead th {\n",
       "        text-align: right;\n",
       "    }\n",
       "</style>\n",
       "<table border=\"1\" class=\"dataframe\">\n",
       "  <thead>\n",
       "    <tr style=\"text-align: right;\">\n",
       "      <th></th>\n",
       "      <th>Age</th>\n",
       "      <th>Pclass</th>\n",
       "      <th>SibSp</th>\n",
       "      <th>Parch</th>\n",
       "      <th>Survived</th>\n",
       "      <th>Family_size</th>\n",
       "      <th>Family_type</th>\n",
       "    </tr>\n",
       "  </thead>\n",
       "  <tbody>\n",
       "    <tr>\n",
       "      <th>0</th>\n",
       "      <td>22.0</td>\n",
       "      <td>3</td>\n",
       "      <td>1</td>\n",
       "      <td>0</td>\n",
       "      <td>0</td>\n",
       "      <td>2</td>\n",
       "      <td>1</td>\n",
       "    </tr>\n",
       "    <tr>\n",
       "      <th>1</th>\n",
       "      <td>38.0</td>\n",
       "      <td>1</td>\n",
       "      <td>1</td>\n",
       "      <td>0</td>\n",
       "      <td>1</td>\n",
       "      <td>2</td>\n",
       "      <td>1</td>\n",
       "    </tr>\n",
       "    <tr>\n",
       "      <th>2</th>\n",
       "      <td>26.0</td>\n",
       "      <td>3</td>\n",
       "      <td>0</td>\n",
       "      <td>0</td>\n",
       "      <td>1</td>\n",
       "      <td>1</td>\n",
       "      <td>0</td>\n",
       "    </tr>\n",
       "    <tr>\n",
       "      <th>3</th>\n",
       "      <td>35.0</td>\n",
       "      <td>1</td>\n",
       "      <td>1</td>\n",
       "      <td>0</td>\n",
       "      <td>1</td>\n",
       "      <td>2</td>\n",
       "      <td>1</td>\n",
       "    </tr>\n",
       "    <tr>\n",
       "      <th>4</th>\n",
       "      <td>35.0</td>\n",
       "      <td>3</td>\n",
       "      <td>0</td>\n",
       "      <td>0</td>\n",
       "      <td>0</td>\n",
       "      <td>1</td>\n",
       "      <td>0</td>\n",
       "    </tr>\n",
       "    <tr>\n",
       "      <th>...</th>\n",
       "      <td>...</td>\n",
       "      <td>...</td>\n",
       "      <td>...</td>\n",
       "      <td>...</td>\n",
       "      <td>...</td>\n",
       "      <td>...</td>\n",
       "      <td>...</td>\n",
       "    </tr>\n",
       "    <tr>\n",
       "      <th>885</th>\n",
       "      <td>39.0</td>\n",
       "      <td>3</td>\n",
       "      <td>0</td>\n",
       "      <td>5</td>\n",
       "      <td>0</td>\n",
       "      <td>6</td>\n",
       "      <td>2</td>\n",
       "    </tr>\n",
       "    <tr>\n",
       "      <th>886</th>\n",
       "      <td>27.0</td>\n",
       "      <td>2</td>\n",
       "      <td>0</td>\n",
       "      <td>0</td>\n",
       "      <td>0</td>\n",
       "      <td>1</td>\n",
       "      <td>0</td>\n",
       "    </tr>\n",
       "    <tr>\n",
       "      <th>887</th>\n",
       "      <td>19.0</td>\n",
       "      <td>1</td>\n",
       "      <td>0</td>\n",
       "      <td>0</td>\n",
       "      <td>1</td>\n",
       "      <td>1</td>\n",
       "      <td>0</td>\n",
       "    </tr>\n",
       "    <tr>\n",
       "      <th>889</th>\n",
       "      <td>26.0</td>\n",
       "      <td>1</td>\n",
       "      <td>0</td>\n",
       "      <td>0</td>\n",
       "      <td>1</td>\n",
       "      <td>1</td>\n",
       "      <td>0</td>\n",
       "    </tr>\n",
       "    <tr>\n",
       "      <th>890</th>\n",
       "      <td>32.0</td>\n",
       "      <td>3</td>\n",
       "      <td>0</td>\n",
       "      <td>0</td>\n",
       "      <td>0</td>\n",
       "      <td>1</td>\n",
       "      <td>0</td>\n",
       "    </tr>\n",
       "  </tbody>\n",
       "</table>\n",
       "<p>714 rows × 7 columns</p>\n",
       "</div>"
      ],
      "text/plain": [
       "      Age  Pclass  SibSp  Parch  Survived  Family_size  Family_type\n",
       "0    22.0       3      1      0         0            2            1\n",
       "1    38.0       1      1      0         1            2            1\n",
       "2    26.0       3      0      0         1            1            0\n",
       "3    35.0       1      1      0         1            2            1\n",
       "4    35.0       3      0      0         0            1            0\n",
       "..    ...     ...    ...    ...       ...          ...          ...\n",
       "885  39.0       3      0      5         0            6            2\n",
       "886  27.0       2      0      0         0            1            0\n",
       "887  19.0       1      0      0         1            1            0\n",
       "889  26.0       1      0      0         1            1            0\n",
       "890  32.0       3      0      0         0            1            0\n",
       "\n",
       "[714 rows x 7 columns]"
      ]
     },
     "execution_count": 15,
     "metadata": {},
     "output_type": "execute_result"
    }
   ],
   "source": [
    "new_df"
   ]
  },
  {
   "cell_type": "code",
   "execution_count": 16,
   "id": "9b316aeb",
   "metadata": {
    "execution": {
     "iopub.execute_input": "2025-03-07T17:07:35.211723Z",
     "iopub.status.busy": "2025-03-07T17:07:35.211383Z",
     "iopub.status.idle": "2025-03-07T17:07:35.216806Z",
     "shell.execute_reply": "2025-03-07T17:07:35.215761Z"
    },
    "papermill": {
     "duration": 0.015637,
     "end_time": "2025-03-07T17:07:35.218446",
     "exception": false,
     "start_time": "2025-03-07T17:07:35.202809",
     "status": "completed"
    },
    "tags": []
   },
   "outputs": [],
   "source": [
    "new_df.drop(columns=['SibSp','Parch'], inplace = True)"
   ]
  },
  {
   "cell_type": "code",
   "execution_count": 17,
   "id": "2b8c993f",
   "metadata": {
    "execution": {
     "iopub.execute_input": "2025-03-07T17:07:35.235232Z",
     "iopub.status.busy": "2025-03-07T17:07:35.234830Z",
     "iopub.status.idle": "2025-03-07T17:07:35.245003Z",
     "shell.execute_reply": "2025-03-07T17:07:35.244112Z"
    },
    "papermill": {
     "duration": 0.020333,
     "end_time": "2025-03-07T17:07:35.246616",
     "exception": false,
     "start_time": "2025-03-07T17:07:35.226283",
     "status": "completed"
    },
    "tags": []
   },
   "outputs": [
    {
     "data": {
      "text/html": [
       "<div>\n",
       "<style scoped>\n",
       "    .dataframe tbody tr th:only-of-type {\n",
       "        vertical-align: middle;\n",
       "    }\n",
       "\n",
       "    .dataframe tbody tr th {\n",
       "        vertical-align: top;\n",
       "    }\n",
       "\n",
       "    .dataframe thead th {\n",
       "        text-align: right;\n",
       "    }\n",
       "</style>\n",
       "<table border=\"1\" class=\"dataframe\">\n",
       "  <thead>\n",
       "    <tr style=\"text-align: right;\">\n",
       "      <th></th>\n",
       "      <th>Age</th>\n",
       "      <th>Pclass</th>\n",
       "      <th>Survived</th>\n",
       "      <th>Family_size</th>\n",
       "      <th>Family_type</th>\n",
       "    </tr>\n",
       "  </thead>\n",
       "  <tbody>\n",
       "    <tr>\n",
       "      <th>0</th>\n",
       "      <td>22.0</td>\n",
       "      <td>3</td>\n",
       "      <td>0</td>\n",
       "      <td>2</td>\n",
       "      <td>1</td>\n",
       "    </tr>\n",
       "    <tr>\n",
       "      <th>1</th>\n",
       "      <td>38.0</td>\n",
       "      <td>1</td>\n",
       "      <td>1</td>\n",
       "      <td>2</td>\n",
       "      <td>1</td>\n",
       "    </tr>\n",
       "    <tr>\n",
       "      <th>2</th>\n",
       "      <td>26.0</td>\n",
       "      <td>3</td>\n",
       "      <td>1</td>\n",
       "      <td>1</td>\n",
       "      <td>0</td>\n",
       "    </tr>\n",
       "    <tr>\n",
       "      <th>3</th>\n",
       "      <td>35.0</td>\n",
       "      <td>1</td>\n",
       "      <td>1</td>\n",
       "      <td>2</td>\n",
       "      <td>1</td>\n",
       "    </tr>\n",
       "    <tr>\n",
       "      <th>4</th>\n",
       "      <td>35.0</td>\n",
       "      <td>3</td>\n",
       "      <td>0</td>\n",
       "      <td>1</td>\n",
       "      <td>0</td>\n",
       "    </tr>\n",
       "  </tbody>\n",
       "</table>\n",
       "</div>"
      ],
      "text/plain": [
       "    Age  Pclass  Survived  Family_size  Family_type\n",
       "0  22.0       3         0            2            1\n",
       "1  38.0       1         1            2            1\n",
       "2  26.0       3         1            1            0\n",
       "3  35.0       1         1            2            1\n",
       "4  35.0       3         0            1            0"
      ]
     },
     "execution_count": 17,
     "metadata": {},
     "output_type": "execute_result"
    }
   ],
   "source": [
    "new_df.head()"
   ]
  },
  {
   "cell_type": "code",
   "execution_count": 18,
   "id": "c899c126",
   "metadata": {
    "execution": {
     "iopub.execute_input": "2025-03-07T17:07:35.263958Z",
     "iopub.status.busy": "2025-03-07T17:07:35.263590Z",
     "iopub.status.idle": "2025-03-07T17:07:35.269615Z",
     "shell.execute_reply": "2025-03-07T17:07:35.268549Z"
    },
    "papermill": {
     "duration": 0.016577,
     "end_time": "2025-03-07T17:07:35.271370",
     "exception": false,
     "start_time": "2025-03-07T17:07:35.254793",
     "status": "completed"
    },
    "tags": []
   },
   "outputs": [],
   "source": [
    "x2= new_df.drop(columns=['Survived'])\n",
    "x3= new_df.drop(columns=['Survived','Family_size'])"
   ]
  },
  {
   "cell_type": "code",
   "execution_count": 19,
   "id": "d86ee10e",
   "metadata": {
    "execution": {
     "iopub.execute_input": "2025-03-07T17:07:35.288306Z",
     "iopub.status.busy": "2025-03-07T17:07:35.287870Z",
     "iopub.status.idle": "2025-03-07T17:07:35.558767Z",
     "shell.execute_reply": "2025-03-07T17:07:35.557726Z"
    },
    "papermill": {
     "duration": 0.281439,
     "end_time": "2025-03-07T17:07:35.560575",
     "exception": false,
     "start_time": "2025-03-07T17:07:35.279136",
     "status": "completed"
    },
    "tags": []
   },
   "outputs": [
    {
     "data": {
      "text/plain": [
       "0.7046428571428571"
      ]
     },
     "execution_count": 19,
     "metadata": {},
     "output_type": "execute_result"
    }
   ],
   "source": [
    "np.mean(cross_val_score(LogisticRegression(),x2,y,scoring='accuracy',cv=20))"
   ]
  },
  {
   "cell_type": "code",
   "execution_count": 20,
   "id": "a6a3a384",
   "metadata": {
    "execution": {
     "iopub.execute_input": "2025-03-07T17:07:35.577082Z",
     "iopub.status.busy": "2025-03-07T17:07:35.576698Z",
     "iopub.status.idle": "2025-03-07T17:07:35.815422Z",
     "shell.execute_reply": "2025-03-07T17:07:35.814368Z"
    },
    "papermill": {
     "duration": 0.248955,
     "end_time": "2025-03-07T17:07:35.817242",
     "exception": false,
     "start_time": "2025-03-07T17:07:35.568287",
     "status": "completed"
    },
    "tags": []
   },
   "outputs": [
    {
     "data": {
      "text/plain": [
       "0.7003174603174602"
      ]
     },
     "execution_count": 20,
     "metadata": {},
     "output_type": "execute_result"
    }
   ],
   "source": [
    "np.mean(cross_val_score(LogisticRegression(),x3,y,scoring='accuracy',cv=20))"
   ]
  },
  {
   "cell_type": "code",
   "execution_count": 21,
   "id": "77fccc0d",
   "metadata": {
    "execution": {
     "iopub.execute_input": "2025-03-07T17:07:35.834674Z",
     "iopub.status.busy": "2025-03-07T17:07:35.834293Z",
     "iopub.status.idle": "2025-03-07T17:07:36.089742Z",
     "shell.execute_reply": "2025-03-07T17:07:36.088539Z"
    },
    "papermill": {
     "duration": 0.266055,
     "end_time": "2025-03-07T17:07:36.091518",
     "exception": false,
     "start_time": "2025-03-07T17:07:35.825463",
     "status": "completed"
    },
    "tags": []
   },
   "outputs": [
    {
     "data": {
      "text/plain": [
       "0.6933333333333332"
      ]
     },
     "execution_count": 21,
     "metadata": {},
     "output_type": "execute_result"
    }
   ],
   "source": [
    "np.mean(cross_val_score(LogisticRegression(),x,y,scoring='accuracy',cv=20))"
   ]
  },
  {
   "cell_type": "markdown",
   "id": "349b5505",
   "metadata": {
    "papermill": {
     "duration": 0.007238,
     "end_time": "2025-03-07T17:07:36.106561",
     "exception": false,
     "start_time": "2025-03-07T17:07:36.099323",
     "status": "completed"
    },
    "tags": []
   },
   "source": [
    "# Feature Spliting"
   ]
  },
  {
   "cell_type": "code",
   "execution_count": 22,
   "id": "04f1b97c",
   "metadata": {
    "execution": {
     "iopub.execute_input": "2025-03-07T17:07:36.123151Z",
     "iopub.status.busy": "2025-03-07T17:07:36.122722Z",
     "iopub.status.idle": "2025-03-07T17:07:36.130211Z",
     "shell.execute_reply": "2025-03-07T17:07:36.129198Z"
    },
    "papermill": {
     "duration": 0.017615,
     "end_time": "2025-03-07T17:07:36.131770",
     "exception": false,
     "start_time": "2025-03-07T17:07:36.114155",
     "status": "completed"
    },
    "tags": []
   },
   "outputs": [
    {
     "data": {
      "text/plain": [
       "0                                Braund, Mr. Owen Harris\n",
       "1      Cumings, Mrs. John Bradley (Florence Briggs Th...\n",
       "2                                 Heikkinen, Miss. Laina\n",
       "3           Futrelle, Mrs. Jacques Heath (Lily May Peel)\n",
       "4                               Allen, Mr. William Henry\n",
       "                             ...                        \n",
       "886                                Montvila, Rev. Juozas\n",
       "887                         Graham, Miss. Margaret Edith\n",
       "888             Johnston, Miss. Catherine Helen \"Carrie\"\n",
       "889                                Behr, Mr. Karl Howell\n",
       "890                                  Dooley, Mr. Patrick\n",
       "Name: Name, Length: 891, dtype: object"
      ]
     },
     "execution_count": 22,
     "metadata": {},
     "output_type": "execute_result"
    }
   ],
   "source": [
    "df['Name']"
   ]
  },
  {
   "cell_type": "code",
   "execution_count": 23,
   "id": "5391e2ca",
   "metadata": {
    "execution": {
     "iopub.execute_input": "2025-03-07T17:07:36.149030Z",
     "iopub.status.busy": "2025-03-07T17:07:36.148609Z",
     "iopub.status.idle": "2025-03-07T17:07:36.161244Z",
     "shell.execute_reply": "2025-03-07T17:07:36.160237Z"
    },
    "papermill": {
     "duration": 0.022972,
     "end_time": "2025-03-07T17:07:36.162828",
     "exception": false,
     "start_time": "2025-03-07T17:07:36.139856",
     "status": "completed"
    },
    "tags": []
   },
   "outputs": [
    {
     "data": {
      "text/html": [
       "<div>\n",
       "<style scoped>\n",
       "    .dataframe tbody tr th:only-of-type {\n",
       "        vertical-align: middle;\n",
       "    }\n",
       "\n",
       "    .dataframe tbody tr th {\n",
       "        vertical-align: top;\n",
       "    }\n",
       "\n",
       "    .dataframe thead th {\n",
       "        text-align: right;\n",
       "    }\n",
       "</style>\n",
       "<table border=\"1\" class=\"dataframe\">\n",
       "  <thead>\n",
       "    <tr style=\"text-align: right;\">\n",
       "      <th></th>\n",
       "      <th>0</th>\n",
       "      <th>1</th>\n",
       "    </tr>\n",
       "  </thead>\n",
       "  <tbody>\n",
       "    <tr>\n",
       "      <th>0</th>\n",
       "      <td>Braund</td>\n",
       "      <td>Mr. Owen Harris</td>\n",
       "    </tr>\n",
       "    <tr>\n",
       "      <th>1</th>\n",
       "      <td>Cumings</td>\n",
       "      <td>Mrs. John Bradley (Florence Briggs Thayer)</td>\n",
       "    </tr>\n",
       "    <tr>\n",
       "      <th>2</th>\n",
       "      <td>Heikkinen</td>\n",
       "      <td>Miss. Laina</td>\n",
       "    </tr>\n",
       "    <tr>\n",
       "      <th>3</th>\n",
       "      <td>Futrelle</td>\n",
       "      <td>Mrs. Jacques Heath (Lily May Peel)</td>\n",
       "    </tr>\n",
       "    <tr>\n",
       "      <th>4</th>\n",
       "      <td>Allen</td>\n",
       "      <td>Mr. William Henry</td>\n",
       "    </tr>\n",
       "    <tr>\n",
       "      <th>...</th>\n",
       "      <td>...</td>\n",
       "      <td>...</td>\n",
       "    </tr>\n",
       "    <tr>\n",
       "      <th>886</th>\n",
       "      <td>Montvila</td>\n",
       "      <td>Rev. Juozas</td>\n",
       "    </tr>\n",
       "    <tr>\n",
       "      <th>887</th>\n",
       "      <td>Graham</td>\n",
       "      <td>Miss. Margaret Edith</td>\n",
       "    </tr>\n",
       "    <tr>\n",
       "      <th>888</th>\n",
       "      <td>Johnston</td>\n",
       "      <td>Miss. Catherine Helen \"Carrie\"</td>\n",
       "    </tr>\n",
       "    <tr>\n",
       "      <th>889</th>\n",
       "      <td>Behr</td>\n",
       "      <td>Mr. Karl Howell</td>\n",
       "    </tr>\n",
       "    <tr>\n",
       "      <th>890</th>\n",
       "      <td>Dooley</td>\n",
       "      <td>Mr. Patrick</td>\n",
       "    </tr>\n",
       "  </tbody>\n",
       "</table>\n",
       "<p>891 rows × 2 columns</p>\n",
       "</div>"
      ],
      "text/plain": [
       "             0                                            1\n",
       "0       Braund                              Mr. Owen Harris\n",
       "1      Cumings   Mrs. John Bradley (Florence Briggs Thayer)\n",
       "2    Heikkinen                                  Miss. Laina\n",
       "3     Futrelle           Mrs. Jacques Heath (Lily May Peel)\n",
       "4        Allen                            Mr. William Henry\n",
       "..         ...                                          ...\n",
       "886   Montvila                                  Rev. Juozas\n",
       "887     Graham                         Miss. Margaret Edith\n",
       "888   Johnston               Miss. Catherine Helen \"Carrie\"\n",
       "889       Behr                              Mr. Karl Howell\n",
       "890     Dooley                                  Mr. Patrick\n",
       "\n",
       "[891 rows x 2 columns]"
      ]
     },
     "execution_count": 23,
     "metadata": {},
     "output_type": "execute_result"
    }
   ],
   "source": [
    " df['Name'].str.split(',', expand=True)"
   ]
  },
  {
   "cell_type": "code",
   "execution_count": 24,
   "id": "d121cb64",
   "metadata": {
    "execution": {
     "iopub.execute_input": "2025-03-07T17:07:36.180470Z",
     "iopub.status.busy": "2025-03-07T17:07:36.180091Z",
     "iopub.status.idle": "2025-03-07T17:07:36.189302Z",
     "shell.execute_reply": "2025-03-07T17:07:36.188303Z"
    },
    "papermill": {
     "duration": 0.019851,
     "end_time": "2025-03-07T17:07:36.190969",
     "exception": false,
     "start_time": "2025-03-07T17:07:36.171118",
     "status": "completed"
    },
    "tags": []
   },
   "outputs": [
    {
     "data": {
      "text/plain": [
       "0                                  Mr. Owen Harris\n",
       "1       Mrs. John Bradley (Florence Briggs Thayer)\n",
       "2                                      Miss. Laina\n",
       "3               Mrs. Jacques Heath (Lily May Peel)\n",
       "4                                Mr. William Henry\n",
       "                          ...                     \n",
       "886                                    Rev. Juozas\n",
       "887                           Miss. Margaret Edith\n",
       "888                 Miss. Catherine Helen \"Carrie\"\n",
       "889                                Mr. Karl Howell\n",
       "890                                    Mr. Patrick\n",
       "Name: 1, Length: 891, dtype: object"
      ]
     },
     "execution_count": 24,
     "metadata": {},
     "output_type": "execute_result"
    }
   ],
   "source": [
    " df['Name'].str.split(',', expand = True)[1]"
   ]
  },
  {
   "cell_type": "code",
   "execution_count": 25,
   "id": "f07afcef",
   "metadata": {
    "execution": {
     "iopub.execute_input": "2025-03-07T17:07:36.208619Z",
     "iopub.status.busy": "2025-03-07T17:07:36.208236Z",
     "iopub.status.idle": "2025-03-07T17:07:36.222117Z",
     "shell.execute_reply": "2025-03-07T17:07:36.221068Z"
    },
    "papermill": {
     "duration": 0.024388,
     "end_time": "2025-03-07T17:07:36.223681",
     "exception": false,
     "start_time": "2025-03-07T17:07:36.199293",
     "status": "completed"
    },
    "tags": []
   },
   "outputs": [
    {
     "data": {
      "text/html": [
       "<div>\n",
       "<style scoped>\n",
       "    .dataframe tbody tr th:only-of-type {\n",
       "        vertical-align: middle;\n",
       "    }\n",
       "\n",
       "    .dataframe tbody tr th {\n",
       "        vertical-align: top;\n",
       "    }\n",
       "\n",
       "    .dataframe thead th {\n",
       "        text-align: right;\n",
       "    }\n",
       "</style>\n",
       "<table border=\"1\" class=\"dataframe\">\n",
       "  <thead>\n",
       "    <tr style=\"text-align: right;\">\n",
       "      <th></th>\n",
       "      <th>0</th>\n",
       "      <th>1</th>\n",
       "      <th>2</th>\n",
       "    </tr>\n",
       "  </thead>\n",
       "  <tbody>\n",
       "    <tr>\n",
       "      <th>0</th>\n",
       "      <td>Mr</td>\n",
       "      <td>Owen Harris</td>\n",
       "      <td>None</td>\n",
       "    </tr>\n",
       "    <tr>\n",
       "      <th>1</th>\n",
       "      <td>Mrs</td>\n",
       "      <td>John Bradley (Florence Briggs Thayer)</td>\n",
       "      <td>None</td>\n",
       "    </tr>\n",
       "    <tr>\n",
       "      <th>2</th>\n",
       "      <td>Miss</td>\n",
       "      <td>Laina</td>\n",
       "      <td>None</td>\n",
       "    </tr>\n",
       "    <tr>\n",
       "      <th>3</th>\n",
       "      <td>Mrs</td>\n",
       "      <td>Jacques Heath (Lily May Peel)</td>\n",
       "      <td>None</td>\n",
       "    </tr>\n",
       "    <tr>\n",
       "      <th>4</th>\n",
       "      <td>Mr</td>\n",
       "      <td>William Henry</td>\n",
       "      <td>None</td>\n",
       "    </tr>\n",
       "    <tr>\n",
       "      <th>...</th>\n",
       "      <td>...</td>\n",
       "      <td>...</td>\n",
       "      <td>...</td>\n",
       "    </tr>\n",
       "    <tr>\n",
       "      <th>886</th>\n",
       "      <td>Rev</td>\n",
       "      <td>Juozas</td>\n",
       "      <td>None</td>\n",
       "    </tr>\n",
       "    <tr>\n",
       "      <th>887</th>\n",
       "      <td>Miss</td>\n",
       "      <td>Margaret Edith</td>\n",
       "      <td>None</td>\n",
       "    </tr>\n",
       "    <tr>\n",
       "      <th>888</th>\n",
       "      <td>Miss</td>\n",
       "      <td>Catherine Helen \"Carrie\"</td>\n",
       "      <td>None</td>\n",
       "    </tr>\n",
       "    <tr>\n",
       "      <th>889</th>\n",
       "      <td>Mr</td>\n",
       "      <td>Karl Howell</td>\n",
       "      <td>None</td>\n",
       "    </tr>\n",
       "    <tr>\n",
       "      <th>890</th>\n",
       "      <td>Mr</td>\n",
       "      <td>Patrick</td>\n",
       "      <td>None</td>\n",
       "    </tr>\n",
       "  </tbody>\n",
       "</table>\n",
       "<p>891 rows × 3 columns</p>\n",
       "</div>"
      ],
      "text/plain": [
       "         0                                       1     2\n",
       "0       Mr                             Owen Harris  None\n",
       "1      Mrs   John Bradley (Florence Briggs Thayer)  None\n",
       "2     Miss                                   Laina  None\n",
       "3      Mrs           Jacques Heath (Lily May Peel)  None\n",
       "4       Mr                           William Henry  None\n",
       "..     ...                                     ...   ...\n",
       "886    Rev                                  Juozas  None\n",
       "887   Miss                          Margaret Edith  None\n",
       "888   Miss                Catherine Helen \"Carrie\"  None\n",
       "889     Mr                             Karl Howell  None\n",
       "890     Mr                                 Patrick  None\n",
       "\n",
       "[891 rows x 3 columns]"
      ]
     },
     "execution_count": 25,
     "metadata": {},
     "output_type": "execute_result"
    }
   ],
   "source": [
    " df['Name'].str.split(',', expand = True)[1].str.split('.', expand=True)"
   ]
  },
  {
   "cell_type": "markdown",
   "id": "6ebef56b",
   "metadata": {
    "papermill": {
     "duration": 0.008173,
     "end_time": "2025-03-07T17:07:36.240510",
     "exception": false,
     "start_time": "2025-03-07T17:07:36.232337",
     "status": "completed"
    },
    "tags": []
   },
   "source": [
    "Creating a new colums for titles"
   ]
  },
  {
   "cell_type": "code",
   "execution_count": 26,
   "id": "05b438d7",
   "metadata": {
    "execution": {
     "iopub.execute_input": "2025-03-07T17:07:36.258328Z",
     "iopub.status.busy": "2025-03-07T17:07:36.257904Z",
     "iopub.status.idle": "2025-03-07T17:07:36.266469Z",
     "shell.execute_reply": "2025-03-07T17:07:36.265381Z"
    },
    "papermill": {
     "duration": 0.019282,
     "end_time": "2025-03-07T17:07:36.268127",
     "exception": false,
     "start_time": "2025-03-07T17:07:36.248845",
     "status": "completed"
    },
    "tags": []
   },
   "outputs": [],
   "source": [
    "df['Titles'] =  df['Name'].str.split(',', expand = True)[1].str.split('.', expand=True)[0]"
   ]
  },
  {
   "cell_type": "code",
   "execution_count": 27,
   "id": "d126b967",
   "metadata": {
    "execution": {
     "iopub.execute_input": "2025-03-07T17:07:36.286370Z",
     "iopub.status.busy": "2025-03-07T17:07:36.285936Z",
     "iopub.status.idle": "2025-03-07T17:07:36.298186Z",
     "shell.execute_reply": "2025-03-07T17:07:36.297173Z"
    },
    "papermill": {
     "duration": 0.023042,
     "end_time": "2025-03-07T17:07:36.299809",
     "exception": false,
     "start_time": "2025-03-07T17:07:36.276767",
     "status": "completed"
    },
    "tags": []
   },
   "outputs": [
    {
     "data": {
      "text/html": [
       "<div>\n",
       "<style scoped>\n",
       "    .dataframe tbody tr th:only-of-type {\n",
       "        vertical-align: middle;\n",
       "    }\n",
       "\n",
       "    .dataframe tbody tr th {\n",
       "        vertical-align: top;\n",
       "    }\n",
       "\n",
       "    .dataframe thead th {\n",
       "        text-align: right;\n",
       "    }\n",
       "</style>\n",
       "<table border=\"1\" class=\"dataframe\">\n",
       "  <thead>\n",
       "    <tr style=\"text-align: right;\">\n",
       "      <th></th>\n",
       "      <th>Titles</th>\n",
       "      <th>Name</th>\n",
       "    </tr>\n",
       "  </thead>\n",
       "  <tbody>\n",
       "    <tr>\n",
       "      <th>0</th>\n",
       "      <td>Mr</td>\n",
       "      <td>Braund, Mr. Owen Harris</td>\n",
       "    </tr>\n",
       "    <tr>\n",
       "      <th>1</th>\n",
       "      <td>Mrs</td>\n",
       "      <td>Cumings, Mrs. John Bradley (Florence Briggs Th...</td>\n",
       "    </tr>\n",
       "    <tr>\n",
       "      <th>2</th>\n",
       "      <td>Miss</td>\n",
       "      <td>Heikkinen, Miss. Laina</td>\n",
       "    </tr>\n",
       "    <tr>\n",
       "      <th>3</th>\n",
       "      <td>Mrs</td>\n",
       "      <td>Futrelle, Mrs. Jacques Heath (Lily May Peel)</td>\n",
       "    </tr>\n",
       "    <tr>\n",
       "      <th>4</th>\n",
       "      <td>Mr</td>\n",
       "      <td>Allen, Mr. William Henry</td>\n",
       "    </tr>\n",
       "    <tr>\n",
       "      <th>...</th>\n",
       "      <td>...</td>\n",
       "      <td>...</td>\n",
       "    </tr>\n",
       "    <tr>\n",
       "      <th>886</th>\n",
       "      <td>Rev</td>\n",
       "      <td>Montvila, Rev. Juozas</td>\n",
       "    </tr>\n",
       "    <tr>\n",
       "      <th>887</th>\n",
       "      <td>Miss</td>\n",
       "      <td>Graham, Miss. Margaret Edith</td>\n",
       "    </tr>\n",
       "    <tr>\n",
       "      <th>888</th>\n",
       "      <td>Miss</td>\n",
       "      <td>Johnston, Miss. Catherine Helen \"Carrie\"</td>\n",
       "    </tr>\n",
       "    <tr>\n",
       "      <th>889</th>\n",
       "      <td>Mr</td>\n",
       "      <td>Behr, Mr. Karl Howell</td>\n",
       "    </tr>\n",
       "    <tr>\n",
       "      <th>890</th>\n",
       "      <td>Mr</td>\n",
       "      <td>Dooley, Mr. Patrick</td>\n",
       "    </tr>\n",
       "  </tbody>\n",
       "</table>\n",
       "<p>891 rows × 2 columns</p>\n",
       "</div>"
      ],
      "text/plain": [
       "    Titles                                               Name\n",
       "0       Mr                            Braund, Mr. Owen Harris\n",
       "1      Mrs  Cumings, Mrs. John Bradley (Florence Briggs Th...\n",
       "2     Miss                             Heikkinen, Miss. Laina\n",
       "3      Mrs       Futrelle, Mrs. Jacques Heath (Lily May Peel)\n",
       "4       Mr                           Allen, Mr. William Henry\n",
       "..     ...                                                ...\n",
       "886    Rev                              Montvila, Rev. Juozas\n",
       "887   Miss                       Graham, Miss. Margaret Edith\n",
       "888   Miss           Johnston, Miss. Catherine Helen \"Carrie\"\n",
       "889     Mr                              Behr, Mr. Karl Howell\n",
       "890     Mr                                Dooley, Mr. Patrick\n",
       "\n",
       "[891 rows x 2 columns]"
      ]
     },
     "execution_count": 27,
     "metadata": {},
     "output_type": "execute_result"
    }
   ],
   "source": [
    "df[['Titles', 'Name']]"
   ]
  },
  {
   "cell_type": "code",
   "execution_count": 28,
   "id": "edbb5878",
   "metadata": {
    "execution": {
     "iopub.execute_input": "2025-03-07T17:07:36.318335Z",
     "iopub.status.busy": "2025-03-07T17:07:36.317901Z",
     "iopub.status.idle": "2025-03-07T17:07:36.339051Z",
     "shell.execute_reply": "2025-03-07T17:07:36.338112Z"
    },
    "papermill": {
     "duration": 0.032249,
     "end_time": "2025-03-07T17:07:36.340743",
     "exception": false,
     "start_time": "2025-03-07T17:07:36.308494",
     "status": "completed"
    },
    "tags": []
   },
   "outputs": [
    {
     "data": {
      "text/html": [
       "<div>\n",
       "<style scoped>\n",
       "    .dataframe tbody tr th:only-of-type {\n",
       "        vertical-align: middle;\n",
       "    }\n",
       "\n",
       "    .dataframe tbody tr th {\n",
       "        vertical-align: top;\n",
       "    }\n",
       "\n",
       "    .dataframe thead th {\n",
       "        text-align: right;\n",
       "    }\n",
       "</style>\n",
       "<table border=\"1\" class=\"dataframe\">\n",
       "  <thead>\n",
       "    <tr style=\"text-align: right;\">\n",
       "      <th></th>\n",
       "      <th>Survived</th>\n",
       "    </tr>\n",
       "    <tr>\n",
       "      <th>Titles</th>\n",
       "      <th></th>\n",
       "    </tr>\n",
       "  </thead>\n",
       "  <tbody>\n",
       "    <tr>\n",
       "      <th>the Countess</th>\n",
       "      <td>1.000000</td>\n",
       "    </tr>\n",
       "    <tr>\n",
       "      <th>Mlle</th>\n",
       "      <td>1.000000</td>\n",
       "    </tr>\n",
       "    <tr>\n",
       "      <th>Sir</th>\n",
       "      <td>1.000000</td>\n",
       "    </tr>\n",
       "    <tr>\n",
       "      <th>Ms</th>\n",
       "      <td>1.000000</td>\n",
       "    </tr>\n",
       "    <tr>\n",
       "      <th>Lady</th>\n",
       "      <td>1.000000</td>\n",
       "    </tr>\n",
       "    <tr>\n",
       "      <th>Mme</th>\n",
       "      <td>1.000000</td>\n",
       "    </tr>\n",
       "    <tr>\n",
       "      <th>Mrs</th>\n",
       "      <td>0.792000</td>\n",
       "    </tr>\n",
       "    <tr>\n",
       "      <th>Miss</th>\n",
       "      <td>0.697802</td>\n",
       "    </tr>\n",
       "    <tr>\n",
       "      <th>Master</th>\n",
       "      <td>0.575000</td>\n",
       "    </tr>\n",
       "    <tr>\n",
       "      <th>Col</th>\n",
       "      <td>0.500000</td>\n",
       "    </tr>\n",
       "    <tr>\n",
       "      <th>Major</th>\n",
       "      <td>0.500000</td>\n",
       "    </tr>\n",
       "    <tr>\n",
       "      <th>Dr</th>\n",
       "      <td>0.428571</td>\n",
       "    </tr>\n",
       "    <tr>\n",
       "      <th>Mr</th>\n",
       "      <td>0.156673</td>\n",
       "    </tr>\n",
       "    <tr>\n",
       "      <th>Jonkheer</th>\n",
       "      <td>0.000000</td>\n",
       "    </tr>\n",
       "    <tr>\n",
       "      <th>Rev</th>\n",
       "      <td>0.000000</td>\n",
       "    </tr>\n",
       "    <tr>\n",
       "      <th>Don</th>\n",
       "      <td>0.000000</td>\n",
       "    </tr>\n",
       "    <tr>\n",
       "      <th>Capt</th>\n",
       "      <td>0.000000</td>\n",
       "    </tr>\n",
       "  </tbody>\n",
       "</table>\n",
       "</div>"
      ],
      "text/plain": [
       "              Survived\n",
       "Titles                \n",
       "the Countess  1.000000\n",
       "Mlle          1.000000\n",
       "Sir           1.000000\n",
       "Ms            1.000000\n",
       "Lady          1.000000\n",
       "Mme           1.000000\n",
       "Mrs           0.792000\n",
       "Miss          0.697802\n",
       "Master        0.575000\n",
       "Col           0.500000\n",
       "Major         0.500000\n",
       "Dr            0.428571\n",
       "Mr            0.156673\n",
       "Jonkheer      0.000000\n",
       "Rev           0.000000\n",
       "Don           0.000000\n",
       "Capt          0.000000"
      ]
     },
     "execution_count": 28,
     "metadata": {},
     "output_type": "execute_result"
    }
   ],
   "source": [
    "df.groupby('Titles')[['Survived']].mean().sort_values(by='Survived', ascending=False)\n"
   ]
  },
  {
   "cell_type": "code",
   "execution_count": 29,
   "id": "204e1327",
   "metadata": {
    "execution": {
     "iopub.execute_input": "2025-03-07T17:07:36.359824Z",
     "iopub.status.busy": "2025-03-07T17:07:36.359472Z",
     "iopub.status.idle": "2025-03-07T17:07:36.366980Z",
     "shell.execute_reply": "2025-03-07T17:07:36.365738Z"
    },
    "papermill": {
     "duration": 0.018898,
     "end_time": "2025-03-07T17:07:36.368667",
     "exception": false,
     "start_time": "2025-03-07T17:07:36.349769",
     "status": "completed"
    },
    "tags": []
   },
   "outputs": [
    {
     "name": "stderr",
     "output_type": "stream",
     "text": [
      "<ipython-input-29-bf12d666d6e7>:3: FutureWarning: ChainedAssignmentError: behaviour will change in pandas 3.0!\n",
      "You are setting values through chained assignment. Currently this works in certain cases, but when using Copy-on-Write (which will become the default behaviour in pandas 3.0) this will never work to update the original DataFrame or Series, because the intermediate object on which we are setting values will behave as a copy.\n",
      "A typical example is when you are setting values in a column of a DataFrame, like:\n",
      "\n",
      "df[\"col\"][row_indexer] = value\n",
      "\n",
      "Use `df.loc[row_indexer, \"col\"] = values` instead, to perform the assignment in a single step and ensure this keeps updating the original `df`.\n",
      "\n",
      "See the caveats in the documentation: https://pandas.pydata.org/pandas-docs/stable/user_guide/indexing.html#returning-a-view-versus-a-copy\n",
      "\n",
      "  df['IS_married'].loc[df['Titles'] == 'Mrs'] = 1\n",
      "<ipython-input-29-bf12d666d6e7>:3: SettingWithCopyWarning: \n",
      "A value is trying to be set on a copy of a slice from a DataFrame\n",
      "\n",
      "See the caveats in the documentation: https://pandas.pydata.org/pandas-docs/stable/user_guide/indexing.html#returning-a-view-versus-a-copy\n",
      "  df['IS_married'].loc[df['Titles'] == 'Mrs'] = 1\n"
     ]
    }
   ],
   "source": [
    "df['IS_married']=0\n",
    "#df['IS_married'].loc[df['Titles']=='Mrs']=1\n",
    "df['IS_married'].loc[df['Titles'] == 'Mrs'] = 1"
   ]
  },
  {
   "cell_type": "code",
   "execution_count": 30,
   "id": "d3cc7edf",
   "metadata": {
    "execution": {
     "iopub.execute_input": "2025-03-07T17:07:36.387773Z",
     "iopub.status.busy": "2025-03-07T17:07:36.387442Z",
     "iopub.status.idle": "2025-03-07T17:07:36.392767Z",
     "shell.execute_reply": "2025-03-07T17:07:36.391736Z"
    },
    "papermill": {
     "duration": 0.01681,
     "end_time": "2025-03-07T17:07:36.394492",
     "exception": false,
     "start_time": "2025-03-07T17:07:36.377682",
     "status": "completed"
    },
    "tags": []
   },
   "outputs": [],
   "source": [
    "df.loc[df['Titles'] == 'Mrs', 'IS_married'] = 1\n"
   ]
  },
  {
   "cell_type": "code",
   "execution_count": 31,
   "id": "6b36ee0a",
   "metadata": {
    "execution": {
     "iopub.execute_input": "2025-03-07T17:07:36.414956Z",
     "iopub.status.busy": "2025-03-07T17:07:36.414585Z",
     "iopub.status.idle": "2025-03-07T17:07:36.433558Z",
     "shell.execute_reply": "2025-03-07T17:07:36.432403Z"
    },
    "papermill": {
     "duration": 0.031348,
     "end_time": "2025-03-07T17:07:36.435153",
     "exception": false,
     "start_time": "2025-03-07T17:07:36.403805",
     "status": "completed"
    },
    "tags": []
   },
   "outputs": [
    {
     "name": "stderr",
     "output_type": "stream",
     "text": [
      "/usr/local/lib/python3.10/dist-packages/pandas/io/formats/format.py:1458: RuntimeWarning: invalid value encountered in greater\n",
      "  has_large_values = (abs_vals > 1e6).any()\n",
      "/usr/local/lib/python3.10/dist-packages/pandas/io/formats/format.py:1459: RuntimeWarning: invalid value encountered in less\n",
      "  has_small_values = ((abs_vals < 10 ** (-self.digits)) & (abs_vals > 0)).any()\n",
      "/usr/local/lib/python3.10/dist-packages/pandas/io/formats/format.py:1459: RuntimeWarning: invalid value encountered in greater\n",
      "  has_small_values = ((abs_vals < 10 ** (-self.digits)) & (abs_vals > 0)).any()\n"
     ]
    },
    {
     "data": {
      "text/html": [
       "<div>\n",
       "<style scoped>\n",
       "    .dataframe tbody tr th:only-of-type {\n",
       "        vertical-align: middle;\n",
       "    }\n",
       "\n",
       "    .dataframe tbody tr th {\n",
       "        vertical-align: top;\n",
       "    }\n",
       "\n",
       "    .dataframe thead th {\n",
       "        text-align: right;\n",
       "    }\n",
       "</style>\n",
       "<table border=\"1\" class=\"dataframe\">\n",
       "  <thead>\n",
       "    <tr style=\"text-align: right;\">\n",
       "      <th></th>\n",
       "      <th>PassengerId</th>\n",
       "      <th>Survived</th>\n",
       "      <th>Pclass</th>\n",
       "      <th>Name</th>\n",
       "      <th>Sex</th>\n",
       "      <th>Age</th>\n",
       "      <th>SibSp</th>\n",
       "      <th>Parch</th>\n",
       "      <th>Ticket</th>\n",
       "      <th>Fare</th>\n",
       "      <th>Cabin</th>\n",
       "      <th>Embarked</th>\n",
       "      <th>Titles</th>\n",
       "      <th>IS_married</th>\n",
       "    </tr>\n",
       "  </thead>\n",
       "  <tbody>\n",
       "    <tr>\n",
       "      <th>325</th>\n",
       "      <td>326</td>\n",
       "      <td>1</td>\n",
       "      <td>1</td>\n",
       "      <td>Young, Miss. Marie Grice</td>\n",
       "      <td>female</td>\n",
       "      <td>36.0</td>\n",
       "      <td>0</td>\n",
       "      <td>0</td>\n",
       "      <td>PC 17760</td>\n",
       "      <td>135.6333</td>\n",
       "      <td>C32</td>\n",
       "      <td>C</td>\n",
       "      <td>Miss</td>\n",
       "      <td>0</td>\n",
       "    </tr>\n",
       "    <tr>\n",
       "      <th>883</th>\n",
       "      <td>884</td>\n",
       "      <td>0</td>\n",
       "      <td>2</td>\n",
       "      <td>Banfield, Mr. Frederick James</td>\n",
       "      <td>male</td>\n",
       "      <td>28.0</td>\n",
       "      <td>0</td>\n",
       "      <td>0</td>\n",
       "      <td>C.A./SOTON 34068</td>\n",
       "      <td>10.5000</td>\n",
       "      <td>NaN</td>\n",
       "      <td>S</td>\n",
       "      <td>Mr</td>\n",
       "      <td>0</td>\n",
       "    </tr>\n",
       "    <tr>\n",
       "      <th>766</th>\n",
       "      <td>767</td>\n",
       "      <td>0</td>\n",
       "      <td>1</td>\n",
       "      <td>Brewe, Dr. Arthur Jackson</td>\n",
       "      <td>male</td>\n",
       "      <td>NaN</td>\n",
       "      <td>0</td>\n",
       "      <td>0</td>\n",
       "      <td>112379</td>\n",
       "      <td>39.6000</td>\n",
       "      <td>NaN</td>\n",
       "      <td>C</td>\n",
       "      <td>Dr</td>\n",
       "      <td>0</td>\n",
       "    </tr>\n",
       "    <tr>\n",
       "      <th>767</th>\n",
       "      <td>768</td>\n",
       "      <td>0</td>\n",
       "      <td>3</td>\n",
       "      <td>Mangan, Miss. Mary</td>\n",
       "      <td>female</td>\n",
       "      <td>30.5</td>\n",
       "      <td>0</td>\n",
       "      <td>0</td>\n",
       "      <td>364850</td>\n",
       "      <td>7.7500</td>\n",
       "      <td>NaN</td>\n",
       "      <td>Q</td>\n",
       "      <td>Miss</td>\n",
       "      <td>0</td>\n",
       "    </tr>\n",
       "    <tr>\n",
       "      <th>431</th>\n",
       "      <td>432</td>\n",
       "      <td>1</td>\n",
       "      <td>3</td>\n",
       "      <td>Thorneycroft, Mrs. Percival (Florence Kate White)</td>\n",
       "      <td>female</td>\n",
       "      <td>NaN</td>\n",
       "      <td>1</td>\n",
       "      <td>0</td>\n",
       "      <td>376564</td>\n",
       "      <td>16.1000</td>\n",
       "      <td>NaN</td>\n",
       "      <td>S</td>\n",
       "      <td>Mrs</td>\n",
       "      <td>0</td>\n",
       "    </tr>\n",
       "    <tr>\n",
       "      <th>66</th>\n",
       "      <td>67</td>\n",
       "      <td>1</td>\n",
       "      <td>2</td>\n",
       "      <td>Nye, Mrs. (Elizabeth Ramell)</td>\n",
       "      <td>female</td>\n",
       "      <td>29.0</td>\n",
       "      <td>0</td>\n",
       "      <td>0</td>\n",
       "      <td>C.A. 29395</td>\n",
       "      <td>10.5000</td>\n",
       "      <td>F33</td>\n",
       "      <td>S</td>\n",
       "      <td>Mrs</td>\n",
       "      <td>0</td>\n",
       "    </tr>\n",
       "    <tr>\n",
       "      <th>170</th>\n",
       "      <td>171</td>\n",
       "      <td>0</td>\n",
       "      <td>1</td>\n",
       "      <td>Van der hoef, Mr. Wyckoff</td>\n",
       "      <td>male</td>\n",
       "      <td>61.0</td>\n",
       "      <td>0</td>\n",
       "      <td>0</td>\n",
       "      <td>111240</td>\n",
       "      <td>33.5000</td>\n",
       "      <td>B19</td>\n",
       "      <td>S</td>\n",
       "      <td>Mr</td>\n",
       "      <td>0</td>\n",
       "    </tr>\n",
       "    <tr>\n",
       "      <th>615</th>\n",
       "      <td>616</td>\n",
       "      <td>1</td>\n",
       "      <td>2</td>\n",
       "      <td>Herman, Miss. Alice</td>\n",
       "      <td>female</td>\n",
       "      <td>24.0</td>\n",
       "      <td>1</td>\n",
       "      <td>2</td>\n",
       "      <td>220845</td>\n",
       "      <td>65.0000</td>\n",
       "      <td>NaN</td>\n",
       "      <td>S</td>\n",
       "      <td>Miss</td>\n",
       "      <td>0</td>\n",
       "    </tr>\n",
       "    <tr>\n",
       "      <th>454</th>\n",
       "      <td>455</td>\n",
       "      <td>0</td>\n",
       "      <td>3</td>\n",
       "      <td>Peduzzi, Mr. Joseph</td>\n",
       "      <td>male</td>\n",
       "      <td>NaN</td>\n",
       "      <td>0</td>\n",
       "      <td>0</td>\n",
       "      <td>A/5 2817</td>\n",
       "      <td>8.0500</td>\n",
       "      <td>NaN</td>\n",
       "      <td>S</td>\n",
       "      <td>Mr</td>\n",
       "      <td>0</td>\n",
       "    </tr>\n",
       "    <tr>\n",
       "      <th>573</th>\n",
       "      <td>574</td>\n",
       "      <td>1</td>\n",
       "      <td>3</td>\n",
       "      <td>Kelly, Miss. Mary</td>\n",
       "      <td>female</td>\n",
       "      <td>NaN</td>\n",
       "      <td>0</td>\n",
       "      <td>0</td>\n",
       "      <td>14312</td>\n",
       "      <td>7.7500</td>\n",
       "      <td>NaN</td>\n",
       "      <td>Q</td>\n",
       "      <td>Miss</td>\n",
       "      <td>0</td>\n",
       "    </tr>\n",
       "  </tbody>\n",
       "</table>\n",
       "</div>"
      ],
      "text/plain": [
       "     PassengerId  Survived  Pclass  \\\n",
       "325          326         1       1   \n",
       "883          884         0       2   \n",
       "766          767         0       1   \n",
       "767          768         0       3   \n",
       "431          432         1       3   \n",
       "66            67         1       2   \n",
       "170          171         0       1   \n",
       "615          616         1       2   \n",
       "454          455         0       3   \n",
       "573          574         1       3   \n",
       "\n",
       "                                                  Name     Sex   Age  SibSp  \\\n",
       "325                           Young, Miss. Marie Grice  female  36.0      0   \n",
       "883                      Banfield, Mr. Frederick James    male  28.0      0   \n",
       "766                          Brewe, Dr. Arthur Jackson    male   NaN      0   \n",
       "767                                 Mangan, Miss. Mary  female  30.5      0   \n",
       "431  Thorneycroft, Mrs. Percival (Florence Kate White)  female   NaN      1   \n",
       "66                        Nye, Mrs. (Elizabeth Ramell)  female  29.0      0   \n",
       "170                          Van der hoef, Mr. Wyckoff    male  61.0      0   \n",
       "615                                Herman, Miss. Alice  female  24.0      1   \n",
       "454                                Peduzzi, Mr. Joseph    male   NaN      0   \n",
       "573                                  Kelly, Miss. Mary  female   NaN      0   \n",
       "\n",
       "     Parch            Ticket      Fare Cabin Embarked Titles  IS_married  \n",
       "325      0          PC 17760  135.6333   C32        C   Miss           0  \n",
       "883      0  C.A./SOTON 34068   10.5000   NaN        S     Mr           0  \n",
       "766      0            112379   39.6000   NaN        C     Dr           0  \n",
       "767      0            364850    7.7500   NaN        Q   Miss           0  \n",
       "431      0            376564   16.1000   NaN        S    Mrs           0  \n",
       "66       0        C.A. 29395   10.5000   F33        S    Mrs           0  \n",
       "170      0            111240   33.5000   B19        S     Mr           0  \n",
       "615      2            220845   65.0000   NaN        S   Miss           0  \n",
       "454      0          A/5 2817    8.0500   NaN        S     Mr           0  \n",
       "573      0             14312    7.7500   NaN        Q   Miss           0  "
      ]
     },
     "execution_count": 31,
     "metadata": {},
     "output_type": "execute_result"
    }
   ],
   "source": [
    "df.sample(10)"
   ]
  },
  {
   "cell_type": "code",
   "execution_count": null,
   "id": "31bbf71f",
   "metadata": {
    "papermill": {
     "duration": 0.009147,
     "end_time": "2025-03-07T17:07:36.453901",
     "exception": false,
     "start_time": "2025-03-07T17:07:36.444754",
     "status": "completed"
    },
    "tags": []
   },
   "outputs": [],
   "source": []
  }
 ],
 "metadata": {
  "kaggle": {
   "accelerator": "none",
   "dataSources": [
    {
     "datasetId": 11657,
     "sourceId": 16098,
     "sourceType": "datasetVersion"
    }
   ],
   "dockerImageVersionId": 30918,
   "isGpuEnabled": false,
   "isInternetEnabled": true,
   "language": "python",
   "sourceType": "notebook"
  },
  "kernelspec": {
   "display_name": "Python 3",
   "language": "python",
   "name": "python3"
  },
  "language_info": {
   "codemirror_mode": {
    "name": "ipython",
    "version": 3
   },
   "file_extension": ".py",
   "mimetype": "text/x-python",
   "name": "python",
   "nbconvert_exporter": "python",
   "pygments_lexer": "ipython3",
   "version": "3.10.12"
  },
  "papermill": {
   "default_parameters": {},
   "duration": 7.910741,
   "end_time": "2025-03-07T17:07:37.184561",
   "environment_variables": {},
   "exception": null,
   "input_path": "__notebook__.ipynb",
   "output_path": "__notebook__.ipynb",
   "parameters": {},
   "start_time": "2025-03-07T17:07:29.273820",
   "version": "2.6.0"
  }
 },
 "nbformat": 4,
 "nbformat_minor": 5
}
