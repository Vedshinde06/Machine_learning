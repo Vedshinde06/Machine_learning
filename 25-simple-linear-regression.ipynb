{
 "cells": [
  {
   "cell_type": "code",
   "execution_count": 1,
   "id": "13151b44",
   "metadata": {
    "_cell_guid": "b1076dfc-b9ad-4769-8c92-a6c4dae69d19",
    "_uuid": "8f2839f25d086af736a60e9eeb907d3b93b6e0e5",
    "execution": {
     "iopub.execute_input": "2025-03-26T16:45:50.331539Z",
     "iopub.status.busy": "2025-03-26T16:45:50.331199Z",
     "iopub.status.idle": "2025-03-26T16:45:51.263873Z",
     "shell.execute_reply": "2025-03-26T16:45:51.262716Z"
    },
    "papermill": {
     "duration": 0.942099,
     "end_time": "2025-03-26T16:45:51.265833",
     "exception": false,
     "start_time": "2025-03-26T16:45:50.323734",
     "status": "completed"
    },
    "tags": []
   },
   "outputs": [
    {
     "name": "stdout",
     "output_type": "stream",
     "text": [
      "/kaggle/input/placement1/placement.csv\n",
      "/kaggle/input/placement-package/1placement.csv\n"
     ]
    }
   ],
   "source": [
    "# This Python 3 environment comes with many helpful analytics libraries installed\n",
    "# It is defined by the kaggle/python Docker image: https://github.com/kaggle/docker-python\n",
    "# For example, here's several helpful packages to load\n",
    "\n",
    "import numpy as np # linear algebra\n",
    "import pandas as pd # data processing, CSV file I/O (e.g. pd.read_csv)\n",
    "\n",
    "# Input data files are available in the read-only \"../input/\" directory\n",
    "# For example, running this (by clicking run or pressing Shift+Enter) will list all files under the input directory\n",
    "\n",
    "import os\n",
    "for dirname, _, filenames in os.walk('/kaggle/input'):\n",
    "    for filename in filenames:\n",
    "        print(os.path.join(dirname, filename))\n",
    "\n",
    "# You can write up to 20GB to the current directory (/kaggle/working/) that gets preserved as output when you create a version using \"Save & Run All\" \n",
    "# You can also write temporary files to /kaggle/temp/, but they won't be saved outside of the current session"
   ]
  },
  {
   "cell_type": "code",
   "execution_count": 2,
   "id": "37c5c2ec",
   "metadata": {
    "execution": {
     "iopub.execute_input": "2025-03-26T16:45:51.279334Z",
     "iopub.status.busy": "2025-03-26T16:45:51.278814Z",
     "iopub.status.idle": "2025-03-26T16:45:51.283170Z",
     "shell.execute_reply": "2025-03-26T16:45:51.282136Z"
    },
    "papermill": {
     "duration": 0.012993,
     "end_time": "2025-03-26T16:45:51.285055",
     "exception": false,
     "start_time": "2025-03-26T16:45:51.272062",
     "status": "completed"
    },
    "tags": []
   },
   "outputs": [],
   "source": [
    "import matplotlib.pyplot as plt"
   ]
  },
  {
   "cell_type": "code",
   "execution_count": 3,
   "id": "faa97c40",
   "metadata": {
    "execution": {
     "iopub.execute_input": "2025-03-26T16:45:51.298287Z",
     "iopub.status.busy": "2025-03-26T16:45:51.297908Z",
     "iopub.status.idle": "2025-03-26T16:45:51.313117Z",
     "shell.execute_reply": "2025-03-26T16:45:51.311957Z"
    },
    "papermill": {
     "duration": 0.024074,
     "end_time": "2025-03-26T16:45:51.315299",
     "exception": false,
     "start_time": "2025-03-26T16:45:51.291225",
     "status": "completed"
    },
    "tags": []
   },
   "outputs": [],
   "source": [
    "df = pd.read_csv('/kaggle/input/placement-package/1placement.csv')"
   ]
  },
  {
   "cell_type": "code",
   "execution_count": 4,
   "id": "193c2a41",
   "metadata": {
    "execution": {
     "iopub.execute_input": "2025-03-26T16:45:51.328722Z",
     "iopub.status.busy": "2025-03-26T16:45:51.328290Z",
     "iopub.status.idle": "2025-03-26T16:45:51.355205Z",
     "shell.execute_reply": "2025-03-26T16:45:51.354112Z"
    },
    "papermill": {
     "duration": 0.035514,
     "end_time": "2025-03-26T16:45:51.356863",
     "exception": false,
     "start_time": "2025-03-26T16:45:51.321349",
     "status": "completed"
    },
    "tags": []
   },
   "outputs": [
    {
     "data": {
      "text/html": [
       "<div>\n",
       "<style scoped>\n",
       "    .dataframe tbody tr th:only-of-type {\n",
       "        vertical-align: middle;\n",
       "    }\n",
       "\n",
       "    .dataframe tbody tr th {\n",
       "        vertical-align: top;\n",
       "    }\n",
       "\n",
       "    .dataframe thead th {\n",
       "        text-align: right;\n",
       "    }\n",
       "</style>\n",
       "<table border=\"1\" class=\"dataframe\">\n",
       "  <thead>\n",
       "    <tr style=\"text-align: right;\">\n",
       "      <th></th>\n",
       "      <th>cgpa</th>\n",
       "      <th>package</th>\n",
       "    </tr>\n",
       "  </thead>\n",
       "  <tbody>\n",
       "    <tr>\n",
       "      <th>0</th>\n",
       "      <td>6.89</td>\n",
       "      <td>3.26</td>\n",
       "    </tr>\n",
       "    <tr>\n",
       "      <th>1</th>\n",
       "      <td>5.12</td>\n",
       "      <td>1.98</td>\n",
       "    </tr>\n",
       "    <tr>\n",
       "      <th>2</th>\n",
       "      <td>7.82</td>\n",
       "      <td>3.25</td>\n",
       "    </tr>\n",
       "    <tr>\n",
       "      <th>3</th>\n",
       "      <td>7.42</td>\n",
       "      <td>3.67</td>\n",
       "    </tr>\n",
       "    <tr>\n",
       "      <th>4</th>\n",
       "      <td>6.94</td>\n",
       "      <td>3.57</td>\n",
       "    </tr>\n",
       "  </tbody>\n",
       "</table>\n",
       "</div>"
      ],
      "text/plain": [
       "   cgpa  package\n",
       "0  6.89     3.26\n",
       "1  5.12     1.98\n",
       "2  7.82     3.25\n",
       "3  7.42     3.67\n",
       "4  6.94     3.57"
      ]
     },
     "execution_count": 4,
     "metadata": {},
     "output_type": "execute_result"
    }
   ],
   "source": [
    "df.head()"
   ]
  },
  {
   "cell_type": "code",
   "execution_count": 5,
   "id": "37c9c5fa",
   "metadata": {
    "execution": {
     "iopub.execute_input": "2025-03-26T16:45:51.370366Z",
     "iopub.status.busy": "2025-03-26T16:45:51.370009Z",
     "iopub.status.idle": "2025-03-26T16:45:51.671524Z",
     "shell.execute_reply": "2025-03-26T16:45:51.670372Z"
    },
    "papermill": {
     "duration": 0.310189,
     "end_time": "2025-03-26T16:45:51.673324",
     "exception": false,
     "start_time": "2025-03-26T16:45:51.363135",
     "status": "completed"
    },
    "tags": []
   },
   "outputs": [
    {
     "data": {
      "text/plain": [
       "Text(0, 0.5, 'Package in LPA')"
      ]
     },
     "execution_count": 5,
     "metadata": {},
     "output_type": "execute_result"
    },
    {
     "data": {
      "image/png": "[encoded data removed]",
      "text/plain": [
       "<Figure size 640x480 with 1 Axes>"
      ]
     },
     "metadata": {},
     "output_type": "display_data"
    }
   ],
   "source": [
    "plt.scatter(df['cgpa'], df['package'])\n",
    "plt.xlabel('CGPA')\n",
    "plt.ylabel('Package in LPA')"
   ]
  },
  {
   "cell_type": "code",
   "execution_count": 6,
   "id": "ec4e9c20",
   "metadata": {
    "execution": {
     "iopub.execute_input": "2025-03-26T16:45:51.688379Z",
     "iopub.status.busy": "2025-03-26T16:45:51.688004Z",
     "iopub.status.idle": "2025-03-26T16:45:51.693256Z",
     "shell.execute_reply": "2025-03-26T16:45:51.692274Z"
    },
    "papermill": {
     "duration": 0.01479,
     "end_time": "2025-03-26T16:45:51.695035",
     "exception": false,
     "start_time": "2025-03-26T16:45:51.680245",
     "status": "completed"
    },
    "tags": []
   },
   "outputs": [],
   "source": [
    "x = df.iloc[:,0:1]\n",
    "y = df.iloc[:,-1]"
   ]
  },
  {
   "cell_type": "code",
   "execution_count": 7,
   "id": "7efa8112",
   "metadata": {
    "execution": {
     "iopub.execute_input": "2025-03-26T16:45:51.709841Z",
     "iopub.status.busy": "2025-03-26T16:45:51.709356Z",
     "iopub.status.idle": "2025-03-26T16:45:51.717132Z",
     "shell.execute_reply": "2025-03-26T16:45:51.716224Z"
    },
    "papermill": {
     "duration": 0.016897,
     "end_time": "2025-03-26T16:45:51.718750",
     "exception": false,
     "start_time": "2025-03-26T16:45:51.701853",
     "status": "completed"
    },
    "tags": []
   },
   "outputs": [
    {
     "data": {
      "text/plain": [
       "0      3.26\n",
       "1      1.98\n",
       "2      3.25\n",
       "3      3.67\n",
       "4      3.57\n",
       "       ... \n",
       "195    2.46\n",
       "196    2.57\n",
       "197    3.24\n",
       "198    3.96\n",
       "199    2.33\n",
       "Name: package, Length: 200, dtype: float64"
      ]
     },
     "execution_count": 7,
     "metadata": {},
     "output_type": "execute_result"
    }
   ],
   "source": [
    "y"
   ]
  },
  {
   "cell_type": "code",
   "execution_count": 8,
   "id": "a6ea1288",
   "metadata": {
    "execution": {
     "iopub.execute_input": "2025-03-26T16:45:51.733758Z",
     "iopub.status.busy": "2025-03-26T16:45:51.733361Z",
     "iopub.status.idle": "2025-03-26T16:45:53.181231Z",
     "shell.execute_reply": "2025-03-26T16:45:53.180119Z"
    },
    "papermill": {
     "duration": 1.457602,
     "end_time": "2025-03-26T16:45:53.183333",
     "exception": false,
     "start_time": "2025-03-26T16:45:51.725731",
     "status": "completed"
    },
    "tags": []
   },
   "outputs": [],
   "source": [
    "from sklearn.model_selection import train_test_split"
   ]
  },
  {
   "cell_type": "code",
   "execution_count": 9,
   "id": "38ba87c8",
   "metadata": {
    "execution": {
     "iopub.execute_input": "2025-03-26T16:45:53.199409Z",
     "iopub.status.busy": "2025-03-26T16:45:53.198376Z",
     "iopub.status.idle": "2025-03-26T16:45:53.209880Z",
     "shell.execute_reply": "2025-03-26T16:45:53.208891Z"
    },
    "papermill": {
     "duration": 0.021117,
     "end_time": "2025-03-26T16:45:53.211640",
     "exception": false,
     "start_time": "2025-03-26T16:45:53.190523",
     "status": "completed"
    },
    "tags": []
   },
   "outputs": [],
   "source": [
    "x_train,x_test,y_train,y_test = train_test_split(x,y,random_state=42,test_size=0.2)"
   ]
  },
  {
   "cell_type": "code",
   "execution_count": 10,
   "id": "6b062178",
   "metadata": {
    "execution": {
     "iopub.execute_input": "2025-03-26T16:45:53.226441Z",
     "iopub.status.busy": "2025-03-26T16:45:53.226116Z",
     "iopub.status.idle": "2025-03-26T16:45:53.235903Z",
     "shell.execute_reply": "2025-03-26T16:45:53.234952Z"
    },
    "papermill": {
     "duration": 0.018905,
     "end_time": "2025-03-26T16:45:53.237401",
     "exception": false,
     "start_time": "2025-03-26T16:45:53.218496",
     "status": "completed"
    },
    "tags": []
   },
   "outputs": [
    {
     "data": {
      "text/html": [
       "<div>\n",
       "<style scoped>\n",
       "    .dataframe tbody tr th:only-of-type {\n",
       "        vertical-align: middle;\n",
       "    }\n",
       "\n",
       "    .dataframe tbody tr th {\n",
       "        vertical-align: top;\n",
       "    }\n",
       "\n",
       "    .dataframe thead th {\n",
       "        text-align: right;\n",
       "    }\n",
       "</style>\n",
       "<table border=\"1\" class=\"dataframe\">\n",
       "  <thead>\n",
       "    <tr style=\"text-align: right;\">\n",
       "      <th></th>\n",
       "      <th>cgpa</th>\n",
       "    </tr>\n",
       "  </thead>\n",
       "  <tbody>\n",
       "    <tr>\n",
       "      <th>79</th>\n",
       "      <td>7.18</td>\n",
       "    </tr>\n",
       "    <tr>\n",
       "      <th>197</th>\n",
       "      <td>7.21</td>\n",
       "    </tr>\n",
       "    <tr>\n",
       "      <th>38</th>\n",
       "      <td>8.62</td>\n",
       "    </tr>\n",
       "    <tr>\n",
       "      <th>24</th>\n",
       "      <td>6.53</td>\n",
       "    </tr>\n",
       "    <tr>\n",
       "      <th>122</th>\n",
       "      <td>5.12</td>\n",
       "    </tr>\n",
       "    <tr>\n",
       "      <th>...</th>\n",
       "      <td>...</td>\n",
       "    </tr>\n",
       "    <tr>\n",
       "      <th>106</th>\n",
       "      <td>6.13</td>\n",
       "    </tr>\n",
       "    <tr>\n",
       "      <th>14</th>\n",
       "      <td>7.73</td>\n",
       "    </tr>\n",
       "    <tr>\n",
       "      <th>92</th>\n",
       "      <td>7.90</td>\n",
       "    </tr>\n",
       "    <tr>\n",
       "      <th>179</th>\n",
       "      <td>7.14</td>\n",
       "    </tr>\n",
       "    <tr>\n",
       "      <th>102</th>\n",
       "      <td>5.13</td>\n",
       "    </tr>\n",
       "  </tbody>\n",
       "</table>\n",
       "<p>160 rows × 1 columns</p>\n",
       "</div>"
      ],
      "text/plain": [
       "     cgpa\n",
       "79   7.18\n",
       "197  7.21\n",
       "38   8.62\n",
       "24   6.53\n",
       "122  5.12\n",
       "..    ...\n",
       "106  6.13\n",
       "14   7.73\n",
       "92   7.90\n",
       "179  7.14\n",
       "102  5.13\n",
       "\n",
       "[160 rows x 1 columns]"
      ]
     },
     "execution_count": 10,
     "metadata": {},
     "output_type": "execute_result"
    }
   ],
   "source": [
    "x_train"
   ]
  },
  {
   "cell_type": "code",
   "execution_count": 11,
   "id": "43ac056c",
   "metadata": {
    "execution": {
     "iopub.execute_input": "2025-03-26T16:45:53.253094Z",
     "iopub.status.busy": "2025-03-26T16:45:53.252736Z",
     "iopub.status.idle": "2025-03-26T16:45:53.380745Z",
     "shell.execute_reply": "2025-03-26T16:45:53.379472Z"
    },
    "papermill": {
     "duration": 0.137895,
     "end_time": "2025-03-26T16:45:53.382680",
     "exception": false,
     "start_time": "2025-03-26T16:45:53.244785",
     "status": "completed"
    },
    "tags": []
   },
   "outputs": [],
   "source": [
    "from sklearn.linear_model import LinearRegression"
   ]
  },
  {
   "cell_type": "code",
   "execution_count": 12,
   "id": "cbb30a01",
   "metadata": {
    "execution": {
     "iopub.execute_input": "2025-03-26T16:45:53.398671Z",
     "iopub.status.busy": "2025-03-26T16:45:53.398267Z",
     "iopub.status.idle": "2025-03-26T16:45:53.402382Z",
     "shell.execute_reply": "2025-03-26T16:45:53.401415Z"
    },
    "papermill": {
     "duration": 0.014188,
     "end_time": "2025-03-26T16:45:53.404141",
     "exception": false,
     "start_time": "2025-03-26T16:45:53.389953",
     "status": "completed"
    },
    "tags": []
   },
   "outputs": [],
   "source": [
    "lr = LinearRegression()"
   ]
  },
  {
   "cell_type": "code",
   "execution_count": 13,
   "id": "e827df89",
   "metadata": {
    "execution": {
     "iopub.execute_input": "2025-03-26T16:45:53.420448Z",
     "iopub.status.busy": "2025-03-26T16:45:53.420084Z",
     "iopub.status.idle": "2025-03-26T16:45:53.454633Z",
     "shell.execute_reply": "2025-03-26T16:45:53.453636Z"
    },
    "papermill": {
     "duration": 0.044337,
     "end_time": "2025-03-26T16:45:53.456196",
     "exception": false,
     "start_time": "2025-03-26T16:45:53.411859",
     "status": "completed"
    },
    "tags": []
   },
   "outputs": [
    {
     "data": {
      "text/html": [
       "<style>#sk-container-id-1 {color: black;background-color: white;}#sk-container-id-1 pre{padding: 0;}#sk-container-id-1 div.sk-toggleable {background-color: white;}#sk-container-id-1 label.sk-toggleable__label {cursor: pointer;display: block;width: 100%;margin-bottom: 0;padding: 0.3em;box-sizing: border-box;text-align: center;}#sk-container-id-1 label.sk-toggleable__label-arrow:before {content: \"▸\";float: left;margin-right: 0.25em;color: #696969;}#sk-container-id-1 label.sk-toggleable__label-arrow:hover:before {color: black;}#sk-container-id-1 div.sk-estimator:hover label.sk-toggleable__label-arrow:before {color: black;}#sk-container-id-1 div.sk-toggleable__content {max-height: 0;max-width: 0;overflow: hidden;text-align: left;background-color: #f0f8ff;}#sk-container-id-1 div.sk-toggleable__content pre {margin: 0.2em;color: black;border-radius: 0.25em;background-color: #f0f8ff;}#sk-container-id-1 input.sk-toggleable__control:checked~div.sk-toggleable__content {max-height: 200px;max-width: 100%;overflow: auto;}#sk-container-id-1 input.sk-toggleable__control:checked~label.sk-toggleable__label-arrow:before {content: \"▾\";}#sk-container-id-1 div.sk-estimator input.sk-toggleable__control:checked~label.sk-toggleable__label {background-color: #d4ebff;}#sk-container-id-1 div.sk-label input.sk-toggleable__control:checked~label.sk-toggleable__label {background-color: #d4ebff;}#sk-container-id-1 input.sk-hidden--visually {border: 0;clip: rect(1px 1px 1px 1px);clip: rect(1px, 1px, 1px, 1px);height: 1px;margin: -1px;overflow: hidden;padding: 0;position: absolute;width: 1px;}#sk-container-id-1 div.sk-estimator {font-family: monospace;background-color: #f0f8ff;border: 1px dotted black;border-radius: 0.25em;box-sizing: border-box;margin-bottom: 0.5em;}#sk-container-id-1 div.sk-estimator:hover {background-color: #d4ebff;}#sk-container-id-1 div.sk-parallel-item::after {content: \"\";width: 100%;border-bottom: 1px solid gray;flex-grow: 1;}#sk-container-id-1 div.sk-label:hover label.sk-toggleable__label {background-color: #d4ebff;}#sk-container-id-1 div.sk-serial::before {content: \"\";position: absolute;border-left: 1px solid gray;box-sizing: border-box;top: 0;bottom: 0;left: 50%;z-index: 0;}#sk-container-id-1 div.sk-serial {display: flex;flex-direction: column;align-items: center;background-color: white;padding-right: 0.2em;padding-left: 0.2em;position: relative;}#sk-container-id-1 div.sk-item {position: relative;z-index: 1;}#sk-container-id-1 div.sk-parallel {display: flex;align-items: stretch;justify-content: center;background-color: white;position: relative;}#sk-container-id-1 div.sk-item::before, #sk-container-id-1 div.sk-parallel-item::before {content: \"\";position: absolute;border-left: 1px solid gray;box-sizing: border-box;top: 0;bottom: 0;left: 50%;z-index: -1;}#sk-container-id-1 div.sk-parallel-item {display: flex;flex-direction: column;z-index: 1;position: relative;background-color: white;}#sk-container-id-1 div.sk-parallel-item:first-child::after {align-self: flex-end;width: 50%;}#sk-container-id-1 div.sk-parallel-item:last-child::after {align-self: flex-start;width: 50%;}#sk-container-id-1 div.sk-parallel-item:only-child::after {width: 0;}#sk-container-id-1 div.sk-dashed-wrapped {border: 1px dashed gray;margin: 0 0.4em 0.5em 0.4em;box-sizing: border-box;padding-bottom: 0.4em;background-color: white;}#sk-container-id-1 div.sk-label label {font-family: monospace;font-weight: bold;display: inline-block;line-height: 1.2em;}#sk-container-id-1 div.sk-label-container {text-align: center;}#sk-container-id-1 div.sk-container {/* jupyter's `normalize.less` sets `[hidden] { display: none; }` but bootstrap.min.css set `[hidden] { display: none !important; }` so we also need the `!important` here to be able to override the default hidden behavior on the sphinx rendered scikit-learn.org. See: https://github.com/scikit-learn/scikit-learn/issues/21755 */display: inline-block !important;position: relative;}#sk-container-id-1 div.sk-text-repr-fallback {display: none;}</style><div id=\"sk-container-id-1\" class=\"sk-top-container\"><div class=\"sk-text-repr-fallback\"><pre>LinearRegression()</pre><b>In a Jupyter environment, please rerun this cell to show the HTML representation or trust the notebook. <br />On GitHub, the HTML representation is unable to render, please try loading this page with nbviewer.org.</b></div><div class=\"sk-container\" hidden><div class=\"sk-item\"><div class=\"sk-estimator sk-toggleable\"><input class=\"sk-toggleable__control sk-hidden--visually\" id=\"sk-estimator-id-1\" type=\"checkbox\" checked><label for=\"sk-estimator-id-1\" class=\"sk-toggleable__label sk-toggleable__label-arrow\">LinearRegression</label><div class=\"sk-toggleable__content\"><pre>LinearRegression()</pre></div></div></div></div></div>"
      ],
      "text/plain": [
       "LinearRegression()"
      ]
     },
     "execution_count": 13,
     "metadata": {},
     "output_type": "execute_result"
    }
   ],
   "source": [
    "lr.fit(x_train,y_train)"
   ]
  },
  {
   "cell_type": "code",
   "execution_count": 14,
   "id": "a23c62b1",
   "metadata": {
    "execution": {
     "iopub.execute_input": "2025-03-26T16:45:53.471891Z",
     "iopub.status.busy": "2025-03-26T16:45:53.471467Z",
     "iopub.status.idle": "2025-03-26T16:45:53.487480Z",
     "shell.execute_reply": "2025-03-26T16:45:53.486294Z"
    },
    "papermill": {
     "duration": 0.02566,
     "end_time": "2025-03-26T16:45:53.489270",
     "exception": false,
     "start_time": "2025-03-26T16:45:53.463610",
     "status": "completed"
    },
    "tags": []
   },
   "outputs": [
    {
     "name": "stderr",
     "output_type": "stream",
     "text": [
      "/usr/local/lib/python3.10/dist-packages/sklearn/base.py:439: UserWarning: X does not have valid feature names, but LinearRegression was fitted with feature names\n",
      "  warnings.warn(\n"
     ]
    },
    {
     "data": {
      "text/plain": [
       "array([2.78031348])"
      ]
     },
     "execution_count": 14,
     "metadata": {},
     "output_type": "execute_result"
    }
   ],
   "source": [
    "lr.predict(x_test.iloc[0].values.reshape(-1,1))"
   ]
  },
  {
   "cell_type": "code",
   "execution_count": 15,
   "id": "8beeb035",
   "metadata": {
    "execution": {
     "iopub.execute_input": "2025-03-26T16:45:53.505648Z",
     "iopub.status.busy": "2025-03-26T16:45:53.505243Z",
     "iopub.status.idle": "2025-03-26T16:45:53.509411Z",
     "shell.execute_reply": "2025-03-26T16:45:53.508231Z"
    },
    "papermill": {
     "duration": 0.014445,
     "end_time": "2025-03-26T16:45:53.511083",
     "exception": false,
     "start_time": "2025-03-26T16:45:53.496638",
     "status": "completed"
    },
    "tags": []
   },
   "outputs": [],
   "source": [
    "m = lr.coef_"
   ]
  },
  {
   "cell_type": "code",
   "execution_count": 16,
   "id": "76d2c07e",
   "metadata": {
    "execution": {
     "iopub.execute_input": "2025-03-26T16:45:53.527882Z",
     "iopub.status.busy": "2025-03-26T16:45:53.527482Z",
     "iopub.status.idle": "2025-03-26T16:45:53.531734Z",
     "shell.execute_reply": "2025-03-26T16:45:53.530792Z"
    },
    "papermill": {
     "duration": 0.014858,
     "end_time": "2025-03-26T16:45:53.533331",
     "exception": false,
     "start_time": "2025-03-26T16:45:53.518473",
     "status": "completed"
    },
    "tags": []
   },
   "outputs": [],
   "source": [
    "b = lr.intercept_"
   ]
  },
  {
   "cell_type": "code",
   "execution_count": 17,
   "id": "622f15eb",
   "metadata": {
    "execution": {
     "iopub.execute_input": "2025-03-26T16:45:53.549611Z",
     "iopub.status.busy": "2025-03-26T16:45:53.549245Z",
     "iopub.status.idle": "2025-03-26T16:45:53.555549Z",
     "shell.execute_reply": "2025-03-26T16:45:53.554640Z"
    },
    "papermill": {
     "duration": 0.01636,
     "end_time": "2025-03-26T16:45:53.557230",
     "exception": false,
     "start_time": "2025-03-26T16:45:53.540870",
     "status": "completed"
    },
    "tags": []
   },
   "outputs": [
    {
     "data": {
      "text/plain": [
       "array([2.78031348])"
      ]
     },
     "execution_count": 17,
     "metadata": {},
     "output_type": "execute_result"
    }
   ],
   "source": [
    "m * 6.63 + b"
   ]
  },
  {
   "cell_type": "code",
   "execution_count": 18,
   "id": "082d81f1",
   "metadata": {
    "execution": {
     "iopub.execute_input": "2025-03-26T16:45:53.574018Z",
     "iopub.status.busy": "2025-03-26T16:45:53.573477Z",
     "iopub.status.idle": "2025-03-26T16:45:53.787640Z",
     "shell.execute_reply": "2025-03-26T16:45:53.786411Z"
    },
    "papermill": {
     "duration": 0.224842,
     "end_time": "2025-03-26T16:45:53.789547",
     "exception": false,
     "start_time": "2025-03-26T16:45:53.564705",
     "status": "completed"
    },
    "tags": []
   },
   "outputs": [
    {
     "data": {
      "text/plain": [
       "Text(0, 0.5, 'Package(in lpa)')"
      ]
     },
     "execution_count": 18,
     "metadata": {},
     "output_type": "execute_result"
    },
    {
     "data": {
      "image/png": "[encoded data removed]",
      "text/plain": [
       "<Figure size 640x480 with 1 Axes>"
      ]
     },
     "metadata": {},
     "output_type": "display_data"
    }
   ],
   "source": [
    "plt.scatter(df['cgpa'],df['package'])\n",
    "plt.plot(x_train,lr.predict(x_train),color='red')\n",
    "plt.xlabel('CGPA')\n",
    "plt.ylabel('Package(in lpa)')"
   ]
  },
  {
   "cell_type": "code",
   "execution_count": 19,
   "id": "b6086018",
   "metadata": {
    "execution": {
     "iopub.execute_input": "2025-03-26T16:45:53.807861Z",
     "iopub.status.busy": "2025-03-26T16:45:53.807461Z",
     "iopub.status.idle": "2025-03-26T16:45:53.812010Z",
     "shell.execute_reply": "2025-03-26T16:45:53.810924Z"
    },
    "papermill": {
     "duration": 0.015527,
     "end_time": "2025-03-26T16:45:53.813819",
     "exception": false,
     "start_time": "2025-03-26T16:45:53.798292",
     "status": "completed"
    },
    "tags": []
   },
   "outputs": [],
   "source": [
    "from sklearn.metrics import mean_squared_error,mean_absolute_error,r2_score"
   ]
  },
  {
   "cell_type": "code",
   "execution_count": 20,
   "id": "c03172e1",
   "metadata": {
    "execution": {
     "iopub.execute_input": "2025-03-26T16:45:53.832265Z",
     "iopub.status.busy": "2025-03-26T16:45:53.831945Z",
     "iopub.status.idle": "2025-03-26T16:45:53.837163Z",
     "shell.execute_reply": "2025-03-26T16:45:53.836212Z"
    },
    "papermill": {
     "duration": 0.016416,
     "end_time": "2025-03-26T16:45:53.838785",
     "exception": false,
     "start_time": "2025-03-26T16:45:53.822369",
     "status": "completed"
    },
    "tags": []
   },
   "outputs": [],
   "source": [
    "y_pred = lr.predict(x_test)"
   ]
  },
  {
   "cell_type": "code",
   "execution_count": 21,
   "id": "10febc72",
   "metadata": {
    "execution": {
     "iopub.execute_input": "2025-03-26T16:45:53.856562Z",
     "iopub.status.busy": "2025-03-26T16:45:53.856194Z",
     "iopub.status.idle": "2025-03-26T16:45:53.862191Z",
     "shell.execute_reply": "2025-03-26T16:45:53.861172Z"
    },
    "papermill": {
     "duration": 0.016769,
     "end_time": "2025-03-26T16:45:53.863891",
     "exception": false,
     "start_time": "2025-03-26T16:45:53.847122",
     "status": "completed"
    },
    "tags": []
   },
   "outputs": [
    {
     "data": {
      "text/plain": [
       "array([2.78031348, 3.13635249, 3.1995207 , 2.38981908, 3.52684689,\n",
       "       3.76803461, 3.16506531, 2.54486832, 3.17655044, 3.4923915 ,\n",
       "       1.90744364, 2.34962112, 3.6876387 , 2.75734322, 3.47516381,\n",
       "       3.04447145, 2.32665086, 3.20526327, 2.17734418, 3.314372  ,\n",
       "       2.45298729, 2.90090734, 3.32011456, 2.87219451, 3.33734226,\n",
       "       2.19457187, 1.41932564, 2.7114027 , 3.18229301, 2.32665086,\n",
       "       3.74506435, 2.95833298, 3.68189614, 2.97556068, 2.59080884,\n",
       "       3.34882738, 2.47595755, 3.07318428, 4.17575671, 2.95833298])"
      ]
     },
     "execution_count": 21,
     "metadata": {},
     "output_type": "execute_result"
    }
   ],
   "source": [
    "y_pred"
   ]
  },
  {
   "cell_type": "code",
   "execution_count": 22,
   "id": "2069e2f0",
   "metadata": {
    "execution": {
     "iopub.execute_input": "2025-03-26T16:45:53.882487Z",
     "iopub.status.busy": "2025-03-26T16:45:53.882098Z",
     "iopub.status.idle": "2025-03-26T16:45:53.888528Z",
     "shell.execute_reply": "2025-03-26T16:45:53.887310Z"
    },
    "papermill": {
     "duration": 0.017337,
     "end_time": "2025-03-26T16:45:53.890087",
     "exception": false,
     "start_time": "2025-03-26T16:45:53.872750",
     "status": "completed"
    },
    "tags": []
   },
   "outputs": [
    {
     "name": "stdout",
     "output_type": "stream",
     "text": [
      "MSE 0.08417638361329663\n"
     ]
    }
   ],
   "source": [
    "print(\"MSE\",mean_squared_error(y_pred,y_test))"
   ]
  },
  {
   "cell_type": "code",
   "execution_count": 23,
   "id": "49841f1f",
   "metadata": {
    "execution": {
     "iopub.execute_input": "2025-03-26T16:45:53.908155Z",
     "iopub.status.busy": "2025-03-26T16:45:53.907809Z",
     "iopub.status.idle": "2025-03-26T16:45:53.913764Z",
     "shell.execute_reply": "2025-03-26T16:45:53.912692Z"
    },
    "papermill": {
     "duration": 0.016816,
     "end_time": "2025-03-26T16:45:53.915317",
     "exception": false,
     "start_time": "2025-03-26T16:45:53.898501",
     "status": "completed"
    },
    "tags": []
   },
   "outputs": [
    {
     "name": "stdout",
     "output_type": "stream",
     "text": [
      "MAE 0.23150985393278384\n"
     ]
    }
   ],
   "source": [
    "print(\"MAE\", mean_absolute_error(y_pred,y_test))"
   ]
  },
  {
   "cell_type": "code",
   "execution_count": 24,
   "id": "aed0aa14",
   "metadata": {
    "execution": {
     "iopub.execute_input": "2025-03-26T16:45:53.934210Z",
     "iopub.status.busy": "2025-03-26T16:45:53.933833Z",
     "iopub.status.idle": "2025-03-26T16:45:53.940074Z",
     "shell.execute_reply": "2025-03-26T16:45:53.938901Z"
    },
    "papermill": {
     "duration": 0.017376,
     "end_time": "2025-03-26T16:45:53.941722",
     "exception": false,
     "start_time": "2025-03-26T16:45:53.924346",
     "status": "completed"
    },
    "tags": []
   },
   "outputs": [
    {
     "name": "stdout",
     "output_type": "stream",
     "text": [
      "MSE 0.2901316659954522\n"
     ]
    }
   ],
   "source": [
    "print(\"MSE\",np.sqrt(mean_squared_error(y_pred,y_test)))"
   ]
  },
  {
   "cell_type": "code",
   "execution_count": 25,
   "id": "b5dc287c",
   "metadata": {
    "execution": {
     "iopub.execute_input": "2025-03-26T16:45:53.960090Z",
     "iopub.status.busy": "2025-03-26T16:45:53.959687Z",
     "iopub.status.idle": "2025-03-26T16:45:53.966137Z",
     "shell.execute_reply": "2025-03-26T16:45:53.964920Z"
    },
    "papermill": {
     "duration": 0.017638,
     "end_time": "2025-03-26T16:45:53.968028",
     "exception": false,
     "start_time": "2025-03-26T16:45:53.950390",
     "status": "completed"
    },
    "tags": []
   },
   "outputs": [
    {
     "name": "stdout",
     "output_type": "stream",
     "text": [
      "r2 score = 0.7337973382944378\n"
     ]
    }
   ],
   "source": [
    "print(\"r2 score =\", r2_score(y_pred,y_test))"
   ]
  },
  {
   "cell_type": "code",
   "execution_count": 26,
   "id": "4fba86f4",
   "metadata": {
    "execution": {
     "iopub.execute_input": "2025-03-26T16:45:53.987269Z",
     "iopub.status.busy": "2025-03-26T16:45:53.986937Z",
     "iopub.status.idle": "2025-03-26T16:45:53.992416Z",
     "shell.execute_reply": "2025-03-26T16:45:53.991441Z"
    },
    "papermill": {
     "duration": 0.017187,
     "end_time": "2025-03-26T16:45:53.994045",
     "exception": false,
     "start_time": "2025-03-26T16:45:53.976858",
     "status": "completed"
    },
    "tags": []
   },
   "outputs": [
    {
     "data": {
      "text/plain": [
       "(40, 1)"
      ]
     },
     "execution_count": 26,
     "metadata": {},
     "output_type": "execute_result"
    }
   ],
   "source": [
    "x_test.shape"
   ]
  },
  {
   "cell_type": "code",
   "execution_count": 27,
   "id": "39e965ed",
   "metadata": {
    "execution": {
     "iopub.execute_input": "2025-03-26T16:45:54.013035Z",
     "iopub.status.busy": "2025-03-26T16:45:54.012502Z",
     "iopub.status.idle": "2025-03-26T16:45:54.018268Z",
     "shell.execute_reply": "2025-03-26T16:45:54.017178Z"
    },
    "papermill": {
     "duration": 0.017106,
     "end_time": "2025-03-26T16:45:54.020022",
     "exception": false,
     "start_time": "2025-03-26T16:45:54.002916",
     "status": "completed"
    },
    "tags": []
   },
   "outputs": [],
   "source": [
    "r2=r2_score(y_pred,y_test)\n",
    "\n",
    "#Adjusted r2 score\n",
    "\n",
    "n=40\n",
    "k=1\n",
    "\n",
    "Adjusted_r2 = 1 - (((1-r2)*(n-1))/(n-1-k))"
   ]
  },
  {
   "cell_type": "code",
   "execution_count": 28,
   "id": "4709bd73",
   "metadata": {
    "execution": {
     "iopub.execute_input": "2025-03-26T16:45:54.039781Z",
     "iopub.status.busy": "2025-03-26T16:45:54.039365Z",
     "iopub.status.idle": "2025-03-26T16:45:54.044516Z",
     "shell.execute_reply": "2025-03-26T16:45:54.043307Z"
    },
    "papermill": {
     "duration": 0.017012,
     "end_time": "2025-03-26T16:45:54.046277",
     "exception": false,
     "start_time": "2025-03-26T16:45:54.029265",
     "status": "completed"
    },
    "tags": []
   },
   "outputs": [
    {
     "name": "stdout",
     "output_type": "stream",
     "text": [
      "0.7267920050916599\n"
     ]
    }
   ],
   "source": [
    "print(Adjusted_r2)"
   ]
  },
  {
   "cell_type": "code",
   "execution_count": null,
   "id": "6dd7500d",
   "metadata": {
    "papermill": {
     "duration": 0.008421,
     "end_time": "2025-03-26T16:45:54.063571",
     "exception": false,
     "start_time": "2025-03-26T16:45:54.055150",
     "status": "completed"
    },
    "tags": []
   },
   "outputs": [],
   "source": []
  }
 ],
 "metadata": {
  "kaggle": {
   "accelerator": "none",
   "dataSources": [
    {
     "datasetId": 3530282,
     "sourceId": 6154694,
     "sourceType": "datasetVersion"
    },
    {
     "datasetId": 6948929,
     "sourceId": 11140138,
     "sourceType": "datasetVersion"
    }
   ],
   "dockerImageVersionId": 30918,
   "isGpuEnabled": false,
   "isInternetEnabled": true,
   "language": "python",
   "sourceType": "notebook"
  },
  "kernelspec": {
   "display_name": "Python 3",
   "language": "python",
   "name": "python3"
  },
  "language_info": {
   "codemirror_mode": {
    "name": "ipython",
    "version": 3
   },
   "file_extension": ".py",
   "mimetype": "text/x-python",
   "name": "python",
   "nbconvert_exporter": "python",
   "pygments_lexer": "ipython3",
   "version": "3.10.12"
  },
  "papermill": {
   "default_parameters": {},
   "duration": 7.337582,
   "end_time": "2025-03-26T16:45:54.792992",
   "environment_variables": {},
   "exception": null,
   "input_path": "__notebook__.ipynb",
   "output_path": "__notebook__.ipynb",
   "parameters": {},
   "start_time": "2025-03-26T16:45:47.455410",
   "version": "2.6.0"
  }
 },
 "nbformat": 4,
 "nbformat_minor": 5
}
