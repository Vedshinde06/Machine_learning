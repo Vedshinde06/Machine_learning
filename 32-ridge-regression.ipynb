{
 "cells": [
  {
   "cell_type": "code",
   "execution_count": 1,
   "id": "f349a419",
   "metadata": {
    "_cell_guid": "b1076dfc-b9ad-4769-8c92-a6c4dae69d19",
    "_uuid": "8f2839f25d086af736a60e9eeb907d3b93b6e0e5",
    "execution": {
     "iopub.execute_input": "2025-07-28T10:59:59.059725Z",
     "iopub.status.busy": "2025-07-28T10:59:59.059357Z",
     "iopub.status.idle": "2025-07-28T11:00:01.004824Z",
     "shell.execute_reply": "2025-07-28T11:00:01.003827Z"
    },
    "papermill": {
     "duration": 1.951304,
     "end_time": "2025-07-28T11:00:01.006511",
     "exception": false,
     "start_time": "2025-07-28T10:59:59.055207",
     "status": "completed"
    },
    "tags": []
   },
   "outputs": [],
   "source": [
    "# This Python 3 environment comes with many helpful analytics libraries installed\n",
    "# It is defined by the kaggle/python Docker image: https://github.com/kaggle/docker-python\n",
    "# For example, here's several helpful packages to load\n",
    "\n",
    "import numpy as np # linear algebra\n",
    "import pandas as pd # data processing, CSV file I/O (e.g. pd.read_csv)\n",
    "\n",
    "# Input data files are available in the read-only \"../input/\" directory\n",
    "# For example, running this (by clicking run or pressing Shift+Enter) will list all files under the input directory\n",
    "\n",
    "import os\n",
    "for dirname, _, filenames in os.walk('/kaggle/input'):\n",
    "    for filename in filenames:\n",
    "        print(os.path.join(dirname, filename))\n",
    "\n",
    "# You can write up to 20GB to the current directory (/kaggle/working/) that gets preserved as output when you create a version using \"Save & Run All\" \n",
    "# You can also write temporary files to /kaggle/temp/, but they won't be saved outside of the current session"
   ]
  },
  {
   "cell_type": "code",
   "execution_count": 2,
   "id": "e5072a71",
   "metadata": {
    "execution": {
     "iopub.execute_input": "2025-07-28T11:00:01.013183Z",
     "iopub.status.busy": "2025-07-28T11:00:01.012724Z",
     "iopub.status.idle": "2025-07-28T11:00:02.935425Z",
     "shell.execute_reply": "2025-07-28T11:00:02.934089Z"
    },
    "papermill": {
     "duration": 1.928238,
     "end_time": "2025-07-28T11:00:02.937692",
     "exception": false,
     "start_time": "2025-07-28T11:00:01.009454",
     "status": "completed"
    },
    "tags": []
   },
   "outputs": [],
   "source": [
    "from  sklearn.datasets import load_diabetes"
   ]
  },
  {
   "cell_type": "code",
   "execution_count": 3,
   "id": "3860d6d6",
   "metadata": {
    "execution": {
     "iopub.execute_input": "2025-07-28T11:00:02.944088Z",
     "iopub.status.busy": "2025-07-28T11:00:02.943633Z",
     "iopub.status.idle": "2025-07-28T11:00:02.961447Z",
     "shell.execute_reply": "2025-07-28T11:00:02.960118Z"
    },
    "papermill": {
     "duration": 0.023408,
     "end_time": "2025-07-28T11:00:02.963717",
     "exception": false,
     "start_time": "2025-07-28T11:00:02.940309",
     "status": "completed"
    },
    "tags": []
   },
   "outputs": [],
   "source": [
    "DB = load_diabetes()"
   ]
  },
  {
   "cell_type": "code",
   "execution_count": 4,
   "id": "be6a274b",
   "metadata": {
    "execution": {
     "iopub.execute_input": "2025-07-28T11:00:02.972751Z",
     "iopub.status.busy": "2025-07-28T11:00:02.971883Z",
     "iopub.status.idle": "2025-07-28T11:00:02.976800Z",
     "shell.execute_reply": "2025-07-28T11:00:02.975562Z"
    },
    "papermill": {
     "duration": 0.009945,
     "end_time": "2025-07-28T11:00:02.978274",
     "exception": false,
     "start_time": "2025-07-28T11:00:02.968329",
     "status": "completed"
    },
    "tags": []
   },
   "outputs": [],
   "source": [
    "X = DB.data\n",
    "Y = DB.target"
   ]
  },
  {
   "cell_type": "code",
   "execution_count": 5,
   "id": "3531d35d",
   "metadata": {
    "execution": {
     "iopub.execute_input": "2025-07-28T11:00:02.985377Z",
     "iopub.status.busy": "2025-07-28T11:00:02.983973Z",
     "iopub.status.idle": "2025-07-28T11:00:03.120477Z",
     "shell.execute_reply": "2025-07-28T11:00:03.119634Z"
    },
    "papermill": {
     "duration": 0.142122,
     "end_time": "2025-07-28T11:00:03.122872",
     "exception": false,
     "start_time": "2025-07-28T11:00:02.980750",
     "status": "completed"
    },
    "tags": []
   },
   "outputs": [],
   "source": [
    "from sklearn.model_selection import train_test_split\n",
    "\n",
    "x_train,x_test,y_train,y_test = train_test_split(X,Y,test_size=0.2,random_state=42)"
   ]
  },
  {
   "cell_type": "code",
   "execution_count": 6,
   "id": "309e39aa",
   "metadata": {
    "execution": {
     "iopub.execute_input": "2025-07-28T11:00:03.128825Z",
     "iopub.status.busy": "2025-07-28T11:00:03.128538Z",
     "iopub.status.idle": "2025-07-28T11:00:03.238046Z",
     "shell.execute_reply": "2025-07-28T11:00:03.237244Z"
    },
    "papermill": {
     "duration": 0.114176,
     "end_time": "2025-07-28T11:00:03.239574",
     "exception": false,
     "start_time": "2025-07-28T11:00:03.125398",
     "status": "completed"
    },
    "tags": []
   },
   "outputs": [],
   "source": [
    "from sklearn.linear_model import Ridge\n",
    "\n",
    "RL = Ridge(alpha=100000)"
   ]
  },
  {
   "cell_type": "code",
   "execution_count": 7,
   "id": "629dcd53",
   "metadata": {
    "execution": {
     "iopub.execute_input": "2025-07-28T11:00:03.245943Z",
     "iopub.status.busy": "2025-07-28T11:00:03.245620Z",
     "iopub.status.idle": "2025-07-28T11:00:03.307107Z",
     "shell.execute_reply": "2025-07-28T11:00:03.306264Z"
    },
    "papermill": {
     "duration": 0.066321,
     "end_time": "2025-07-28T11:00:03.308525",
     "exception": false,
     "start_time": "2025-07-28T11:00:03.242204",
     "status": "completed"
    },
    "tags": []
   },
   "outputs": [
    {
     "data": {
      "text/html": [
       "<style>#sk-container-id-1 {color: black;background-color: white;}#sk-container-id-1 pre{padding: 0;}#sk-container-id-1 div.sk-toggleable {background-color: white;}#sk-container-id-1 label.sk-toggleable__label {cursor: pointer;display: block;width: 100%;margin-bottom: 0;padding: 0.3em;box-sizing: border-box;text-align: center;}#sk-container-id-1 label.sk-toggleable__label-arrow:before {content: \"▸\";float: left;margin-right: 0.25em;color: #696969;}#sk-container-id-1 label.sk-toggleable__label-arrow:hover:before {color: black;}#sk-container-id-1 div.sk-estimator:hover label.sk-toggleable__label-arrow:before {color: black;}#sk-container-id-1 div.sk-toggleable__content {max-height: 0;max-width: 0;overflow: hidden;text-align: left;background-color: #f0f8ff;}#sk-container-id-1 div.sk-toggleable__content pre {margin: 0.2em;color: black;border-radius: 0.25em;background-color: #f0f8ff;}#sk-container-id-1 input.sk-toggleable__control:checked~div.sk-toggleable__content {max-height: 200px;max-width: 100%;overflow: auto;}#sk-container-id-1 input.sk-toggleable__control:checked~label.sk-toggleable__label-arrow:before {content: \"▾\";}#sk-container-id-1 div.sk-estimator input.sk-toggleable__control:checked~label.sk-toggleable__label {background-color: #d4ebff;}#sk-container-id-1 div.sk-label input.sk-toggleable__control:checked~label.sk-toggleable__label {background-color: #d4ebff;}#sk-container-id-1 input.sk-hidden--visually {border: 0;clip: rect(1px 1px 1px 1px);clip: rect(1px, 1px, 1px, 1px);height: 1px;margin: -1px;overflow: hidden;padding: 0;position: absolute;width: 1px;}#sk-container-id-1 div.sk-estimator {font-family: monospace;background-color: #f0f8ff;border: 1px dotted black;border-radius: 0.25em;box-sizing: border-box;margin-bottom: 0.5em;}#sk-container-id-1 div.sk-estimator:hover {background-color: #d4ebff;}#sk-container-id-1 div.sk-parallel-item::after {content: \"\";width: 100%;border-bottom: 1px solid gray;flex-grow: 1;}#sk-container-id-1 div.sk-label:hover label.sk-toggleable__label {background-color: #d4ebff;}#sk-container-id-1 div.sk-serial::before {content: \"\";position: absolute;border-left: 1px solid gray;box-sizing: border-box;top: 0;bottom: 0;left: 50%;z-index: 0;}#sk-container-id-1 div.sk-serial {display: flex;flex-direction: column;align-items: center;background-color: white;padding-right: 0.2em;padding-left: 0.2em;position: relative;}#sk-container-id-1 div.sk-item {position: relative;z-index: 1;}#sk-container-id-1 div.sk-parallel {display: flex;align-items: stretch;justify-content: center;background-color: white;position: relative;}#sk-container-id-1 div.sk-item::before, #sk-container-id-1 div.sk-parallel-item::before {content: \"\";position: absolute;border-left: 1px solid gray;box-sizing: border-box;top: 0;bottom: 0;left: 50%;z-index: -1;}#sk-container-id-1 div.sk-parallel-item {display: flex;flex-direction: column;z-index: 1;position: relative;background-color: white;}#sk-container-id-1 div.sk-parallel-item:first-child::after {align-self: flex-end;width: 50%;}#sk-container-id-1 div.sk-parallel-item:last-child::after {align-self: flex-start;width: 50%;}#sk-container-id-1 div.sk-parallel-item:only-child::after {width: 0;}#sk-container-id-1 div.sk-dashed-wrapped {border: 1px dashed gray;margin: 0 0.4em 0.5em 0.4em;box-sizing: border-box;padding-bottom: 0.4em;background-color: white;}#sk-container-id-1 div.sk-label label {font-family: monospace;font-weight: bold;display: inline-block;line-height: 1.2em;}#sk-container-id-1 div.sk-label-container {text-align: center;}#sk-container-id-1 div.sk-container {/* jupyter's `normalize.less` sets `[hidden] { display: none; }` but bootstrap.min.css set `[hidden] { display: none !important; }` so we also need the `!important` here to be able to override the default hidden behavior on the sphinx rendered scikit-learn.org. See: https://github.com/scikit-learn/scikit-learn/issues/21755 */display: inline-block !important;position: relative;}#sk-container-id-1 div.sk-text-repr-fallback {display: none;}</style><div id=\"sk-container-id-1\" class=\"sk-top-container\"><div class=\"sk-text-repr-fallback\"><pre>Ridge(alpha=100000)</pre><b>In a Jupyter environment, please rerun this cell to show the HTML representation or trust the notebook. <br />On GitHub, the HTML representation is unable to render, please try loading this page with nbviewer.org.</b></div><div class=\"sk-container\" hidden><div class=\"sk-item\"><div class=\"sk-estimator sk-toggleable\"><input class=\"sk-toggleable__control sk-hidden--visually\" id=\"sk-estimator-id-1\" type=\"checkbox\" checked><label for=\"sk-estimator-id-1\" class=\"sk-toggleable__label sk-toggleable__label-arrow\">Ridge</label><div class=\"sk-toggleable__content\"><pre>Ridge(alpha=100000)</pre></div></div></div></div></div>"
      ],
      "text/plain": [
       "Ridge(alpha=100000)"
      ]
     },
     "execution_count": 7,
     "metadata": {},
     "output_type": "execute_result"
    }
   ],
   "source": [
    "RL.fit(x_train,y_train)"
   ]
  },
  {
   "cell_type": "code",
   "execution_count": 8,
   "id": "b3bd9c57",
   "metadata": {
    "execution": {
     "iopub.execute_input": "2025-07-28T11:00:03.314998Z",
     "iopub.status.busy": "2025-07-28T11:00:03.314663Z",
     "iopub.status.idle": "2025-07-28T11:00:03.319278Z",
     "shell.execute_reply": "2025-07-28T11:00:03.318397Z"
    },
    "papermill": {
     "duration": 0.009887,
     "end_time": "2025-07-28T11:00:03.321297",
     "exception": false,
     "start_time": "2025-07-28T11:00:03.311410",
     "status": "completed"
    },
    "tags": []
   },
   "outputs": [],
   "source": [
    "y_pred = RL.predict(x_test)"
   ]
  },
  {
   "cell_type": "code",
   "execution_count": 9,
   "id": "18afb92a",
   "metadata": {
    "execution": {
     "iopub.execute_input": "2025-07-28T11:00:03.327516Z",
     "iopub.status.busy": "2025-07-28T11:00:03.327225Z",
     "iopub.status.idle": "2025-07-28T11:00:03.335000Z",
     "shell.execute_reply": "2025-07-28T11:00:03.334113Z"
    },
    "papermill": {
     "duration": 0.01256,
     "end_time": "2025-07-28T11:00:03.336462",
     "exception": false,
     "start_time": "2025-07-28T11:00:03.323902",
     "status": "completed"
    },
    "tags": []
   },
   "outputs": [
    {
     "name": "stdout",
     "output_type": "stream",
     "text": [
      "Mean squared error 5361.3998833205505\n",
      "Root Mean squared error 73.2215807212638\n",
      "r2 score -2708978557.6323276\n"
     ]
    }
   ],
   "source": [
    "from sklearn.metrics import r2_score,mean_squared_error\n",
    "\n",
    "MSE = mean_squared_error(y_test,y_pred)\n",
    "RMSE = np.sqrt(mean_squared_error(y_test,y_pred))\n",
    "r2 = r2_score(y_pred,y_test)\n",
    "\n",
    "print(\"Mean squared error\",MSE)\n",
    "print(\"Root Mean squared error\",RMSE)\n",
    "print(\"r2 score\",r2)\n",
    "\n",
    "#hige error due to nonlinear data"
   ]
  },
  {
   "cell_type": "code",
   "execution_count": null,
   "id": "b502d342",
   "metadata": {
    "papermill": {
     "duration": 0.002583,
     "end_time": "2025-07-28T11:00:03.342072",
     "exception": false,
     "start_time": "2025-07-28T11:00:03.339489",
     "status": "completed"
    },
    "tags": []
   },
   "outputs": [],
   "source": []
  }
 ],
 "metadata": {
  "kaggle": {
   "accelerator": "none",
   "dataSources": [],
   "dockerImageVersionId": 31089,
   "isGpuEnabled": false,
   "isInternetEnabled": true,
   "language": "python",
   "sourceType": "notebook"
  },
  "kernelspec": {
   "display_name": "Python 3",
   "language": "python",
   "name": "python3"
  },
  "language_info": {
   "codemirror_mode": {
    "name": "ipython",
    "version": 3
   },
   "file_extension": ".py",
   "mimetype": "text/x-python",
   "name": "python",
   "nbconvert_exporter": "python",
   "pygments_lexer": "ipython3",
   "version": "3.11.13"
  },
  "papermill": {
   "default_parameters": {},
   "duration": 9.970807,
   "end_time": "2025-07-28T11:00:04.064509",
   "environment_variables": {},
   "exception": null,
   "input_path": "__notebook__.ipynb",
   "output_path": "__notebook__.ipynb",
   "parameters": {},
   "start_time": "2025-07-28T10:59:54.093702",
   "version": "2.6.0"
  }
 },
 "nbformat": 4,
 "nbformat_minor": 5
}
