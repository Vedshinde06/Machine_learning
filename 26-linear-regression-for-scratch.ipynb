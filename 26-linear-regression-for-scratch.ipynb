{
 "cells": [
  {
   "cell_type": "code",
   "execution_count": 1,
   "id": "cf042cf9",
   "metadata": {
    "_cell_guid": "b1076dfc-b9ad-4769-8c92-a6c4dae69d19",
    "_uuid": "8f2839f25d086af736a60e9eeb907d3b93b6e0e5",
    "execution": {
     "iopub.execute_input": "2025-03-25T18:25:13.796383Z",
     "iopub.status.busy": "2025-03-25T18:25:13.796001Z",
     "iopub.status.idle": "2025-03-25T18:25:14.644908Z",
     "shell.execute_reply": "2025-03-25T18:25:14.643746Z"
    },
    "papermill": {
     "duration": 0.855562,
     "end_time": "2025-03-25T18:25:14.646492",
     "exception": false,
     "start_time": "2025-03-25T18:25:13.790930",
     "status": "completed"
    },
    "tags": []
   },
   "outputs": [
    {
     "name": "stdout",
     "output_type": "stream",
     "text": [
      "/kaggle/input/placement-package/1placement.csv\n"
     ]
    }
   ],
   "source": [
    "# This Python 3 environment comes with many helpful analytics libraries installed\n",
    "# It is defined by the kaggle/python Docker image: https://github.com/kaggle/docker-python\n",
    "# For example, here's several helpful packages to load\n",
    "\n",
    "import numpy as np # linear algebra\n",
    "import pandas as pd # data processing, CSV file I/O (e.g. pd.read_csv)\n",
    "\n",
    "# Input data files are available in the read-only \"../input/\" directory\n",
    "# For example, running this (by clicking run or pressing Shift+Enter) will list all files under the input directory\n",
    "\n",
    "import os\n",
    "for dirname, _, filenames in os.walk('/kaggle/input'):\n",
    "    for filename in filenames:\n",
    "        print(os.path.join(dirname, filename))\n",
    "\n",
    "# You can write up to 20GB to the current directory (/kaggle/working/) that gets preserved as output when you create a version using \"Save & Run All\" \n",
    "# You can also write temporary files to /kaggle/temp/, but they won't be saved outside of the current session"
   ]
  },
  {
   "cell_type": "code",
   "execution_count": 2,
   "id": "dda0a7f4",
   "metadata": {
    "execution": {
     "iopub.execute_input": "2025-03-25T18:25:14.655998Z",
     "iopub.status.busy": "2025-03-25T18:25:14.655486Z",
     "iopub.status.idle": "2025-03-25T18:25:14.662323Z",
     "shell.execute_reply": "2025-03-25T18:25:14.661279Z"
    },
    "papermill": {
     "duration": 0.013248,
     "end_time": "2025-03-25T18:25:14.664232",
     "exception": false,
     "start_time": "2025-03-25T18:25:14.650984",
     "status": "completed"
    },
    "tags": []
   },
   "outputs": [],
   "source": [
    "class my_LR:\n",
    "\n",
    "    def __init__(self):\n",
    "        self.m = None\n",
    "        self.b = None\n",
    "\n",
    "    def fit(self,x_train,y_train):\n",
    "\n",
    "        num = 0\n",
    "        den = 0\n",
    "\n",
    "        for i in range(x_train.shape[0]):\n",
    "            \n",
    "            num = num + ((x_train[i] - x_train.mean()) * (y_train[i] - y_train.mean()))\n",
    "            den = den + ((x_train[i] - x_train.mean()) * (x_train[i] - x_train.mean()))\n",
    "\n",
    "        self.m = (num) / (den)\n",
    "        self.b = y_train.mean() - (self.m * x_train.mean())\n",
    "\n",
    "        print(self.m)\n",
    "        print(self.b)\n",
    "    \n",
    "    def predict(self,x_test):\n",
    "\n",
    "        return self.m * x_test + self.b"
   ]
  },
  {
   "cell_type": "code",
   "execution_count": 3,
   "id": "76ca5275",
   "metadata": {
    "execution": {
     "iopub.execute_input": "2025-03-25T18:25:14.672822Z",
     "iopub.status.busy": "2025-03-25T18:25:14.672416Z",
     "iopub.status.idle": "2025-03-25T18:25:14.684872Z",
     "shell.execute_reply": "2025-03-25T18:25:14.683881Z"
    },
    "papermill": {
     "duration": 0.019092,
     "end_time": "2025-03-25T18:25:14.687005",
     "exception": false,
     "start_time": "2025-03-25T18:25:14.667913",
     "status": "completed"
    },
    "tags": []
   },
   "outputs": [],
   "source": [
    "df = pd.read_csv('/kaggle/input/placement-package/1placement.csv')"
   ]
  },
  {
   "cell_type": "code",
   "execution_count": 4,
   "id": "ea35e096",
   "metadata": {
    "execution": {
     "iopub.execute_input": "2025-03-25T18:25:14.695499Z",
     "iopub.status.busy": "2025-03-25T18:25:14.695143Z",
     "iopub.status.idle": "2025-03-25T18:25:14.720012Z",
     "shell.execute_reply": "2025-03-25T18:25:14.718795Z"
    },
    "papermill": {
     "duration": 0.031138,
     "end_time": "2025-03-25T18:25:14.721889",
     "exception": false,
     "start_time": "2025-03-25T18:25:14.690751",
     "status": "completed"
    },
    "tags": []
   },
   "outputs": [
    {
     "data": {
      "text/html": [
       "<div>\n",
       "<style scoped>\n",
       "    .dataframe tbody tr th:only-of-type {\n",
       "        vertical-align: middle;\n",
       "    }\n",
       "\n",
       "    .dataframe tbody tr th {\n",
       "        vertical-align: top;\n",
       "    }\n",
       "\n",
       "    .dataframe thead th {\n",
       "        text-align: right;\n",
       "    }\n",
       "</style>\n",
       "<table border=\"1\" class=\"dataframe\">\n",
       "  <thead>\n",
       "    <tr style=\"text-align: right;\">\n",
       "      <th></th>\n",
       "      <th>cgpa</th>\n",
       "      <th>package</th>\n",
       "    </tr>\n",
       "  </thead>\n",
       "  <tbody>\n",
       "    <tr>\n",
       "      <th>0</th>\n",
       "      <td>6.89</td>\n",
       "      <td>3.26</td>\n",
       "    </tr>\n",
       "    <tr>\n",
       "      <th>1</th>\n",
       "      <td>5.12</td>\n",
       "      <td>1.98</td>\n",
       "    </tr>\n",
       "    <tr>\n",
       "      <th>2</th>\n",
       "      <td>7.82</td>\n",
       "      <td>3.25</td>\n",
       "    </tr>\n",
       "    <tr>\n",
       "      <th>3</th>\n",
       "      <td>7.42</td>\n",
       "      <td>3.67</td>\n",
       "    </tr>\n",
       "    <tr>\n",
       "      <th>4</th>\n",
       "      <td>6.94</td>\n",
       "      <td>3.57</td>\n",
       "    </tr>\n",
       "  </tbody>\n",
       "</table>\n",
       "</div>"
      ],
      "text/plain": [
       "   cgpa  package\n",
       "0  6.89     3.26\n",
       "1  5.12     1.98\n",
       "2  7.82     3.25\n",
       "3  7.42     3.67\n",
       "4  6.94     3.57"
      ]
     },
     "execution_count": 4,
     "metadata": {},
     "output_type": "execute_result"
    }
   ],
   "source": [
    "df.head()"
   ]
  },
  {
   "cell_type": "code",
   "execution_count": 5,
   "id": "d2e1b79e",
   "metadata": {
    "execution": {
     "iopub.execute_input": "2025-03-25T18:25:14.730679Z",
     "iopub.status.busy": "2025-03-25T18:25:14.730331Z",
     "iopub.status.idle": "2025-03-25T18:25:14.736260Z",
     "shell.execute_reply": "2025-03-25T18:25:14.735194Z"
    },
    "papermill": {
     "duration": 0.012207,
     "end_time": "2025-03-25T18:25:14.737955",
     "exception": false,
     "start_time": "2025-03-25T18:25:14.725748",
     "status": "completed"
    },
    "tags": []
   },
   "outputs": [
    {
     "data": {
      "text/plain": [
       "(200, 2)"
      ]
     },
     "execution_count": 5,
     "metadata": {},
     "output_type": "execute_result"
    }
   ],
   "source": [
    "df.shape"
   ]
  },
  {
   "cell_type": "code",
   "execution_count": 6,
   "id": "79bd90e7",
   "metadata": {
    "execution": {
     "iopub.execute_input": "2025-03-25T18:25:14.746848Z",
     "iopub.status.busy": "2025-03-25T18:25:14.746478Z",
     "iopub.status.idle": "2025-03-25T18:25:14.751192Z",
     "shell.execute_reply": "2025-03-25T18:25:14.750172Z"
    },
    "papermill": {
     "duration": 0.010908,
     "end_time": "2025-03-25T18:25:14.752789",
     "exception": false,
     "start_time": "2025-03-25T18:25:14.741881",
     "status": "completed"
    },
    "tags": []
   },
   "outputs": [],
   "source": [
    "x = df.iloc[:,0].values\n",
    "y = df.iloc[:,1].values"
   ]
  },
  {
   "cell_type": "code",
   "execution_count": 7,
   "id": "eb2ef048",
   "metadata": {
    "execution": {
     "iopub.execute_input": "2025-03-25T18:25:14.761775Z",
     "iopub.status.busy": "2025-03-25T18:25:14.761395Z",
     "iopub.status.idle": "2025-03-25T18:25:14.768520Z",
     "shell.execute_reply": "2025-03-25T18:25:14.767507Z"
    },
    "papermill": {
     "duration": 0.013526,
     "end_time": "2025-03-25T18:25:14.770182",
     "exception": false,
     "start_time": "2025-03-25T18:25:14.756656",
     "status": "completed"
    },
    "tags": []
   },
   "outputs": [
    {
     "data": {
      "text/plain": [
       "array([3.26, 1.98, 3.25, 3.67, 3.57, 2.99, 2.6 , 2.48, 2.31, 3.51, 1.86,\n",
       "       2.6 , 3.65, 2.89, 3.42, 3.23, 2.35, 2.09, 2.98, 2.83, 3.16, 2.93,\n",
       "       2.3 , 2.48, 2.71, 3.65, 3.42, 2.16, 2.24, 3.49, 3.26, 3.89, 3.08,\n",
       "       2.73, 3.42, 2.87, 2.84, 2.43, 4.36, 3.33, 4.02, 2.7 , 2.54, 2.76,\n",
       "       1.86, 3.58, 2.26, 3.26, 4.09, 4.62, 4.43, 3.79, 4.11, 2.61, 3.09,\n",
       "       3.39, 2.74, 1.94, 3.09, 3.31, 2.19, 1.61, 2.09, 4.25, 2.92, 3.81,\n",
       "       1.63, 2.89, 2.99, 2.94, 2.35, 3.34, 3.62, 4.03, 3.44, 3.28, 3.15,\n",
       "       4.6 , 2.21, 3.  , 3.44, 2.2 , 2.17, 3.49, 1.53, 1.48, 2.77, 3.55,\n",
       "       1.48, 2.72, 2.66, 2.14, 4.  , 3.08, 2.42, 2.79, 2.61, 2.84, 3.83,\n",
       "       3.24, 4.14, 3.52, 1.37, 3.  , 3.74, 2.82, 2.19, 2.59, 3.54, 4.06,\n",
       "       3.76, 2.25, 4.1 , 2.37, 1.87, 4.21, 3.33, 2.99, 2.88, 2.65, 1.73,\n",
       "       3.02, 2.01, 2.3 , 2.31, 3.16, 2.6 , 3.11, 3.34, 3.12, 2.49, 2.01,\n",
       "       2.48, 2.58, 2.83, 2.6 , 2.1 , 3.13, 3.89, 2.4 , 3.15, 3.18, 3.04,\n",
       "       1.54, 2.42, 2.18, 2.46, 2.21, 3.4 , 3.67, 2.73, 2.76, 3.08, 3.99,\n",
       "       2.85, 3.09, 3.13, 2.7 , 3.04, 4.08, 2.93, 3.33, 2.55, 3.91, 3.82,\n",
       "       4.08, 3.98, 3.6 , 3.52, 4.37, 2.87, 3.76, 2.51, 2.56, 2.99, 3.5 ,\n",
       "       3.23, 3.64, 3.63, 3.03, 2.72, 3.89, 2.08, 2.72, 3.14, 3.18, 3.47,\n",
       "       2.44, 3.08, 4.06, 2.69, 3.48, 3.75, 1.94, 3.67, 2.46, 2.57, 3.24,\n",
       "       3.96, 2.33])"
      ]
     },
     "execution_count": 7,
     "metadata": {},
     "output_type": "execute_result"
    }
   ],
   "source": [
    "y"
   ]
  },
  {
   "cell_type": "code",
   "execution_count": 8,
   "id": "eda48679",
   "metadata": {
    "execution": {
     "iopub.execute_input": "2025-03-25T18:25:14.779323Z",
     "iopub.status.busy": "2025-03-25T18:25:14.778910Z",
     "iopub.status.idle": "2025-03-25T18:25:16.209790Z",
     "shell.execute_reply": "2025-03-25T18:25:16.208767Z"
    },
    "papermill": {
     "duration": 1.437515,
     "end_time": "2025-03-25T18:25:16.211724",
     "exception": false,
     "start_time": "2025-03-25T18:25:14.774209",
     "status": "completed"
    },
    "tags": []
   },
   "outputs": [],
   "source": [
    "from sklearn.model_selection import train_test_split\n",
    "x_train,x_test,y_train,y_test = train_test_split(x,y,test_size=0.2, random_state=42)"
   ]
  },
  {
   "cell_type": "code",
   "execution_count": 9,
   "id": "01f95ef6",
   "metadata": {
    "execution": {
     "iopub.execute_input": "2025-03-25T18:25:16.221146Z",
     "iopub.status.busy": "2025-03-25T18:25:16.220635Z",
     "iopub.status.idle": "2025-03-25T18:25:16.226383Z",
     "shell.execute_reply": "2025-03-25T18:25:16.225463Z"
    },
    "papermill": {
     "duration": 0.012392,
     "end_time": "2025-03-25T18:25:16.228103",
     "exception": false,
     "start_time": "2025-03-25T18:25:16.215711",
     "status": "completed"
    },
    "tags": []
   },
   "outputs": [
    {
     "data": {
      "text/plain": [
       "(160,)"
      ]
     },
     "execution_count": 9,
     "metadata": {},
     "output_type": "execute_result"
    }
   ],
   "source": [
    "x_train.shape"
   ]
  },
  {
   "cell_type": "code",
   "execution_count": 10,
   "id": "b919a748",
   "metadata": {
    "execution": {
     "iopub.execute_input": "2025-03-25T18:25:16.237502Z",
     "iopub.status.busy": "2025-03-25T18:25:16.237152Z",
     "iopub.status.idle": "2025-03-25T18:25:16.241435Z",
     "shell.execute_reply": "2025-03-25T18:25:16.240475Z"
    },
    "papermill": {
     "duration": 0.010798,
     "end_time": "2025-03-25T18:25:16.243103",
     "exception": false,
     "start_time": "2025-03-25T18:25:16.232305",
     "status": "completed"
    },
    "tags": []
   },
   "outputs": [],
   "source": [
    "lr = my_LR()"
   ]
  },
  {
   "cell_type": "code",
   "execution_count": 11,
   "id": "e13720f2",
   "metadata": {
    "execution": {
     "iopub.execute_input": "2025-03-25T18:25:16.252184Z",
     "iopub.status.busy": "2025-03-25T18:25:16.251844Z",
     "iopub.status.idle": "2025-03-25T18:25:16.260924Z",
     "shell.execute_reply": "2025-03-25T18:25:16.259882Z"
    },
    "papermill": {
     "duration": 0.01549,
     "end_time": "2025-03-25T18:25:16.262566",
     "exception": false,
     "start_time": "2025-03-25T18:25:16.247076",
     "status": "completed"
    },
    "tags": []
   },
   "outputs": [
    {
     "name": "stdout",
     "output_type": "stream",
     "text": [
      "0.5742564727019196\n",
      "-1.0270069374542103\n"
     ]
    }
   ],
   "source": [
    "lr.fit(x_train,y_train)"
   ]
  },
  {
   "cell_type": "code",
   "execution_count": 12,
   "id": "627cfa65",
   "metadata": {
    "execution": {
     "iopub.execute_input": "2025-03-25T18:25:16.272146Z",
     "iopub.status.busy": "2025-03-25T18:25:16.271795Z",
     "iopub.status.idle": "2025-03-25T18:25:16.277309Z",
     "shell.execute_reply": "2025-03-25T18:25:16.276418Z"
    },
    "papermill": {
     "duration": 0.012365,
     "end_time": "2025-03-25T18:25:16.279086",
     "exception": false,
     "start_time": "2025-03-25T18:25:16.266721",
     "status": "completed"
    },
    "tags": []
   },
   "outputs": [
    {
     "data": {
      "text/plain": [
       "6.63"
      ]
     },
     "execution_count": 12,
     "metadata": {},
     "output_type": "execute_result"
    }
   ],
   "source": [
    "x_test[0]"
   ]
  },
  {
   "cell_type": "code",
   "execution_count": 13,
   "id": "9e38bce4",
   "metadata": {
    "execution": {
     "iopub.execute_input": "2025-03-25T18:25:16.288618Z",
     "iopub.status.busy": "2025-03-25T18:25:16.288263Z",
     "iopub.status.idle": "2025-03-25T18:25:16.293973Z",
     "shell.execute_reply": "2025-03-25T18:25:16.293001Z"
    },
    "papermill": {
     "duration": 0.012155,
     "end_time": "2025-03-25T18:25:16.295478",
     "exception": false,
     "start_time": "2025-03-25T18:25:16.283323",
     "status": "completed"
    },
    "tags": []
   },
   "outputs": [
    {
     "data": {
      "text/plain": [
       "2.7803134765595163"
      ]
     },
     "execution_count": 13,
     "metadata": {},
     "output_type": "execute_result"
    }
   ],
   "source": [
    "lr.predict(x_test[0])"
   ]
  },
  {
   "cell_type": "code",
   "execution_count": null,
   "id": "7ce3146c",
   "metadata": {
    "papermill": {
     "duration": 0.003764,
     "end_time": "2025-03-25T18:25:16.303523",
     "exception": false,
     "start_time": "2025-03-25T18:25:16.299759",
     "status": "completed"
    },
    "tags": []
   },
   "outputs": [],
   "source": []
  }
 ],
 "metadata": {
  "kaggle": {
   "accelerator": "none",
   "dataSources": [
    {
     "datasetId": 6948929,
     "sourceId": 11140138,
     "sourceType": "datasetVersion"
    }
   ],
   "dockerImageVersionId": 30918,
   "isGpuEnabled": false,
   "isInternetEnabled": true,
   "language": "python",
   "sourceType": "notebook"
  },
  "kernelspec": {
   "display_name": "Python 3",
   "language": "python",
   "name": "python3"
  },
  "language_info": {
   "codemirror_mode": {
    "name": "ipython",
    "version": 3
   },
   "file_extension": ".py",
   "mimetype": "text/x-python",
   "name": "python",
   "nbconvert_exporter": "python",
   "pygments_lexer": "ipython3",
   "version": "3.10.12"
  },
  "papermill": {
   "default_parameters": {},
   "duration": 5.96473,
   "end_time": "2025-03-25T18:25:17.029369",
   "environment_variables": {},
   "exception": null,
   "input_path": "__notebook__.ipynb",
   "output_path": "__notebook__.ipynb",
   "parameters": {},
   "start_time": "2025-03-25T18:25:11.064639",
   "version": "2.6.0"
  }
 },
 "nbformat": 4,
 "nbformat_minor": 5
}
