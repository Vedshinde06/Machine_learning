{
 "cells": [
  {
   "cell_type": "code",
   "execution_count": 1,
   "id": "2f59baf7",
   "metadata": {
    "_cell_guid": "b1076dfc-b9ad-4769-8c92-a6c4dae69d19",
    "_uuid": "8f2839f25d086af736a60e9eeb907d3b93b6e0e5",
    "execution": {
     "iopub.execute_input": "2025-03-27T17:57:25.968634Z",
     "iopub.status.busy": "2025-03-27T17:57:25.968294Z",
     "iopub.status.idle": "2025-03-27T17:57:27.019955Z",
     "shell.execute_reply": "2025-03-27T17:57:27.019027Z"
    },
    "papermill": {
     "duration": 1.0607,
     "end_time": "2025-03-27T17:57:27.021875",
     "exception": false,
     "start_time": "2025-03-27T17:57:25.961175",
     "status": "completed"
    },
    "tags": []
   },
   "outputs": [],
   "source": [
    "# This Python 3 environment comes with many helpful analytics libraries installed\n",
    "# It is defined by the kaggle/python Docker image: https://github.com/kaggle/docker-python\n",
    "# For example, here's several helpful packages to load\n",
    "\n",
    "import numpy as np # linear algebra\n",
    "import pandas as pd # data processing, CSV file I/O (e.g. pd.read_csv)\n",
    "\n",
    "# Input data files are available in the read-only \"../input/\" directory\n",
    "# For example, running this (by clicking run or pressing Shift+Enter) will list all files under the input directory\n",
    "\n",
    "import os\n",
    "for dirname, _, filenames in os.walk('/kaggle/input'):\n",
    "    for filename in filenames:\n",
    "        print(os.path.join(dirname, filename))\n",
    "\n",
    "# You can write up to 20GB to the current directory (/kaggle/working/) that gets preserved as output when you create a version using \"Save & Run All\" \n",
    "# You can also write temporary files to /kaggle/temp/, but they won't be saved outside of the current session"
   ]
  },
  {
   "cell_type": "code",
   "execution_count": 2,
   "id": "228c3182",
   "metadata": {
    "execution": {
     "iopub.execute_input": "2025-03-27T17:57:27.034501Z",
     "iopub.status.busy": "2025-03-27T17:57:27.033940Z",
     "iopub.status.idle": "2025-03-27T17:57:28.662203Z",
     "shell.execute_reply": "2025-03-27T17:57:28.661312Z"
    },
    "papermill": {
     "duration": 1.636545,
     "end_time": "2025-03-27T17:57:28.664005",
     "exception": false,
     "start_time": "2025-03-27T17:57:27.027460",
     "status": "completed"
    },
    "tags": []
   },
   "outputs": [],
   "source": [
    "from sklearn.datasets import load_diabetes"
   ]
  },
  {
   "cell_type": "code",
   "execution_count": 3,
   "id": "743edc70",
   "metadata": {
    "execution": {
     "iopub.execute_input": "2025-03-27T17:57:28.675655Z",
     "iopub.status.busy": "2025-03-27T17:57:28.675192Z",
     "iopub.status.idle": "2025-03-27T17:57:28.692016Z",
     "shell.execute_reply": "2025-03-27T17:57:28.691199Z"
    },
    "papermill": {
     "duration": 0.024514,
     "end_time": "2025-03-27T17:57:28.693768",
     "exception": false,
     "start_time": "2025-03-27T17:57:28.669254",
     "status": "completed"
    },
    "tags": []
   },
   "outputs": [],
   "source": [
    "X,y = load_diabetes(return_X_y=True)"
   ]
  },
  {
   "cell_type": "code",
   "execution_count": 4,
   "id": "b4c2ff64",
   "metadata": {
    "execution": {
     "iopub.execute_input": "2025-03-27T17:57:28.705348Z",
     "iopub.status.busy": "2025-03-27T17:57:28.704970Z",
     "iopub.status.idle": "2025-03-27T17:57:28.711763Z",
     "shell.execute_reply": "2025-03-27T17:57:28.710782Z"
    },
    "papermill": {
     "duration": 0.014199,
     "end_time": "2025-03-27T17:57:28.713260",
     "exception": false,
     "start_time": "2025-03-27T17:57:28.699061",
     "status": "completed"
    },
    "tags": []
   },
   "outputs": [
    {
     "data": {
      "text/plain": [
       "array([[ 0.03807591,  0.05068012,  0.06169621, ..., -0.00259226,\n",
       "         0.01990749, -0.01764613],\n",
       "       [-0.00188202, -0.04464164, -0.05147406, ..., -0.03949338,\n",
       "        -0.06833155, -0.09220405],\n",
       "       [ 0.08529891,  0.05068012,  0.04445121, ..., -0.00259226,\n",
       "         0.00286131, -0.02593034],\n",
       "       ...,\n",
       "       [ 0.04170844,  0.05068012, -0.01590626, ..., -0.01107952,\n",
       "        -0.04688253,  0.01549073],\n",
       "       [-0.04547248, -0.04464164,  0.03906215, ...,  0.02655962,\n",
       "         0.04452873, -0.02593034],\n",
       "       [-0.04547248, -0.04464164, -0.0730303 , ..., -0.03949338,\n",
       "        -0.00422151,  0.00306441]])"
      ]
     },
     "execution_count": 4,
     "metadata": {},
     "output_type": "execute_result"
    }
   ],
   "source": [
    "X"
   ]
  },
  {
   "cell_type": "code",
   "execution_count": 5,
   "id": "b8b19d0f",
   "metadata": {
    "execution": {
     "iopub.execute_input": "2025-03-27T17:57:28.725263Z",
     "iopub.status.busy": "2025-03-27T17:57:28.724887Z",
     "iopub.status.idle": "2025-03-27T17:57:28.730091Z",
     "shell.execute_reply": "2025-03-27T17:57:28.729189Z"
    },
    "papermill": {
     "duration": 0.012866,
     "end_time": "2025-03-27T17:57:28.731603",
     "exception": false,
     "start_time": "2025-03-27T17:57:28.718737",
     "status": "completed"
    },
    "tags": []
   },
   "outputs": [
    {
     "data": {
      "text/plain": [
       "(442, 10)"
      ]
     },
     "execution_count": 5,
     "metadata": {},
     "output_type": "execute_result"
    }
   ],
   "source": [
    "X.shape"
   ]
  },
  {
   "cell_type": "code",
   "execution_count": 6,
   "id": "3949ed70",
   "metadata": {
    "execution": {
     "iopub.execute_input": "2025-03-27T17:57:28.743484Z",
     "iopub.status.busy": "2025-03-27T17:57:28.743137Z",
     "iopub.status.idle": "2025-03-27T17:57:28.748286Z",
     "shell.execute_reply": "2025-03-27T17:57:28.747331Z"
    },
    "papermill": {
     "duration": 0.012736,
     "end_time": "2025-03-27T17:57:28.749810",
     "exception": false,
     "start_time": "2025-03-27T17:57:28.737074",
     "status": "completed"
    },
    "tags": []
   },
   "outputs": [
    {
     "data": {
      "text/plain": [
       "(442,)"
      ]
     },
     "execution_count": 6,
     "metadata": {},
     "output_type": "execute_result"
    }
   ],
   "source": [
    "y.shape"
   ]
  },
  {
   "cell_type": "code",
   "execution_count": 7,
   "id": "ecf4fc47",
   "metadata": {
    "execution": {
     "iopub.execute_input": "2025-03-27T17:57:28.762101Z",
     "iopub.status.busy": "2025-03-27T17:57:28.761723Z",
     "iopub.status.idle": "2025-03-27T17:57:28.884082Z",
     "shell.execute_reply": "2025-03-27T17:57:28.883321Z"
    },
    "papermill": {
     "duration": 0.130423,
     "end_time": "2025-03-27T17:57:28.885858",
     "exception": false,
     "start_time": "2025-03-27T17:57:28.755435",
     "status": "completed"
    },
    "tags": []
   },
   "outputs": [],
   "source": [
    "from sklearn.model_selection import train_test_split\n",
    "\n",
    "X_train,X_test,Y_train,Y_test = train_test_split(X,y,test_size=0.2,random_state=2)"
   ]
  },
  {
   "cell_type": "code",
   "execution_count": 8,
   "id": "cfc9c005",
   "metadata": {
    "execution": {
     "iopub.execute_input": "2025-03-27T17:57:28.898071Z",
     "iopub.status.busy": "2025-03-27T17:57:28.897708Z",
     "iopub.status.idle": "2025-03-27T17:57:28.903410Z",
     "shell.execute_reply": "2025-03-27T17:57:28.902382Z"
    },
    "papermill": {
     "duration": 0.013436,
     "end_time": "2025-03-27T17:57:28.905035",
     "exception": false,
     "start_time": "2025-03-27T17:57:28.891599",
     "status": "completed"
    },
    "tags": []
   },
   "outputs": [
    {
     "data": {
      "text/plain": [
       "(353, 10)"
      ]
     },
     "execution_count": 8,
     "metadata": {},
     "output_type": "execute_result"
    }
   ],
   "source": [
    "X_train.shape"
   ]
  },
  {
   "cell_type": "markdown",
   "id": "d2e25116",
   "metadata": {
    "papermill": {
     "duration": 0.005267,
     "end_time": "2025-03-27T17:57:28.916578",
     "exception": false,
     "start_time": "2025-03-27T17:57:28.911311",
     "status": "completed"
    },
    "tags": []
   },
   "source": [
    "# Beta = (X.Transpose X)inverse dot X.Transpose dot Y"
   ]
  },
  {
   "cell_type": "code",
   "execution_count": 9,
   "id": "44aa1c0b",
   "metadata": {
    "execution": {
     "iopub.execute_input": "2025-03-27T17:57:28.929088Z",
     "iopub.status.busy": "2025-03-27T17:57:28.928719Z",
     "iopub.status.idle": "2025-03-27T17:57:28.935181Z",
     "shell.execute_reply": "2025-03-27T17:57:28.933963Z"
    },
    "papermill": {
     "duration": 0.014858,
     "end_time": "2025-03-27T17:57:28.936982",
     "exception": false,
     "start_time": "2025-03-27T17:57:28.922124",
     "status": "completed"
    },
    "tags": []
   },
   "outputs": [],
   "source": [
    "class my_LR:\n",
    "\n",
    "    def __init__(self):\n",
    "        self.coef_ = None\n",
    "        self.intercept_ = None\n",
    "\n",
    "    def fit(self,X_train,Y_train):\n",
    "\n",
    "        X_train = np.insert(X_train,0,1,axis=1)\n",
    "        \n",
    "        betas = np.linalg.inv(np.dot(X_train.T,X_train)).dot(X_train.T).dot(Y_train)\n",
    "        self.intercept_ = betas[0]\n",
    "        self.coef_ = betas[1:]\n",
    "\n",
    "\n",
    "    def predict(self,X_test):\n",
    "\n",
    "        y_pred = np.dot(X_test, self.coef_) + self.intercept_\n",
    "\n",
    "        return y_pred"
   ]
  },
  {
   "cell_type": "code",
   "execution_count": 10,
   "id": "e993cb8e",
   "metadata": {
    "execution": {
     "iopub.execute_input": "2025-03-27T17:57:28.949802Z",
     "iopub.status.busy": "2025-03-27T17:57:28.949439Z",
     "iopub.status.idle": "2025-03-27T17:57:28.953693Z",
     "shell.execute_reply": "2025-03-27T17:57:28.952485Z"
    },
    "papermill": {
     "duration": 0.012747,
     "end_time": "2025-03-27T17:57:28.955668",
     "exception": false,
     "start_time": "2025-03-27T17:57:28.942921",
     "status": "completed"
    },
    "tags": []
   },
   "outputs": [],
   "source": [
    "lr = my_LR()"
   ]
  },
  {
   "cell_type": "code",
   "execution_count": 11,
   "id": "0582dfa6",
   "metadata": {
    "execution": {
     "iopub.execute_input": "2025-03-27T17:57:28.967987Z",
     "iopub.status.busy": "2025-03-27T17:57:28.967663Z",
     "iopub.status.idle": "2025-03-27T17:57:29.009061Z",
     "shell.execute_reply": "2025-03-27T17:57:29.008156Z"
    },
    "papermill": {
     "duration": 0.049419,
     "end_time": "2025-03-27T17:57:29.010796",
     "exception": false,
     "start_time": "2025-03-27T17:57:28.961377",
     "status": "completed"
    },
    "tags": []
   },
   "outputs": [],
   "source": [
    "lr.fit(X_train,Y_train)"
   ]
  },
  {
   "cell_type": "code",
   "execution_count": 12,
   "id": "37a71783",
   "metadata": {
    "execution": {
     "iopub.execute_input": "2025-03-27T17:57:29.024457Z",
     "iopub.status.busy": "2025-03-27T17:57:29.024093Z",
     "iopub.status.idle": "2025-03-27T17:57:29.028008Z",
     "shell.execute_reply": "2025-03-27T17:57:29.027202Z"
    },
    "papermill": {
     "duration": 0.012902,
     "end_time": "2025-03-27T17:57:29.029488",
     "exception": false,
     "start_time": "2025-03-27T17:57:29.016586",
     "status": "completed"
    },
    "tags": []
   },
   "outputs": [],
   "source": [
    "y_pred = lr.predict(X_test)"
   ]
  },
  {
   "cell_type": "code",
   "execution_count": 13,
   "id": "57f92951",
   "metadata": {
    "execution": {
     "iopub.execute_input": "2025-03-27T17:57:29.041839Z",
     "iopub.status.busy": "2025-03-27T17:57:29.041497Z",
     "iopub.status.idle": "2025-03-27T17:57:29.046757Z",
     "shell.execute_reply": "2025-03-27T17:57:29.045761Z"
    },
    "papermill": {
     "duration": 0.013696,
     "end_time": "2025-03-27T17:57:29.048835",
     "exception": false,
     "start_time": "2025-03-27T17:57:29.035139",
     "status": "completed"
    },
    "tags": []
   },
   "outputs": [
    {
     "data": {
      "text/plain": [
       "(89,)"
      ]
     },
     "execution_count": 13,
     "metadata": {},
     "output_type": "execute_result"
    }
   ],
   "source": [
    "Y_test.shape"
   ]
  },
  {
   "cell_type": "code",
   "execution_count": 14,
   "id": "836339be",
   "metadata": {
    "execution": {
     "iopub.execute_input": "2025-03-27T17:57:29.061466Z",
     "iopub.status.busy": "2025-03-27T17:57:29.061092Z",
     "iopub.status.idle": "2025-03-27T17:57:29.066384Z",
     "shell.execute_reply": "2025-03-27T17:57:29.065420Z"
    },
    "papermill": {
     "duration": 0.01301,
     "end_time": "2025-03-27T17:57:29.067814",
     "exception": false,
     "start_time": "2025-03-27T17:57:29.054804",
     "status": "completed"
    },
    "tags": []
   },
   "outputs": [
    {
     "data": {
      "text/plain": [
       "(89,)"
      ]
     },
     "execution_count": 14,
     "metadata": {},
     "output_type": "execute_result"
    }
   ],
   "source": [
    "y_pred.shape"
   ]
  },
  {
   "cell_type": "code",
   "execution_count": 15,
   "id": "00a095f1",
   "metadata": {
    "execution": {
     "iopub.execute_input": "2025-03-27T17:57:29.080599Z",
     "iopub.status.busy": "2025-03-27T17:57:29.080247Z",
     "iopub.status.idle": "2025-03-27T17:57:29.086783Z",
     "shell.execute_reply": "2025-03-27T17:57:29.085940Z"
    },
    "papermill": {
     "duration": 0.014645,
     "end_time": "2025-03-27T17:57:29.088296",
     "exception": false,
     "start_time": "2025-03-27T17:57:29.073651",
     "status": "completed"
    },
    "tags": []
   },
   "outputs": [
    {
     "data": {
      "text/plain": [
       "-0.015299458907067631"
      ]
     },
     "execution_count": 15,
     "metadata": {},
     "output_type": "execute_result"
    }
   ],
   "source": [
    "from sklearn.metrics import r2_score\n",
    "\n",
    "r2_score(y_pred,Y_test)"
   ]
  },
  {
   "cell_type": "code",
   "execution_count": 16,
   "id": "5120b8ab",
   "metadata": {
    "execution": {
     "iopub.execute_input": "2025-03-27T17:57:29.101199Z",
     "iopub.status.busy": "2025-03-27T17:57:29.100815Z",
     "iopub.status.idle": "2025-03-27T17:57:29.228085Z",
     "shell.execute_reply": "2025-03-27T17:57:29.227168Z"
    },
    "papermill": {
     "duration": 0.135569,
     "end_time": "2025-03-27T17:57:29.229921",
     "exception": false,
     "start_time": "2025-03-27T17:57:29.094352",
     "status": "completed"
    },
    "tags": []
   },
   "outputs": [],
   "source": [
    "from sklearn.linear_model import LinearRegression"
   ]
  },
  {
   "cell_type": "code",
   "execution_count": 17,
   "id": "44fc1e4e",
   "metadata": {
    "execution": {
     "iopub.execute_input": "2025-03-27T17:57:29.243177Z",
     "iopub.status.busy": "2025-03-27T17:57:29.242796Z",
     "iopub.status.idle": "2025-03-27T17:57:29.246575Z",
     "shell.execute_reply": "2025-03-27T17:57:29.245760Z"
    },
    "papermill": {
     "duration": 0.01209,
     "end_time": "2025-03-27T17:57:29.248145",
     "exception": false,
     "start_time": "2025-03-27T17:57:29.236055",
     "status": "completed"
    },
    "tags": []
   },
   "outputs": [],
   "source": [
    "linear = LinearRegression()"
   ]
  },
  {
   "cell_type": "code",
   "execution_count": 18,
   "id": "15f15115",
   "metadata": {
    "execution": {
     "iopub.execute_input": "2025-03-27T17:57:29.261417Z",
     "iopub.status.busy": "2025-03-27T17:57:29.261009Z",
     "iopub.status.idle": "2025-03-27T17:57:29.313244Z",
     "shell.execute_reply": "2025-03-27T17:57:29.312207Z"
    },
    "papermill": {
     "duration": 0.060568,
     "end_time": "2025-03-27T17:57:29.314761",
     "exception": false,
     "start_time": "2025-03-27T17:57:29.254193",
     "status": "completed"
    },
    "tags": []
   },
   "outputs": [
    {
     "data": {
      "text/html": [
       "<style>#sk-container-id-1 {color: black;background-color: white;}#sk-container-id-1 pre{padding: 0;}#sk-container-id-1 div.sk-toggleable {background-color: white;}#sk-container-id-1 label.sk-toggleable__label {cursor: pointer;display: block;width: 100%;margin-bottom: 0;padding: 0.3em;box-sizing: border-box;text-align: center;}#sk-container-id-1 label.sk-toggleable__label-arrow:before {content: \"▸\";float: left;margin-right: 0.25em;color: #696969;}#sk-container-id-1 label.sk-toggleable__label-arrow:hover:before {color: black;}#sk-container-id-1 div.sk-estimator:hover label.sk-toggleable__label-arrow:before {color: black;}#sk-container-id-1 div.sk-toggleable__content {max-height: 0;max-width: 0;overflow: hidden;text-align: left;background-color: #f0f8ff;}#sk-container-id-1 div.sk-toggleable__content pre {margin: 0.2em;color: black;border-radius: 0.25em;background-color: #f0f8ff;}#sk-container-id-1 input.sk-toggleable__control:checked~div.sk-toggleable__content {max-height: 200px;max-width: 100%;overflow: auto;}#sk-container-id-1 input.sk-toggleable__control:checked~label.sk-toggleable__label-arrow:before {content: \"▾\";}#sk-container-id-1 div.sk-estimator input.sk-toggleable__control:checked~label.sk-toggleable__label {background-color: #d4ebff;}#sk-container-id-1 div.sk-label input.sk-toggleable__control:checked~label.sk-toggleable__label {background-color: #d4ebff;}#sk-container-id-1 input.sk-hidden--visually {border: 0;clip: rect(1px 1px 1px 1px);clip: rect(1px, 1px, 1px, 1px);height: 1px;margin: -1px;overflow: hidden;padding: 0;position: absolute;width: 1px;}#sk-container-id-1 div.sk-estimator {font-family: monospace;background-color: #f0f8ff;border: 1px dotted black;border-radius: 0.25em;box-sizing: border-box;margin-bottom: 0.5em;}#sk-container-id-1 div.sk-estimator:hover {background-color: #d4ebff;}#sk-container-id-1 div.sk-parallel-item::after {content: \"\";width: 100%;border-bottom: 1px solid gray;flex-grow: 1;}#sk-container-id-1 div.sk-label:hover label.sk-toggleable__label {background-color: #d4ebff;}#sk-container-id-1 div.sk-serial::before {content: \"\";position: absolute;border-left: 1px solid gray;box-sizing: border-box;top: 0;bottom: 0;left: 50%;z-index: 0;}#sk-container-id-1 div.sk-serial {display: flex;flex-direction: column;align-items: center;background-color: white;padding-right: 0.2em;padding-left: 0.2em;position: relative;}#sk-container-id-1 div.sk-item {position: relative;z-index: 1;}#sk-container-id-1 div.sk-parallel {display: flex;align-items: stretch;justify-content: center;background-color: white;position: relative;}#sk-container-id-1 div.sk-item::before, #sk-container-id-1 div.sk-parallel-item::before {content: \"\";position: absolute;border-left: 1px solid gray;box-sizing: border-box;top: 0;bottom: 0;left: 50%;z-index: -1;}#sk-container-id-1 div.sk-parallel-item {display: flex;flex-direction: column;z-index: 1;position: relative;background-color: white;}#sk-container-id-1 div.sk-parallel-item:first-child::after {align-self: flex-end;width: 50%;}#sk-container-id-1 div.sk-parallel-item:last-child::after {align-self: flex-start;width: 50%;}#sk-container-id-1 div.sk-parallel-item:only-child::after {width: 0;}#sk-container-id-1 div.sk-dashed-wrapped {border: 1px dashed gray;margin: 0 0.4em 0.5em 0.4em;box-sizing: border-box;padding-bottom: 0.4em;background-color: white;}#sk-container-id-1 div.sk-label label {font-family: monospace;font-weight: bold;display: inline-block;line-height: 1.2em;}#sk-container-id-1 div.sk-label-container {text-align: center;}#sk-container-id-1 div.sk-container {/* jupyter's `normalize.less` sets `[hidden] { display: none; }` but bootstrap.min.css set `[hidden] { display: none !important; }` so we also need the `!important` here to be able to override the default hidden behavior on the sphinx rendered scikit-learn.org. See: https://github.com/scikit-learn/scikit-learn/issues/21755 */display: inline-block !important;position: relative;}#sk-container-id-1 div.sk-text-repr-fallback {display: none;}</style><div id=\"sk-container-id-1\" class=\"sk-top-container\"><div class=\"sk-text-repr-fallback\"><pre>LinearRegression()</pre><b>In a Jupyter environment, please rerun this cell to show the HTML representation or trust the notebook. <br />On GitHub, the HTML representation is unable to render, please try loading this page with nbviewer.org.</b></div><div class=\"sk-container\" hidden><div class=\"sk-item\"><div class=\"sk-estimator sk-toggleable\"><input class=\"sk-toggleable__control sk-hidden--visually\" id=\"sk-estimator-id-1\" type=\"checkbox\" checked><label for=\"sk-estimator-id-1\" class=\"sk-toggleable__label sk-toggleable__label-arrow\">LinearRegression</label><div class=\"sk-toggleable__content\"><pre>LinearRegression()</pre></div></div></div></div></div>"
      ],
      "text/plain": [
       "LinearRegression()"
      ]
     },
     "execution_count": 18,
     "metadata": {},
     "output_type": "execute_result"
    }
   ],
   "source": [
    "linear.fit(X_train,Y_train)"
   ]
  },
  {
   "cell_type": "code",
   "execution_count": 19,
   "id": "d91c23ec",
   "metadata": {
    "execution": {
     "iopub.execute_input": "2025-03-27T17:57:29.327940Z",
     "iopub.status.busy": "2025-03-27T17:57:29.327596Z",
     "iopub.status.idle": "2025-03-27T17:57:29.331830Z",
     "shell.execute_reply": "2025-03-27T17:57:29.330979Z"
    },
    "papermill": {
     "duration": 0.012658,
     "end_time": "2025-03-27T17:57:29.333470",
     "exception": false,
     "start_time": "2025-03-27T17:57:29.320812",
     "status": "completed"
    },
    "tags": []
   },
   "outputs": [],
   "source": [
    "new_pred = linear.predict(X_test)"
   ]
  },
  {
   "cell_type": "code",
   "execution_count": 20,
   "id": "3df43ef5",
   "metadata": {
    "execution": {
     "iopub.execute_input": "2025-03-27T17:57:29.346660Z",
     "iopub.status.busy": "2025-03-27T17:57:29.346340Z",
     "iopub.status.idle": "2025-03-27T17:57:29.352247Z",
     "shell.execute_reply": "2025-03-27T17:57:29.351420Z"
    },
    "papermill": {
     "duration": 0.014152,
     "end_time": "2025-03-27T17:57:29.353806",
     "exception": false,
     "start_time": "2025-03-27T17:57:29.339654",
     "status": "completed"
    },
    "tags": []
   },
   "outputs": [
    {
     "data": {
      "text/plain": [
       "-0.015299458907064079"
      ]
     },
     "execution_count": 20,
     "metadata": {},
     "output_type": "execute_result"
    }
   ],
   "source": [
    "r2_score(new_pred, Y_test)"
   ]
  },
  {
   "cell_type": "code",
   "execution_count": 21,
   "id": "8de2799f",
   "metadata": {
    "execution": {
     "iopub.execute_input": "2025-03-27T17:57:29.367740Z",
     "iopub.status.busy": "2025-03-27T17:57:29.367404Z",
     "iopub.status.idle": "2025-03-27T17:57:29.373061Z",
     "shell.execute_reply": "2025-03-27T17:57:29.372229Z"
    },
    "papermill": {
     "duration": 0.014317,
     "end_time": "2025-03-27T17:57:29.374538",
     "exception": false,
     "start_time": "2025-03-27T17:57:29.360221",
     "status": "completed"
    },
    "tags": []
   },
   "outputs": [
    {
     "data": {
      "text/plain": [
       "array([  -9.15865318, -205.45432163,  516.69374454,  340.61999905,\n",
       "       -895.5520019 ,  561.22067904,  153.89310954,  126.73139688,\n",
       "        861.12700152,   52.42112238])"
      ]
     },
     "execution_count": 21,
     "metadata": {},
     "output_type": "execute_result"
    }
   ],
   "source": [
    "linear.coef_"
   ]
  },
  {
   "cell_type": "code",
   "execution_count": 22,
   "id": "f039fc33",
   "metadata": {
    "execution": {
     "iopub.execute_input": "2025-03-27T17:57:29.388234Z",
     "iopub.status.busy": "2025-03-27T17:57:29.387868Z",
     "iopub.status.idle": "2025-03-27T17:57:29.393405Z",
     "shell.execute_reply": "2025-03-27T17:57:29.392516Z"
    },
    "papermill": {
     "duration": 0.013843,
     "end_time": "2025-03-27T17:57:29.394779",
     "exception": false,
     "start_time": "2025-03-27T17:57:29.380936",
     "status": "completed"
    },
    "tags": []
   },
   "outputs": [
    {
     "data": {
      "text/plain": [
       "array([  -9.15865318, -205.45432163,  516.69374454,  340.61999905,\n",
       "       -895.5520019 ,  561.22067904,  153.89310954,  126.73139688,\n",
       "        861.12700152,   52.42112238])"
      ]
     },
     "execution_count": 22,
     "metadata": {},
     "output_type": "execute_result"
    }
   ],
   "source": [
    "lr.coef_"
   ]
  },
  {
   "cell_type": "code",
   "execution_count": 23,
   "id": "46bdad4d",
   "metadata": {
    "execution": {
     "iopub.execute_input": "2025-03-27T17:57:29.408883Z",
     "iopub.status.busy": "2025-03-27T17:57:29.408546Z",
     "iopub.status.idle": "2025-03-27T17:57:29.413789Z",
     "shell.execute_reply": "2025-03-27T17:57:29.412964Z"
    },
    "papermill": {
     "duration": 0.014071,
     "end_time": "2025-03-27T17:57:29.415321",
     "exception": false,
     "start_time": "2025-03-27T17:57:29.401250",
     "status": "completed"
    },
    "tags": []
   },
   "outputs": [
    {
     "data": {
      "text/plain": [
       "151.88331005254167"
      ]
     },
     "execution_count": 23,
     "metadata": {},
     "output_type": "execute_result"
    }
   ],
   "source": [
    "linear.intercept_"
   ]
  },
  {
   "cell_type": "code",
   "execution_count": 24,
   "id": "709812b5",
   "metadata": {
    "execution": {
     "iopub.execute_input": "2025-03-27T17:57:29.429682Z",
     "iopub.status.busy": "2025-03-27T17:57:29.429359Z",
     "iopub.status.idle": "2025-03-27T17:57:29.435020Z",
     "shell.execute_reply": "2025-03-27T17:57:29.433961Z"
    },
    "papermill": {
     "duration": 0.014473,
     "end_time": "2025-03-27T17:57:29.436602",
     "exception": false,
     "start_time": "2025-03-27T17:57:29.422129",
     "status": "completed"
    },
    "tags": []
   },
   "outputs": [
    {
     "data": {
      "text/plain": [
       "151.88331005254167"
      ]
     },
     "execution_count": 24,
     "metadata": {},
     "output_type": "execute_result"
    }
   ],
   "source": [
    "lr.intercept_"
   ]
  },
  {
   "cell_type": "code",
   "execution_count": null,
   "id": "e2876089",
   "metadata": {
    "papermill": {
     "duration": 0.006548,
     "end_time": "2025-03-27T17:57:29.450196",
     "exception": false,
     "start_time": "2025-03-27T17:57:29.443648",
     "status": "completed"
    },
    "tags": []
   },
   "outputs": [],
   "source": []
  },
  {
   "cell_type": "code",
   "execution_count": null,
   "id": "b9766f43",
   "metadata": {
    "papermill": {
     "duration": 0.006752,
     "end_time": "2025-03-27T17:57:29.463482",
     "exception": false,
     "start_time": "2025-03-27T17:57:29.456730",
     "status": "completed"
    },
    "tags": []
   },
   "outputs": [],
   "source": []
  }
 ],
 "metadata": {
  "kaggle": {
   "accelerator": "none",
   "dataSources": [],
   "dockerImageVersionId": 30918,
   "isGpuEnabled": false,
   "isInternetEnabled": true,
   "language": "python",
   "sourceType": "notebook"
  },
  "kernelspec": {
   "display_name": "Python 3",
   "language": "python",
   "name": "python3"
  },
  "language_info": {
   "codemirror_mode": {
    "name": "ipython",
    "version": 3
   },
   "file_extension": ".py",
   "mimetype": "text/x-python",
   "name": "python",
   "nbconvert_exporter": "python",
   "pygments_lexer": "ipython3",
   "version": "3.10.12"
  },
  "papermill": {
   "default_parameters": {},
   "duration": 7.129238,
   "end_time": "2025-03-27T17:57:30.190096",
   "environment_variables": {},
   "exception": null,
   "input_path": "__notebook__.ipynb",
   "output_path": "__notebook__.ipynb",
   "parameters": {},
   "start_time": "2025-03-27T17:57:23.060858",
   "version": "2.6.0"
  }
 },
 "nbformat": 4,
 "nbformat_minor": 5
}
