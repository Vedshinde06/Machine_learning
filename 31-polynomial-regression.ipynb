{
 "cells": [
  {
   "cell_type": "code",
   "execution_count": 1,
   "id": "805c82b7",
   "metadata": {
    "_cell_guid": "b1076dfc-b9ad-4769-8c92-a6c4dae69d19",
    "_uuid": "8f2839f25d086af736a60e9eeb907d3b93b6e0e5",
    "execution": {
     "iopub.execute_input": "2025-07-28T10:43:38.068324Z",
     "iopub.status.busy": "2025-07-28T10:43:38.067915Z",
     "iopub.status.idle": "2025-07-28T10:43:40.048432Z",
     "shell.execute_reply": "2025-07-28T10:43:40.047567Z"
    },
    "papermill": {
     "duration": 1.988591,
     "end_time": "2025-07-28T10:43:40.050387",
     "exception": false,
     "start_time": "2025-07-28T10:43:38.061796",
     "status": "completed"
    },
    "tags": []
   },
   "outputs": [],
   "source": [
    "# This Python 3 environment comes with many helpful analytics libraries installed\n",
    "# It is defined by the kaggle/python Docker image: https://github.com/kaggle/docker-python\n",
    "# For example, here's several helpful packages to load\n",
    "\n",
    "import numpy as np # linear algebra\n",
    "import pandas as pd # data processing, CSV file I/O (e.g. pd.read_csv)\n",
    "\n",
    "# Input data files are available in the read-only \"../input/\" directory\n",
    "# For example, running this (by clicking run or pressing Shift+Enter) will list all files under the input directory\n",
    "\n",
    "import os\n",
    "for dirname, _, filenames in os.walk('/kaggle/input'):\n",
    "    for filename in filenames:\n",
    "        print(os.path.join(dirname, filename))\n",
    "\n",
    "# You can write up to 20GB to the current directory (/kaggle/working/) that gets preserved as output when you create a version using \"Save & Run All\" \n",
    "# You can also write temporary files to /kaggle/temp/, but they won't be saved outside of the current session"
   ]
  },
  {
   "cell_type": "code",
   "execution_count": 2,
   "id": "1b71c17f",
   "metadata": {
    "execution": {
     "iopub.execute_input": "2025-07-28T10:43:40.063601Z",
     "iopub.status.busy": "2025-07-28T10:43:40.063047Z",
     "iopub.status.idle": "2025-07-28T10:43:40.071521Z",
     "shell.execute_reply": "2025-07-28T10:43:40.069595Z"
    },
    "papermill": {
     "duration": 0.018033,
     "end_time": "2025-07-28T10:43:40.073980",
     "exception": false,
     "start_time": "2025-07-28T10:43:40.055947",
     "status": "completed"
    },
    "tags": []
   },
   "outputs": [],
   "source": [
    "# Creating a data set\n",
    "\n",
    "X = 6 * np.random.rand(200, 1) - 3\n",
    "y = 0.8 * X**2 + 0.9 * X + 2 + np.random.randn(200, 1)\n",
    "\n",
    "# y = 0.8x^2 + 0.9x + 2"
   ]
  },
  {
   "cell_type": "code",
   "execution_count": 3,
   "id": "e905abfe",
   "metadata": {
    "execution": {
     "iopub.execute_input": "2025-07-28T10:43:40.084078Z",
     "iopub.status.busy": "2025-07-28T10:43:40.083380Z",
     "iopub.status.idle": "2025-07-28T10:43:40.344338Z",
     "shell.execute_reply": "2025-07-28T10:43:40.343488Z"
    },
    "papermill": {
     "duration": 0.26779,
     "end_time": "2025-07-28T10:43:40.346168",
     "exception": false,
     "start_time": "2025-07-28T10:43:40.078378",
     "status": "completed"
    },
    "tags": []
   },
   "outputs": [
    {
     "data": {
      "image/png": "[encoded data removed]",
      "text/plain": [
       "<Figure size 640x480 with 1 Axes>"
      ]
     },
     "metadata": {},
     "output_type": "display_data"
    }
   ],
   "source": [
    "import matplotlib.pyplot as plt\n",
    "\n",
    "plt.plot(X, y,'b.')\n",
    "plt.xlabel(\"X\")\n",
    "plt.ylabel(\"y\")\n",
    "plt.show()"
   ]
  },
  {
   "cell_type": "code",
   "execution_count": 4,
   "id": "452be67f",
   "metadata": {
    "execution": {
     "iopub.execute_input": "2025-07-28T10:43:40.355457Z",
     "iopub.status.busy": "2025-07-28T10:43:40.355154Z",
     "iopub.status.idle": "2025-07-28T10:43:42.250147Z",
     "shell.execute_reply": "2025-07-28T10:43:42.249197Z"
    },
    "papermill": {
     "duration": 1.901703,
     "end_time": "2025-07-28T10:43:42.251998",
     "exception": false,
     "start_time": "2025-07-28T10:43:40.350295",
     "status": "completed"
    },
    "tags": []
   },
   "outputs": [],
   "source": [
    "from sklearn.model_selection import train_test_split\n",
    "\n",
    "X_train,X_test,Y_train,Y_test = train_test_split(X,y, test_size=0.2,random_state=42)"
   ]
  },
  {
   "cell_type": "code",
   "execution_count": 5,
   "id": "0781e79c",
   "metadata": {
    "execution": {
     "iopub.execute_input": "2025-07-28T10:43:42.261546Z",
     "iopub.status.busy": "2025-07-28T10:43:42.260760Z",
     "iopub.status.idle": "2025-07-28T10:43:42.382318Z",
     "shell.execute_reply": "2025-07-28T10:43:42.381390Z"
    },
    "papermill": {
     "duration": 0.12791,
     "end_time": "2025-07-28T10:43:42.384003",
     "exception": false,
     "start_time": "2025-07-28T10:43:42.256093",
     "status": "completed"
    },
    "tags": []
   },
   "outputs": [],
   "source": [
    "from sklearn.linear_model import LinearRegression"
   ]
  },
  {
   "cell_type": "code",
   "execution_count": 6,
   "id": "3212bd0d",
   "metadata": {
    "execution": {
     "iopub.execute_input": "2025-07-28T10:43:42.393289Z",
     "iopub.status.busy": "2025-07-28T10:43:42.392960Z",
     "iopub.status.idle": "2025-07-28T10:43:42.397213Z",
     "shell.execute_reply": "2025-07-28T10:43:42.396307Z"
    },
    "papermill": {
     "duration": 0.010548,
     "end_time": "2025-07-28T10:43:42.398829",
     "exception": false,
     "start_time": "2025-07-28T10:43:42.388281",
     "status": "completed"
    },
    "tags": []
   },
   "outputs": [],
   "source": [
    "lr = LinearRegression()"
   ]
  },
  {
   "cell_type": "code",
   "execution_count": 7,
   "id": "d746af4e",
   "metadata": {
    "execution": {
     "iopub.execute_input": "2025-07-28T10:43:42.408239Z",
     "iopub.status.busy": "2025-07-28T10:43:42.407426Z",
     "iopub.status.idle": "2025-07-28T10:43:42.437294Z",
     "shell.execute_reply": "2025-07-28T10:43:42.436515Z"
    },
    "papermill": {
     "duration": 0.035962,
     "end_time": "2025-07-28T10:43:42.438784",
     "exception": false,
     "start_time": "2025-07-28T10:43:42.402822",
     "status": "completed"
    },
    "tags": []
   },
   "outputs": [
    {
     "data": {
      "text/html": [
       "<style>#sk-container-id-1 {color: black;background-color: white;}#sk-container-id-1 pre{padding: 0;}#sk-container-id-1 div.sk-toggleable {background-color: white;}#sk-container-id-1 label.sk-toggleable__label {cursor: pointer;display: block;width: 100%;margin-bottom: 0;padding: 0.3em;box-sizing: border-box;text-align: center;}#sk-container-id-1 label.sk-toggleable__label-arrow:before {content: \"▸\";float: left;margin-right: 0.25em;color: #696969;}#sk-container-id-1 label.sk-toggleable__label-arrow:hover:before {color: black;}#sk-container-id-1 div.sk-estimator:hover label.sk-toggleable__label-arrow:before {color: black;}#sk-container-id-1 div.sk-toggleable__content {max-height: 0;max-width: 0;overflow: hidden;text-align: left;background-color: #f0f8ff;}#sk-container-id-1 div.sk-toggleable__content pre {margin: 0.2em;color: black;border-radius: 0.25em;background-color: #f0f8ff;}#sk-container-id-1 input.sk-toggleable__control:checked~div.sk-toggleable__content {max-height: 200px;max-width: 100%;overflow: auto;}#sk-container-id-1 input.sk-toggleable__control:checked~label.sk-toggleable__label-arrow:before {content: \"▾\";}#sk-container-id-1 div.sk-estimator input.sk-toggleable__control:checked~label.sk-toggleable__label {background-color: #d4ebff;}#sk-container-id-1 div.sk-label input.sk-toggleable__control:checked~label.sk-toggleable__label {background-color: #d4ebff;}#sk-container-id-1 input.sk-hidden--visually {border: 0;clip: rect(1px 1px 1px 1px);clip: rect(1px, 1px, 1px, 1px);height: 1px;margin: -1px;overflow: hidden;padding: 0;position: absolute;width: 1px;}#sk-container-id-1 div.sk-estimator {font-family: monospace;background-color: #f0f8ff;border: 1px dotted black;border-radius: 0.25em;box-sizing: border-box;margin-bottom: 0.5em;}#sk-container-id-1 div.sk-estimator:hover {background-color: #d4ebff;}#sk-container-id-1 div.sk-parallel-item::after {content: \"\";width: 100%;border-bottom: 1px solid gray;flex-grow: 1;}#sk-container-id-1 div.sk-label:hover label.sk-toggleable__label {background-color: #d4ebff;}#sk-container-id-1 div.sk-serial::before {content: \"\";position: absolute;border-left: 1px solid gray;box-sizing: border-box;top: 0;bottom: 0;left: 50%;z-index: 0;}#sk-container-id-1 div.sk-serial {display: flex;flex-direction: column;align-items: center;background-color: white;padding-right: 0.2em;padding-left: 0.2em;position: relative;}#sk-container-id-1 div.sk-item {position: relative;z-index: 1;}#sk-container-id-1 div.sk-parallel {display: flex;align-items: stretch;justify-content: center;background-color: white;position: relative;}#sk-container-id-1 div.sk-item::before, #sk-container-id-1 div.sk-parallel-item::before {content: \"\";position: absolute;border-left: 1px solid gray;box-sizing: border-box;top: 0;bottom: 0;left: 50%;z-index: -1;}#sk-container-id-1 div.sk-parallel-item {display: flex;flex-direction: column;z-index: 1;position: relative;background-color: white;}#sk-container-id-1 div.sk-parallel-item:first-child::after {align-self: flex-end;width: 50%;}#sk-container-id-1 div.sk-parallel-item:last-child::after {align-self: flex-start;width: 50%;}#sk-container-id-1 div.sk-parallel-item:only-child::after {width: 0;}#sk-container-id-1 div.sk-dashed-wrapped {border: 1px dashed gray;margin: 0 0.4em 0.5em 0.4em;box-sizing: border-box;padding-bottom: 0.4em;background-color: white;}#sk-container-id-1 div.sk-label label {font-family: monospace;font-weight: bold;display: inline-block;line-height: 1.2em;}#sk-container-id-1 div.sk-label-container {text-align: center;}#sk-container-id-1 div.sk-container {/* jupyter's `normalize.less` sets `[hidden] { display: none; }` but bootstrap.min.css set `[hidden] { display: none !important; }` so we also need the `!important` here to be able to override the default hidden behavior on the sphinx rendered scikit-learn.org. See: https://github.com/scikit-learn/scikit-learn/issues/21755 */display: inline-block !important;position: relative;}#sk-container-id-1 div.sk-text-repr-fallback {display: none;}</style><div id=\"sk-container-id-1\" class=\"sk-top-container\"><div class=\"sk-text-repr-fallback\"><pre>LinearRegression()</pre><b>In a Jupyter environment, please rerun this cell to show the HTML representation or trust the notebook. <br />On GitHub, the HTML representation is unable to render, please try loading this page with nbviewer.org.</b></div><div class=\"sk-container\" hidden><div class=\"sk-item\"><div class=\"sk-estimator sk-toggleable\"><input class=\"sk-toggleable__control sk-hidden--visually\" id=\"sk-estimator-id-1\" type=\"checkbox\" checked><label for=\"sk-estimator-id-1\" class=\"sk-toggleable__label sk-toggleable__label-arrow\">LinearRegression</label><div class=\"sk-toggleable__content\"><pre>LinearRegression()</pre></div></div></div></div></div>"
      ],
      "text/plain": [
       "LinearRegression()"
      ]
     },
     "execution_count": 7,
     "metadata": {},
     "output_type": "execute_result"
    }
   ],
   "source": [
    "lr.fit(X_train,Y_train)"
   ]
  },
  {
   "cell_type": "code",
   "execution_count": 8,
   "id": "b7f87bd6",
   "metadata": {
    "execution": {
     "iopub.execute_input": "2025-07-28T10:43:42.448270Z",
     "iopub.status.busy": "2025-07-28T10:43:42.447943Z",
     "iopub.status.idle": "2025-07-28T10:43:42.452723Z",
     "shell.execute_reply": "2025-07-28T10:43:42.451925Z"
    },
    "papermill": {
     "duration": 0.011159,
     "end_time": "2025-07-28T10:43:42.454052",
     "exception": false,
     "start_time": "2025-07-28T10:43:42.442893",
     "status": "completed"
    },
    "tags": []
   },
   "outputs": [],
   "source": [
    "y_pred = lr.predict(X_test)"
   ]
  },
  {
   "cell_type": "code",
   "execution_count": 9,
   "id": "d1b109ae",
   "metadata": {
    "execution": {
     "iopub.execute_input": "2025-07-28T10:43:42.463413Z",
     "iopub.status.busy": "2025-07-28T10:43:42.463106Z",
     "iopub.status.idle": "2025-07-28T10:43:42.469459Z",
     "shell.execute_reply": "2025-07-28T10:43:42.468788Z"
    },
    "papermill": {
     "duration": 0.012466,
     "end_time": "2025-07-28T10:43:42.470731",
     "exception": false,
     "start_time": "2025-07-28T10:43:42.458265",
     "status": "completed"
    },
    "tags": []
   },
   "outputs": [
    {
     "data": {
      "text/plain": [
       "0.3741117523075588"
      ]
     },
     "execution_count": 9,
     "metadata": {},
     "output_type": "execute_result"
    }
   ],
   "source": [
    "from sklearn.metrics import r2_score\n",
    "\n",
    "r2_score(Y_test,y_pred)"
   ]
  },
  {
   "cell_type": "code",
   "execution_count": 10,
   "id": "f1fca543",
   "metadata": {
    "execution": {
     "iopub.execute_input": "2025-07-28T10:43:42.481027Z",
     "iopub.status.busy": "2025-07-28T10:43:42.480684Z",
     "iopub.status.idle": "2025-07-28T10:43:42.621550Z",
     "shell.execute_reply": "2025-07-28T10:43:42.620599Z"
    },
    "papermill": {
     "duration": 0.14819,
     "end_time": "2025-07-28T10:43:42.623000",
     "exception": false,
     "start_time": "2025-07-28T10:43:42.474810",
     "status": "completed"
    },
    "tags": []
   },
   "outputs": [
    {
     "data": {
      "image/png": "[encoded data removed]",
      "text/plain": [
       "<Figure size 640x480 with 1 Axes>"
      ]
     },
     "metadata": {},
     "output_type": "display_data"
    }
   ],
   "source": [
    "plt.plot(X_train,lr.predict(X_train),color='r')\n",
    "plt.plot(X, y, \"b.\")\n",
    "plt.xlabel(\"X\")\n",
    "plt.ylabel(\"y\")\n",
    "plt.show()"
   ]
  },
  {
   "cell_type": "code",
   "execution_count": 11,
   "id": "ad9eeba6",
   "metadata": {
    "execution": {
     "iopub.execute_input": "2025-07-28T10:43:42.633392Z",
     "iopub.status.busy": "2025-07-28T10:43:42.633079Z",
     "iopub.status.idle": "2025-07-28T10:43:42.637303Z",
     "shell.execute_reply": "2025-07-28T10:43:42.636262Z"
    },
    "papermill": {
     "duration": 0.011432,
     "end_time": "2025-07-28T10:43:42.639049",
     "exception": false,
     "start_time": "2025-07-28T10:43:42.627617",
     "status": "completed"
    },
    "tags": []
   },
   "outputs": [],
   "source": [
    "from sklearn.preprocessing import PolynomialFeatures,StandardScaler"
   ]
  },
  {
   "cell_type": "code",
   "execution_count": 12,
   "id": "fa32ab6f",
   "metadata": {
    "execution": {
     "iopub.execute_input": "2025-07-28T10:43:42.649516Z",
     "iopub.status.busy": "2025-07-28T10:43:42.649170Z",
     "iopub.status.idle": "2025-07-28T10:43:42.654431Z",
     "shell.execute_reply": "2025-07-28T10:43:42.653525Z"
    },
    "papermill": {
     "duration": 0.012249,
     "end_time": "2025-07-28T10:43:42.656126",
     "exception": false,
     "start_time": "2025-07-28T10:43:42.643877",
     "status": "completed"
    },
    "tags": []
   },
   "outputs": [],
   "source": [
    "#Applying polynomial features\n",
    "\n",
    "poly = PolynomialFeatures(degree=2,include_bias=True)   #degree 2\n",
    "\n",
    "X_train_pol = poly.fit_transform(X_train)\n",
    "X_test_pol = poly.transform(X_test)\n"
   ]
  },
  {
   "cell_type": "code",
   "execution_count": 13,
   "id": "087c83f9",
   "metadata": {
    "execution": {
     "iopub.execute_input": "2025-07-28T10:43:42.666377Z",
     "iopub.status.busy": "2025-07-28T10:43:42.666059Z",
     "iopub.status.idle": "2025-07-28T10:43:42.671755Z",
     "shell.execute_reply": "2025-07-28T10:43:42.670863Z"
    },
    "papermill": {
     "duration": 0.012363,
     "end_time": "2025-07-28T10:43:42.673077",
     "exception": false,
     "start_time": "2025-07-28T10:43:42.660714",
     "status": "completed"
    },
    "tags": []
   },
   "outputs": [
    {
     "name": "stdout",
     "output_type": "stream",
     "text": [
      "[-2.17961104]\n",
      "[ 1.         -2.17961104  4.75070427]\n"
     ]
    }
   ],
   "source": [
    "print(X_train[0])\n",
    "print(X_train_pol[0])"
   ]
  },
  {
   "cell_type": "code",
   "execution_count": 14,
   "id": "6971da5a",
   "metadata": {
    "execution": {
     "iopub.execute_input": "2025-07-28T10:43:42.683717Z",
     "iopub.status.busy": "2025-07-28T10:43:42.682863Z",
     "iopub.status.idle": "2025-07-28T10:43:42.698680Z",
     "shell.execute_reply": "2025-07-28T10:43:42.697791Z"
    },
    "papermill": {
     "duration": 0.022513,
     "end_time": "2025-07-28T10:43:42.700189",
     "exception": false,
     "start_time": "2025-07-28T10:43:42.677676",
     "status": "completed"
    },
    "tags": []
   },
   "outputs": [
    {
     "data": {
      "text/html": [
       "<style>#sk-container-id-2 {color: black;background-color: white;}#sk-container-id-2 pre{padding: 0;}#sk-container-id-2 div.sk-toggleable {background-color: white;}#sk-container-id-2 label.sk-toggleable__label {cursor: pointer;display: block;width: 100%;margin-bottom: 0;padding: 0.3em;box-sizing: border-box;text-align: center;}#sk-container-id-2 label.sk-toggleable__label-arrow:before {content: \"▸\";float: left;margin-right: 0.25em;color: #696969;}#sk-container-id-2 label.sk-toggleable__label-arrow:hover:before {color: black;}#sk-container-id-2 div.sk-estimator:hover label.sk-toggleable__label-arrow:before {color: black;}#sk-container-id-2 div.sk-toggleable__content {max-height: 0;max-width: 0;overflow: hidden;text-align: left;background-color: #f0f8ff;}#sk-container-id-2 div.sk-toggleable__content pre {margin: 0.2em;color: black;border-radius: 0.25em;background-color: #f0f8ff;}#sk-container-id-2 input.sk-toggleable__control:checked~div.sk-toggleable__content {max-height: 200px;max-width: 100%;overflow: auto;}#sk-container-id-2 input.sk-toggleable__control:checked~label.sk-toggleable__label-arrow:before {content: \"▾\";}#sk-container-id-2 div.sk-estimator input.sk-toggleable__control:checked~label.sk-toggleable__label {background-color: #d4ebff;}#sk-container-id-2 div.sk-label input.sk-toggleable__control:checked~label.sk-toggleable__label {background-color: #d4ebff;}#sk-container-id-2 input.sk-hidden--visually {border: 0;clip: rect(1px 1px 1px 1px);clip: rect(1px, 1px, 1px, 1px);height: 1px;margin: -1px;overflow: hidden;padding: 0;position: absolute;width: 1px;}#sk-container-id-2 div.sk-estimator {font-family: monospace;background-color: #f0f8ff;border: 1px dotted black;border-radius: 0.25em;box-sizing: border-box;margin-bottom: 0.5em;}#sk-container-id-2 div.sk-estimator:hover {background-color: #d4ebff;}#sk-container-id-2 div.sk-parallel-item::after {content: \"\";width: 100%;border-bottom: 1px solid gray;flex-grow: 1;}#sk-container-id-2 div.sk-label:hover label.sk-toggleable__label {background-color: #d4ebff;}#sk-container-id-2 div.sk-serial::before {content: \"\";position: absolute;border-left: 1px solid gray;box-sizing: border-box;top: 0;bottom: 0;left: 50%;z-index: 0;}#sk-container-id-2 div.sk-serial {display: flex;flex-direction: column;align-items: center;background-color: white;padding-right: 0.2em;padding-left: 0.2em;position: relative;}#sk-container-id-2 div.sk-item {position: relative;z-index: 1;}#sk-container-id-2 div.sk-parallel {display: flex;align-items: stretch;justify-content: center;background-color: white;position: relative;}#sk-container-id-2 div.sk-item::before, #sk-container-id-2 div.sk-parallel-item::before {content: \"\";position: absolute;border-left: 1px solid gray;box-sizing: border-box;top: 0;bottom: 0;left: 50%;z-index: -1;}#sk-container-id-2 div.sk-parallel-item {display: flex;flex-direction: column;z-index: 1;position: relative;background-color: white;}#sk-container-id-2 div.sk-parallel-item:first-child::after {align-self: flex-end;width: 50%;}#sk-container-id-2 div.sk-parallel-item:last-child::after {align-self: flex-start;width: 50%;}#sk-container-id-2 div.sk-parallel-item:only-child::after {width: 0;}#sk-container-id-2 div.sk-dashed-wrapped {border: 1px dashed gray;margin: 0 0.4em 0.5em 0.4em;box-sizing: border-box;padding-bottom: 0.4em;background-color: white;}#sk-container-id-2 div.sk-label label {font-family: monospace;font-weight: bold;display: inline-block;line-height: 1.2em;}#sk-container-id-2 div.sk-label-container {text-align: center;}#sk-container-id-2 div.sk-container {/* jupyter's `normalize.less` sets `[hidden] { display: none; }` but bootstrap.min.css set `[hidden] { display: none !important; }` so we also need the `!important` here to be able to override the default hidden behavior on the sphinx rendered scikit-learn.org. See: https://github.com/scikit-learn/scikit-learn/issues/21755 */display: inline-block !important;position: relative;}#sk-container-id-2 div.sk-text-repr-fallback {display: none;}</style><div id=\"sk-container-id-2\" class=\"sk-top-container\"><div class=\"sk-text-repr-fallback\"><pre>LinearRegression()</pre><b>In a Jupyter environment, please rerun this cell to show the HTML representation or trust the notebook. <br />On GitHub, the HTML representation is unable to render, please try loading this page with nbviewer.org.</b></div><div class=\"sk-container\" hidden><div class=\"sk-item\"><div class=\"sk-estimator sk-toggleable\"><input class=\"sk-toggleable__control sk-hidden--visually\" id=\"sk-estimator-id-2\" type=\"checkbox\" checked><label for=\"sk-estimator-id-2\" class=\"sk-toggleable__label sk-toggleable__label-arrow\">LinearRegression</label><div class=\"sk-toggleable__content\"><pre>LinearRegression()</pre></div></div></div></div></div>"
      ],
      "text/plain": [
       "LinearRegression()"
      ]
     },
     "execution_count": 14,
     "metadata": {},
     "output_type": "execute_result"
    }
   ],
   "source": [
    "lr = LinearRegression()\n",
    "lr.fit(X_train_pol,Y_train)"
   ]
  },
  {
   "cell_type": "code",
   "execution_count": 15,
   "id": "e114fd27",
   "metadata": {
    "execution": {
     "iopub.execute_input": "2025-07-28T10:43:42.711347Z",
     "iopub.status.busy": "2025-07-28T10:43:42.710524Z",
     "iopub.status.idle": "2025-07-28T10:43:42.715052Z",
     "shell.execute_reply": "2025-07-28T10:43:42.714208Z"
    },
    "papermill": {
     "duration": 0.011305,
     "end_time": "2025-07-28T10:43:42.716372",
     "exception": false,
     "start_time": "2025-07-28T10:43:42.705067",
     "status": "completed"
    },
    "tags": []
   },
   "outputs": [],
   "source": [
    "y_pred = lr.predict(X_test_pol)"
   ]
  },
  {
   "cell_type": "code",
   "execution_count": 16,
   "id": "ee7d1dd7",
   "metadata": {
    "execution": {
     "iopub.execute_input": "2025-07-28T10:43:42.727335Z",
     "iopub.status.busy": "2025-07-28T10:43:42.726534Z",
     "iopub.status.idle": "2025-07-28T10:43:42.732662Z",
     "shell.execute_reply": "2025-07-28T10:43:42.731797Z"
    },
    "papermill": {
     "duration": 0.01285,
     "end_time": "2025-07-28T10:43:42.733923",
     "exception": false,
     "start_time": "2025-07-28T10:43:42.721073",
     "status": "completed"
    },
    "tags": []
   },
   "outputs": [
    {
     "data": {
      "text/plain": [
       "0.8382120787190422"
      ]
     },
     "execution_count": 16,
     "metadata": {},
     "output_type": "execute_result"
    }
   ],
   "source": [
    "r2_score(y_pred,Y_test)"
   ]
  },
  {
   "cell_type": "code",
   "execution_count": 17,
   "id": "02ef8b23",
   "metadata": {
    "execution": {
     "iopub.execute_input": "2025-07-28T10:43:42.744600Z",
     "iopub.status.busy": "2025-07-28T10:43:42.744258Z",
     "iopub.status.idle": "2025-07-28T10:43:42.749424Z",
     "shell.execute_reply": "2025-07-28T10:43:42.748631Z"
    },
    "papermill": {
     "duration": 0.012167,
     "end_time": "2025-07-28T10:43:42.750840",
     "exception": false,
     "start_time": "2025-07-28T10:43:42.738673",
     "status": "completed"
    },
    "tags": []
   },
   "outputs": [],
   "source": [
    "#ploting graph\n",
    "\n",
    "X_new=np.linspace(-3, 3, 200).reshape(200, 1)\n",
    "X_new_poly = poly.transform(X_new)\n",
    "y_new = lr.predict(X_new_poly)"
   ]
  },
  {
   "cell_type": "code",
   "execution_count": 18,
   "id": "f3115e81",
   "metadata": {
    "execution": {
     "iopub.execute_input": "2025-07-28T10:43:42.762025Z",
     "iopub.status.busy": "2025-07-28T10:43:42.761337Z",
     "iopub.status.idle": "2025-07-28T10:43:43.026775Z",
     "shell.execute_reply": "2025-07-28T10:43:43.025950Z"
    },
    "papermill": {
     "duration": 0.272387,
     "end_time": "2025-07-28T10:43:43.028236",
     "exception": false,
     "start_time": "2025-07-28T10:43:42.755849",
     "status": "completed"
    },
    "tags": []
   },
   "outputs": [
    {
     "data": {
      "image/png": "[encoded data removed]",
      "text/plain": [
       "<Figure size 640x480 with 1 Axes>"
      ]
     },
     "metadata": {},
     "output_type": "display_data"
    }
   ],
   "source": [
    "plt.plot(X_new, y_new, \"r-\", linewidth=2, label=\"Predictions\")\n",
    "plt.plot(X_train, Y_train, \"b.\",label='Training points')\n",
    "plt.plot(X_test, Y_test, \"g.\",label='Testing points')\n",
    "plt.xlabel(\"X\")\n",
    "plt.ylabel(\"y\")\n",
    "plt.legend()\n",
    "plt.show()"
   ]
  },
  {
   "cell_type": "code",
   "execution_count": null,
   "id": "7534b152",
   "metadata": {
    "papermill": {
     "duration": 0.004867,
     "end_time": "2025-07-28T10:43:43.038545",
     "exception": false,
     "start_time": "2025-07-28T10:43:43.033678",
     "status": "completed"
    },
    "tags": []
   },
   "outputs": [],
   "source": []
  }
 ],
 "metadata": {
  "kaggle": {
   "accelerator": "none",
   "dataSources": [],
   "dockerImageVersionId": 31089,
   "isGpuEnabled": false,
   "isInternetEnabled": true,
   "language": "python",
   "sourceType": "notebook"
  },
  "kernelspec": {
   "display_name": "Python 3",
   "language": "python",
   "name": "python3"
  },
  "language_info": {
   "codemirror_mode": {
    "name": "ipython",
    "version": 3
   },
   "file_extension": ".py",
   "mimetype": "text/x-python",
   "name": "python",
   "nbconvert_exporter": "python",
   "pygments_lexer": "ipython3",
   "version": "3.11.13"
  },
  "papermill": {
   "default_parameters": {},
   "duration": 10.865686,
   "end_time": "2025-07-28T10:43:43.663079",
   "environment_variables": {},
   "exception": null,
   "input_path": "__notebook__.ipynb",
   "output_path": "__notebook__.ipynb",
   "parameters": {},
   "start_time": "2025-07-28T10:43:32.797393",
   "version": "2.6.0"
  }
 },
 "nbformat": 4,
 "nbformat_minor": 5
}
