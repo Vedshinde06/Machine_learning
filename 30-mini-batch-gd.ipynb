{
 "cells": [
  {
   "cell_type": "code",
   "execution_count": 1,
   "id": "315fdb7c",
   "metadata": {
    "_cell_guid": "b1076dfc-b9ad-4769-8c92-a6c4dae69d19",
    "_uuid": "8f2839f25d086af736a60e9eeb907d3b93b6e0e5",
    "execution": {
     "iopub.execute_input": "2025-07-27T06:35:18.289333Z",
     "iopub.status.busy": "2025-07-27T06:35:18.288950Z",
     "iopub.status.idle": "2025-07-27T06:35:20.248365Z",
     "shell.execute_reply": "2025-07-27T06:35:20.247583Z"
    },
    "papermill": {
     "duration": 1.965824,
     "end_time": "2025-07-27T06:35:20.250271",
     "exception": false,
     "start_time": "2025-07-27T06:35:18.284447",
     "status": "completed"
    },
    "tags": []
   },
   "outputs": [],
   "source": [
    "# This Python 3 environment comes with many helpful analytics libraries installed\n",
    "# It is defined by the kaggle/python Docker image: https://github.com/kaggle/docker-python\n",
    "# For example, here's several helpful packages to load\n",
    "\n",
    "import numpy as np # linear algebra\n",
    "import pandas as pd # data processing, CSV file I/O (e.g. pd.read_csv)\n",
    "\n",
    "# Input data files are available in the read-only \"../input/\" directory\n",
    "# For example, running this (by clicking run or pressing Shift+Enter) will list all files under the input directory\n",
    "\n",
    "import os\n",
    "for dirname, _, filenames in os.walk('/kaggle/input'):\n",
    "    for filename in filenames:\n",
    "        print(os.path.join(dirname, filename))\n",
    "\n",
    "# You can write up to 20GB to the current directory (/kaggle/working/) that gets preserved as output when you create a version using \"Save & Run All\" \n",
    "# You can also write temporary files to /kaggle/temp/, but they won't be saved outside of the current session"
   ]
  },
  {
   "cell_type": "code",
   "execution_count": 2,
   "id": "76ef7077",
   "metadata": {
    "execution": {
     "iopub.execute_input": "2025-07-27T06:35:20.257815Z",
     "iopub.status.busy": "2025-07-27T06:35:20.257393Z",
     "iopub.status.idle": "2025-07-27T06:35:22.137711Z",
     "shell.execute_reply": "2025-07-27T06:35:22.136935Z"
    },
    "papermill": {
     "duration": 1.885672,
     "end_time": "2025-07-27T06:35:22.139426",
     "exception": false,
     "start_time": "2025-07-27T06:35:20.253754",
     "status": "completed"
    },
    "tags": []
   },
   "outputs": [],
   "source": [
    "from sklearn.datasets import load_diabetes\n",
    "from sklearn.model_selection import train_test_split\n",
    "from sklearn.preprocessing import StandardScaler\n",
    "from sklearn.linear_model import SGDRegressor\n",
    "from sklearn.metrics import r2_score,mean_squared_error"
   ]
  },
  {
   "cell_type": "code",
   "execution_count": 3,
   "id": "c6e45e6a",
   "metadata": {
    "execution": {
     "iopub.execute_input": "2025-07-27T06:35:22.146150Z",
     "iopub.status.busy": "2025-07-27T06:35:22.145716Z",
     "iopub.status.idle": "2025-07-27T06:35:22.159680Z",
     "shell.execute_reply": "2025-07-27T06:35:22.158877Z"
    },
    "papermill": {
     "duration": 0.019199,
     "end_time": "2025-07-27T06:35:22.161368",
     "exception": false,
     "start_time": "2025-07-27T06:35:22.142169",
     "status": "completed"
    },
    "tags": []
   },
   "outputs": [],
   "source": [
    "db = load_diabetes()\n",
    "X = db.data\n",
    "Y = db.target"
   ]
  },
  {
   "cell_type": "code",
   "execution_count": 4,
   "id": "90bd57a2",
   "metadata": {
    "execution": {
     "iopub.execute_input": "2025-07-27T06:35:22.168250Z",
     "iopub.status.busy": "2025-07-27T06:35:22.167908Z",
     "iopub.status.idle": "2025-07-27T06:35:22.173598Z",
     "shell.execute_reply": "2025-07-27T06:35:22.172722Z"
    },
    "papermill": {
     "duration": 0.010976,
     "end_time": "2025-07-27T06:35:22.175106",
     "exception": false,
     "start_time": "2025-07-27T06:35:22.164130",
     "status": "completed"
    },
    "tags": []
   },
   "outputs": [],
   "source": [
    "X_train,X_test,Y_train,Y_test = train_test_split(X,Y, test_size=0.2, random_state=42)"
   ]
  },
  {
   "cell_type": "code",
   "execution_count": 5,
   "id": "80da03d4",
   "metadata": {
    "execution": {
     "iopub.execute_input": "2025-07-27T06:35:22.181716Z",
     "iopub.status.busy": "2025-07-27T06:35:22.181397Z",
     "iopub.status.idle": "2025-07-27T06:35:22.187899Z",
     "shell.execute_reply": "2025-07-27T06:35:22.187127Z"
    },
    "papermill": {
     "duration": 0.011381,
     "end_time": "2025-07-27T06:35:22.189281",
     "exception": false,
     "start_time": "2025-07-27T06:35:22.177900",
     "status": "completed"
    },
    "tags": []
   },
   "outputs": [
    {
     "data": {
      "text/plain": [
       "(353, 10)"
      ]
     },
     "execution_count": 5,
     "metadata": {},
     "output_type": "execute_result"
    }
   ],
   "source": [
    "X_train.shape"
   ]
  },
  {
   "cell_type": "code",
   "execution_count": 6,
   "id": "dd000a42",
   "metadata": {
    "execution": {
     "iopub.execute_input": "2025-07-27T06:35:22.195953Z",
     "iopub.status.busy": "2025-07-27T06:35:22.195640Z",
     "iopub.status.idle": "2025-07-27T06:35:22.201061Z",
     "shell.execute_reply": "2025-07-27T06:35:22.200152Z"
    },
    "papermill": {
     "duration": 0.010482,
     "end_time": "2025-07-27T06:35:22.202544",
     "exception": false,
     "start_time": "2025-07-27T06:35:22.192062",
     "status": "completed"
    },
    "tags": []
   },
   "outputs": [
    {
     "data": {
      "text/plain": [
       "(353,)"
      ]
     },
     "execution_count": 6,
     "metadata": {},
     "output_type": "execute_result"
    }
   ],
   "source": [
    "Y_train.shape"
   ]
  },
  {
   "cell_type": "code",
   "execution_count": 7,
   "id": "6a5e43a3",
   "metadata": {
    "execution": {
     "iopub.execute_input": "2025-07-27T06:35:22.209678Z",
     "iopub.status.busy": "2025-07-27T06:35:22.209356Z",
     "iopub.status.idle": "2025-07-27T06:35:22.215603Z",
     "shell.execute_reply": "2025-07-27T06:35:22.214570Z"
    },
    "papermill": {
     "duration": 0.011521,
     "end_time": "2025-07-27T06:35:22.217178",
     "exception": false,
     "start_time": "2025-07-27T06:35:22.205657",
     "status": "completed"
    },
    "tags": []
   },
   "outputs": [],
   "source": [
    "sc = StandardScaler()\n",
    "X_train_scaled = sc.fit_transform(X_train)\n",
    "X_test_scaled = sc.transform(X_test)"
   ]
  },
  {
   "cell_type": "code",
   "execution_count": 8,
   "id": "d2201ab0",
   "metadata": {
    "execution": {
     "iopub.execute_input": "2025-07-27T06:35:22.224214Z",
     "iopub.status.busy": "2025-07-27T06:35:22.223850Z",
     "iopub.status.idle": "2025-07-27T06:35:22.228701Z",
     "shell.execute_reply": "2025-07-27T06:35:22.227681Z"
    },
    "papermill": {
     "duration": 0.009998,
     "end_time": "2025-07-27T06:35:22.230213",
     "exception": false,
     "start_time": "2025-07-27T06:35:22.220215",
     "status": "completed"
    },
    "tags": []
   },
   "outputs": [],
   "source": [
    "SGD = SGDRegressor(learning_rate='constant', eta0=0.01, random_state=42)"
   ]
  },
  {
   "cell_type": "code",
   "execution_count": 9,
   "id": "a4094d4e",
   "metadata": {
    "execution": {
     "iopub.execute_input": "2025-07-27T06:35:22.237868Z",
     "iopub.status.busy": "2025-07-27T06:35:22.237048Z",
     "iopub.status.idle": "2025-07-27T06:35:22.302224Z",
     "shell.execute_reply": "2025-07-27T06:35:22.301218Z"
    },
    "papermill": {
     "duration": 0.070689,
     "end_time": "2025-07-27T06:35:22.304039",
     "exception": false,
     "start_time": "2025-07-27T06:35:22.233350",
     "status": "completed"
    },
    "tags": []
   },
   "outputs": [],
   "source": [
    "import random\n",
    "\n",
    "batch_size = 30\n",
    "epochs = 100\n",
    "for i in range(epochs):\n",
    "\n",
    "    idx = random.sample(range(X_train_scaled.shape[0]),batch_size)\n",
    "    SGD.partial_fit(X_train_scaled[idx],Y_train[idx])"
   ]
  },
  {
   "cell_type": "code",
   "execution_count": 10,
   "id": "86b4effd",
   "metadata": {
    "execution": {
     "iopub.execute_input": "2025-07-27T06:35:22.311207Z",
     "iopub.status.busy": "2025-07-27T06:35:22.310855Z",
     "iopub.status.idle": "2025-07-27T06:35:22.317285Z",
     "shell.execute_reply": "2025-07-27T06:35:22.316285Z"
    },
    "papermill": {
     "duration": 0.011709,
     "end_time": "2025-07-27T06:35:22.318758",
     "exception": false,
     "start_time": "2025-07-27T06:35:22.307049",
     "status": "completed"
    },
    "tags": []
   },
   "outputs": [
    {
     "data": {
      "text/plain": [
       "array([ 2.17194795, -8.46180991, 26.07563154, 20.46777807, -9.61320897,\n",
       "        6.50912717, -9.42301791, 12.15656226, 15.86171225,  4.26283073])"
      ]
     },
     "execution_count": 10,
     "metadata": {},
     "output_type": "execute_result"
    }
   ],
   "source": [
    "SGD.coef_"
   ]
  },
  {
   "cell_type": "code",
   "execution_count": 11,
   "id": "bb77393d",
   "metadata": {
    "execution": {
     "iopub.execute_input": "2025-07-27T06:35:22.326640Z",
     "iopub.status.busy": "2025-07-27T06:35:22.325940Z",
     "iopub.status.idle": "2025-07-27T06:35:22.332136Z",
     "shell.execute_reply": "2025-07-27T06:35:22.331268Z"
    },
    "papermill": {
     "duration": 0.011745,
     "end_time": "2025-07-27T06:35:22.333718",
     "exception": false,
     "start_time": "2025-07-27T06:35:22.321973",
     "status": "completed"
    },
    "tags": []
   },
   "outputs": [
    {
     "data": {
      "text/plain": [
       "array([153.69224769])"
      ]
     },
     "execution_count": 11,
     "metadata": {},
     "output_type": "execute_result"
    }
   ],
   "source": [
    "SGD.intercept_"
   ]
  },
  {
   "cell_type": "code",
   "execution_count": 12,
   "id": "085e3445",
   "metadata": {
    "execution": {
     "iopub.execute_input": "2025-07-27T06:35:22.341108Z",
     "iopub.status.busy": "2025-07-27T06:35:22.340801Z",
     "iopub.status.idle": "2025-07-27T06:35:22.352998Z",
     "shell.execute_reply": "2025-07-27T06:35:22.352054Z"
    },
    "papermill": {
     "duration": 0.017633,
     "end_time": "2025-07-27T06:35:22.354555",
     "exception": false,
     "start_time": "2025-07-27T06:35:22.336922",
     "status": "completed"
    },
    "tags": []
   },
   "outputs": [
    {
     "data": {
      "text/plain": [
       "0.13309558210339822"
      ]
     },
     "execution_count": 12,
     "metadata": {},
     "output_type": "execute_result"
    }
   ],
   "source": [
    "y_pred = SGD.predict(X_test_scaled)\n",
    "\n",
    "r2_score(y_pred,Y_test)"
   ]
  },
  {
   "cell_type": "code",
   "execution_count": 13,
   "id": "37fde5ab",
   "metadata": {
    "execution": {
     "iopub.execute_input": "2025-07-27T06:35:22.362387Z",
     "iopub.status.busy": "2025-07-27T06:35:22.362042Z",
     "iopub.status.idle": "2025-07-27T06:35:22.964052Z",
     "shell.execute_reply": "2025-07-27T06:35:22.963145Z"
    },
    "papermill": {
     "duration": 0.607913,
     "end_time": "2025-07-27T06:35:22.965835",
     "exception": false,
     "start_time": "2025-07-27T06:35:22.357922",
     "status": "completed"
    },
    "tags": []
   },
   "outputs": [],
   "source": [
    "#Using shuffle \n",
    "\n",
    "from sklearn.utils import shuffle\n",
    "\n",
    "batch_Size = 30\n",
    "Epochs = 100\n",
    "\n",
    "for epoch in range(Epochs):\n",
    "    X_shuffled,Y_shuffled = shuffle(X_train_scaled,Y_train, random_state=Epochs)\n",
    "    for i in range(0,len(X_shuffled),batch_Size):\n",
    "        X_batch = X_shuffled[i:i+batch_Size]\n",
    "        Y_batch = Y_shuffled[i:i+batch_Size]\n",
    "        SGD.partial_fit(X_batch,Y_batch)"
   ]
  },
  {
   "cell_type": "code",
   "execution_count": null,
   "id": "eb77e807",
   "metadata": {
    "papermill": {
     "duration": 0.002953,
     "end_time": "2025-07-27T06:35:22.972995",
     "exception": false,
     "start_time": "2025-07-27T06:35:22.970042",
     "status": "completed"
    },
    "tags": []
   },
   "outputs": [],
   "source": []
  }
 ],
 "metadata": {
  "kaggle": {
   "accelerator": "none",
   "dataSources": [],
   "dockerImageVersionId": 31089,
   "isGpuEnabled": false,
   "isInternetEnabled": true,
   "language": "python",
   "sourceType": "notebook"
  },
  "kernelspec": {
   "display_name": "Python 3",
   "language": "python",
   "name": "python3"
  },
  "language_info": {
   "codemirror_mode": {
    "name": "ipython",
    "version": 3
   },
   "file_extension": ".py",
   "mimetype": "text/x-python",
   "name": "python",
   "nbconvert_exporter": "python",
   "pygments_lexer": "ipython3",
   "version": "3.11.13"
  },
  "papermill": {
   "default_parameters": {},
   "duration": 10.410802,
   "end_time": "2025-07-27T06:35:23.697101",
   "environment_variables": {},
   "exception": null,
   "input_path": "__notebook__.ipynb",
   "output_path": "__notebook__.ipynb",
   "parameters": {},
   "start_time": "2025-07-27T06:35:13.286299",
   "version": "2.6.0"
  }
 },
 "nbformat": 4,
 "nbformat_minor": 5
}
