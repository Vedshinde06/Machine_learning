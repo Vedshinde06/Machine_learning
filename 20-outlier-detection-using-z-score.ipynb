{
 "cells": [
  {
   "cell_type": "code",
   "execution_count": 1,
   "id": "86bb3572",
   "metadata": {
    "_cell_guid": "b1076dfc-b9ad-4769-8c92-a6c4dae69d19",
    "_uuid": "8f2839f25d086af736a60e9eeb907d3b93b6e0e5",
    "execution": {
     "iopub.execute_input": "2025-03-01T14:17:31.583663Z",
     "iopub.status.busy": "2025-03-01T14:17:31.583168Z",
     "iopub.status.idle": "2025-03-01T14:17:32.931419Z",
     "shell.execute_reply": "2025-03-01T14:17:32.929792Z"
    },
    "papermill": {
     "duration": 1.353814,
     "end_time": "2025-03-01T14:17:32.932987",
     "exception": false,
     "start_time": "2025-03-01T14:17:31.579173",
     "status": "completed"
    },
    "tags": []
   },
   "outputs": [
    {
     "name": "stdout",
     "output_type": "stream",
     "text": [
      "/kaggle/input/placement1/placement.csv\n"
     ]
    }
   ],
   "source": [
    "# This Python 3 environment comes with many helpful analytics libraries installed\n",
    "# It is defined by the kaggle/python Docker image: https://github.com/kaggle/docker-python\n",
    "# For example, here's several helpful packages to load\n",
    "\n",
    "import numpy as np # linear algebra\n",
    "import pandas as pd # data processing, CSV file I/O (e.g. pd.read_csv)\n",
    "\n",
    "# Input data files are available in the read-only \"../input/\" directory\n",
    "# For example, running this (by clicking run or pressing Shift+Enter) will list all files under the input directory\n",
    "\n",
    "import os\n",
    "for dirname, _, filenames in os.walk('/kaggle/input'):\n",
    "    for filename in filenames:\n",
    "        print(os.path.join(dirname, filename))\n",
    "\n",
    "# You can write up to 20GB to the current directory (/kaggle/working/) that gets preserved as output when you create a version using \"Save & Run All\" \n",
    "# You can also write temporary files to /kaggle/temp/, but they won't be saved outside of the current session"
   ]
  },
  {
   "cell_type": "code",
   "execution_count": 2,
   "id": "30956bc0",
   "metadata": {
    "execution": {
     "iopub.execute_input": "2025-03-01T14:17:32.938442Z",
     "iopub.status.busy": "2025-03-01T14:17:32.937871Z",
     "iopub.status.idle": "2025-03-01T14:17:32.966303Z",
     "shell.execute_reply": "2025-03-01T14:17:32.965195Z"
    },
    "papermill": {
     "duration": 0.033082,
     "end_time": "2025-03-01T14:17:32.968059",
     "exception": false,
     "start_time": "2025-03-01T14:17:32.934977",
     "status": "completed"
    },
    "tags": []
   },
   "outputs": [],
   "source": [
    "df = pd.read_csv('/kaggle/input/placement1/placement.csv')"
   ]
  },
  {
   "cell_type": "code",
   "execution_count": 3,
   "id": "71ca0bda",
   "metadata": {
    "execution": {
     "iopub.execute_input": "2025-03-01T14:17:32.972716Z",
     "iopub.status.busy": "2025-03-01T14:17:32.972387Z",
     "iopub.status.idle": "2025-03-01T14:17:33.014397Z",
     "shell.execute_reply": "2025-03-01T14:17:33.012583Z"
    },
    "papermill": {
     "duration": 0.046642,
     "end_time": "2025-03-01T14:17:33.016471",
     "exception": false,
     "start_time": "2025-03-01T14:17:32.969829",
     "status": "completed"
    },
    "tags": []
   },
   "outputs": [
    {
     "data": {
      "text/html": [
       "<div>\n",
       "<style scoped>\n",
       "    .dataframe tbody tr th:only-of-type {\n",
       "        vertical-align: middle;\n",
       "    }\n",
       "\n",
       "    .dataframe tbody tr th {\n",
       "        vertical-align: top;\n",
       "    }\n",
       "\n",
       "    .dataframe thead th {\n",
       "        text-align: right;\n",
       "    }\n",
       "</style>\n",
       "<table border=\"1\" class=\"dataframe\">\n",
       "  <thead>\n",
       "    <tr style=\"text-align: right;\">\n",
       "      <th></th>\n",
       "      <th>cgpa</th>\n",
       "      <th>placement_exam_marks</th>\n",
       "      <th>placed</th>\n",
       "    </tr>\n",
       "  </thead>\n",
       "  <tbody>\n",
       "    <tr>\n",
       "      <th>989</th>\n",
       "      <td>6.23</td>\n",
       "      <td>31.0</td>\n",
       "      <td>0</td>\n",
       "    </tr>\n",
       "    <tr>\n",
       "      <th>308</th>\n",
       "      <td>7.20</td>\n",
       "      <td>47.0</td>\n",
       "      <td>1</td>\n",
       "    </tr>\n",
       "    <tr>\n",
       "      <th>353</th>\n",
       "      <td>6.82</td>\n",
       "      <td>28.0</td>\n",
       "      <td>1</td>\n",
       "    </tr>\n",
       "    <tr>\n",
       "      <th>268</th>\n",
       "      <td>7.38</td>\n",
       "      <td>21.0</td>\n",
       "      <td>0</td>\n",
       "    </tr>\n",
       "  </tbody>\n",
       "</table>\n",
       "</div>"
      ],
      "text/plain": [
       "     cgpa  placement_exam_marks  placed\n",
       "989  6.23                  31.0       0\n",
       "308  7.20                  47.0       1\n",
       "353  6.82                  28.0       1\n",
       "268  7.38                  21.0       0"
      ]
     },
     "execution_count": 3,
     "metadata": {},
     "output_type": "execute_result"
    }
   ],
   "source": [
    "df.sample(4)"
   ]
  },
  {
   "cell_type": "code",
   "execution_count": 4,
   "id": "44cb0f65",
   "metadata": {
    "execution": {
     "iopub.execute_input": "2025-03-01T14:17:33.021227Z",
     "iopub.status.busy": "2025-03-01T14:17:33.020934Z",
     "iopub.status.idle": "2025-03-01T14:17:33.027039Z",
     "shell.execute_reply": "2025-03-01T14:17:33.025973Z"
    },
    "papermill": {
     "duration": 0.011199,
     "end_time": "2025-03-01T14:17:33.029689",
     "exception": false,
     "start_time": "2025-03-01T14:17:33.018490",
     "status": "completed"
    },
    "tags": []
   },
   "outputs": [
    {
     "data": {
      "text/plain": [
       "(1000, 3)"
      ]
     },
     "execution_count": 4,
     "metadata": {},
     "output_type": "execute_result"
    }
   ],
   "source": [
    "df.shape"
   ]
  },
  {
   "cell_type": "code",
   "execution_count": null,
   "id": "8ee8d524",
   "metadata": {
    "papermill": {
     "duration": 0.001776,
     "end_time": "2025-03-01T14:17:33.034248",
     "exception": false,
     "start_time": "2025-03-01T14:17:33.032472",
     "status": "completed"
    },
    "tags": []
   },
   "outputs": [],
   "source": []
  }
 ],
 "metadata": {
  "kaggle": {
   "accelerator": "none",
   "dataSources": [
    {
     "datasetId": 3530282,
     "sourceId": 6154694,
     "sourceType": "datasetVersion"
    }
   ],
   "dockerImageVersionId": 30918,
   "isGpuEnabled": false,
   "isInternetEnabled": true,
   "language": "python",
   "sourceType": "notebook"
  },
  "kernelspec": {
   "display_name": "Python 3",
   "language": "python",
   "name": "python3"
  },
  "language_info": {
   "codemirror_mode": {
    "name": "ipython",
    "version": 3
   },
   "file_extension": ".py",
   "mimetype": "text/x-python",
   "name": "python",
   "nbconvert_exporter": "python",
   "pygments_lexer": "ipython3",
   "version": "3.10.12"
  },
  "papermill": {
   "default_parameters": {},
   "duration": 4.557387,
   "end_time": "2025-03-01T14:17:33.658301",
   "environment_variables": {},
   "exception": null,
   "input_path": "__notebook__.ipynb",
   "output_path": "__notebook__.ipynb",
   "parameters": {},
   "start_time": "2025-03-01T14:17:29.100914",
   "version": "2.6.0"
  }
 },
 "nbformat": 4,
 "nbformat_minor": 5
}
