{
 "cells": [
  {
   "cell_type": "code",
   "execution_count": 1,
   "id": "f6bee914",
   "metadata": {
    "_cell_guid": "b1076dfc-b9ad-4769-8c92-a6c4dae69d19",
    "_uuid": "8f2839f25d086af736a60e9eeb907d3b93b6e0e5",
    "execution": {
     "iopub.execute_input": "2025-07-26T14:10:36.218993Z",
     "iopub.status.busy": "2025-07-26T14:10:36.218598Z",
     "iopub.status.idle": "2025-07-26T14:10:38.196272Z",
     "shell.execute_reply": "2025-07-26T14:10:38.195431Z"
    },
    "papermill": {
     "duration": 1.985719,
     "end_time": "2025-07-26T14:10:38.198087",
     "exception": false,
     "start_time": "2025-07-26T14:10:36.212368",
     "status": "completed"
    },
    "tags": []
   },
   "outputs": [],
   "source": [
    "# This Python 3 environment comes with many helpful analytics libraries installed\n",
    "# It is defined by the kaggle/python Docker image: https://github.com/kaggle/docker-python\n",
    "# For example, here's several helpful packages to load\n",
    "\n",
    "import numpy as np # linear algebra\n",
    "import pandas as pd # data processing, CSV file I/O (e.g. pd.read_csv)\n",
    "\n",
    "# Input data files are available in the read-only \"../input/\" directory\n",
    "# For example, running this (by clicking run or pressing Shift+Enter) will list all files under the input directory\n",
    "\n",
    "import os\n",
    "for dirname, _, filenames in os.walk('/kaggle/input'):\n",
    "    for filename in filenames:\n",
    "        print(os.path.join(dirname, filename))\n",
    "\n",
    "# You can write up to 20GB to the current directory (/kaggle/working/) that gets preserved as output when you create a version using \"Save & Run All\" \n",
    "# You can also write temporary files to /kaggle/temp/, but they won't be saved outside of the current session"
   ]
  },
  {
   "cell_type": "code",
   "execution_count": 2,
   "id": "fbedcf0f",
   "metadata": {
    "execution": {
     "iopub.execute_input": "2025-07-26T14:10:38.207791Z",
     "iopub.status.busy": "2025-07-26T14:10:38.206799Z",
     "iopub.status.idle": "2025-07-26T14:10:39.831671Z",
     "shell.execute_reply": "2025-07-26T14:10:39.830857Z"
    },
    "papermill": {
     "duration": 1.631264,
     "end_time": "2025-07-26T14:10:39.833475",
     "exception": false,
     "start_time": "2025-07-26T14:10:38.202211",
     "status": "completed"
    },
    "tags": []
   },
   "outputs": [],
   "source": [
    "from sklearn.datasets import load_diabetes"
   ]
  },
  {
   "cell_type": "code",
   "execution_count": 3,
   "id": "2ac3e2be",
   "metadata": {
    "execution": {
     "iopub.execute_input": "2025-07-26T14:10:39.842320Z",
     "iopub.status.busy": "2025-07-26T14:10:39.841840Z",
     "iopub.status.idle": "2025-07-26T14:10:39.855770Z",
     "shell.execute_reply": "2025-07-26T14:10:39.855034Z"
    },
    "papermill": {
     "duration": 0.020012,
     "end_time": "2025-07-26T14:10:39.857411",
     "exception": false,
     "start_time": "2025-07-26T14:10:39.837399",
     "status": "completed"
    },
    "tags": []
   },
   "outputs": [],
   "source": [
    "diabetes = load_diabetes()"
   ]
  },
  {
   "cell_type": "code",
   "execution_count": 4,
   "id": "79b7baf1",
   "metadata": {
    "execution": {
     "iopub.execute_input": "2025-07-26T14:10:39.865730Z",
     "iopub.status.busy": "2025-07-26T14:10:39.865198Z",
     "iopub.status.idle": "2025-07-26T14:10:39.877270Z",
     "shell.execute_reply": "2025-07-26T14:10:39.876351Z"
    },
    "papermill": {
     "duration": 0.017895,
     "end_time": "2025-07-26T14:10:39.878874",
     "exception": false,
     "start_time": "2025-07-26T14:10:39.860979",
     "status": "completed"
    },
    "tags": []
   },
   "outputs": [],
   "source": [
    "df = pd.DataFrame(data=diabetes.data, columns=diabetes.feature_names)\n",
    "df['target'] = diabetes.target"
   ]
  },
  {
   "cell_type": "code",
   "execution_count": 5,
   "id": "5fb4c05e",
   "metadata": {
    "execution": {
     "iopub.execute_input": "2025-07-26T14:10:39.887133Z",
     "iopub.status.busy": "2025-07-26T14:10:39.886526Z",
     "iopub.status.idle": "2025-07-26T14:10:39.890887Z",
     "shell.execute_reply": "2025-07-26T14:10:39.890076Z"
    },
    "papermill": {
     "duration": 0.009902,
     "end_time": "2025-07-26T14:10:39.892296",
     "exception": false,
     "start_time": "2025-07-26T14:10:39.882394",
     "status": "completed"
    },
    "tags": []
   },
   "outputs": [],
   "source": [
    "X = diabetes.data\n",
    "Y = diabetes.target"
   ]
  },
  {
   "cell_type": "code",
   "execution_count": 6,
   "id": "32e72930",
   "metadata": {
    "execution": {
     "iopub.execute_input": "2025-07-26T14:10:39.900442Z",
     "iopub.status.busy": "2025-07-26T14:10:39.899873Z",
     "iopub.status.idle": "2025-07-26T14:10:39.997646Z",
     "shell.execute_reply": "2025-07-26T14:10:39.996788Z"
    },
    "papermill": {
     "duration": 0.103561,
     "end_time": "2025-07-26T14:10:39.999328",
     "exception": false,
     "start_time": "2025-07-26T14:10:39.895767",
     "status": "completed"
    },
    "tags": []
   },
   "outputs": [],
   "source": [
    "from sklearn.model_selection import train_test_split\n",
    "X_train, X_test, Y_train, Y_test = train_test_split(X, Y, test_size=0.2, random_state=42)"
   ]
  },
  {
   "cell_type": "code",
   "execution_count": 7,
   "id": "784169a1",
   "metadata": {
    "execution": {
     "iopub.execute_input": "2025-07-26T14:10:40.007442Z",
     "iopub.status.busy": "2025-07-26T14:10:40.007129Z",
     "iopub.status.idle": "2025-07-26T14:10:40.013469Z",
     "shell.execute_reply": "2025-07-26T14:10:40.012635Z"
    },
    "papermill": {
     "duration": 0.011858,
     "end_time": "2025-07-26T14:10:40.014738",
     "exception": false,
     "start_time": "2025-07-26T14:10:40.002880",
     "status": "completed"
    },
    "tags": []
   },
   "outputs": [
    {
     "data": {
      "text/plain": [
       "(353, 10)"
      ]
     },
     "execution_count": 7,
     "metadata": {},
     "output_type": "execute_result"
    }
   ],
   "source": [
    "X_train.shape"
   ]
  },
  {
   "cell_type": "code",
   "execution_count": 8,
   "id": "69cd947f",
   "metadata": {
    "execution": {
     "iopub.execute_input": "2025-07-26T14:10:40.022896Z",
     "iopub.status.busy": "2025-07-26T14:10:40.022593Z",
     "iopub.status.idle": "2025-07-26T14:10:40.028410Z",
     "shell.execute_reply": "2025-07-26T14:10:40.027605Z"
    },
    "papermill": {
     "duration": 0.011292,
     "end_time": "2025-07-26T14:10:40.029669",
     "exception": false,
     "start_time": "2025-07-26T14:10:40.018377",
     "status": "completed"
    },
    "tags": []
   },
   "outputs": [
    {
     "data": {
      "text/plain": [
       "(89, 10)"
      ]
     },
     "execution_count": 8,
     "metadata": {},
     "output_type": "execute_result"
    }
   ],
   "source": [
    "X_test.shape"
   ]
  },
  {
   "cell_type": "code",
   "execution_count": 9,
   "id": "1311b471",
   "metadata": {
    "execution": {
     "iopub.execute_input": "2025-07-26T14:10:40.038329Z",
     "iopub.status.busy": "2025-07-26T14:10:40.037595Z",
     "iopub.status.idle": "2025-07-26T14:10:40.137069Z",
     "shell.execute_reply": "2025-07-26T14:10:40.136034Z"
    },
    "papermill": {
     "duration": 0.105633,
     "end_time": "2025-07-26T14:10:40.139076",
     "exception": false,
     "start_time": "2025-07-26T14:10:40.033443",
     "status": "completed"
    },
    "tags": []
   },
   "outputs": [],
   "source": [
    "from sklearn.linear_model import SGDRegressor"
   ]
  },
  {
   "cell_type": "code",
   "execution_count": 10,
   "id": "06cce6a6",
   "metadata": {
    "execution": {
     "iopub.execute_input": "2025-07-26T14:10:40.148120Z",
     "iopub.status.busy": "2025-07-26T14:10:40.147811Z",
     "iopub.status.idle": "2025-07-26T14:10:40.154045Z",
     "shell.execute_reply": "2025-07-26T14:10:40.153220Z"
    },
    "papermill": {
     "duration": 0.012726,
     "end_time": "2025-07-26T14:10:40.155866",
     "exception": false,
     "start_time": "2025-07-26T14:10:40.143140",
     "status": "completed"
    },
    "tags": []
   },
   "outputs": [],
   "source": [
    "from sklearn.preprocessing import StandardScaler\n",
    "\n",
    "scaler = StandardScaler()\n",
    "\n",
    "X_train_scaled = scaler.fit_transform(X_train)\n",
    "X_test_scaled = scaler.transform(X_test)"
   ]
  },
  {
   "cell_type": "code",
   "execution_count": 11,
   "id": "eddc6f04",
   "metadata": {
    "execution": {
     "iopub.execute_input": "2025-07-26T14:10:40.166192Z",
     "iopub.status.busy": "2025-07-26T14:10:40.165831Z",
     "iopub.status.idle": "2025-07-26T14:10:40.170275Z",
     "shell.execute_reply": "2025-07-26T14:10:40.169427Z"
    },
    "papermill": {
     "duration": 0.010653,
     "end_time": "2025-07-26T14:10:40.171867",
     "exception": false,
     "start_time": "2025-07-26T14:10:40.161214",
     "status": "completed"
    },
    "tags": []
   },
   "outputs": [],
   "source": [
    "model = SGDRegressor(max_iter=1000, learning_rate='invscaling', eta0=0.01, random_state=42)\n",
    "\n",
    "#max_iter = epochs\n",
    "#learning_rate invscaling = decrease learning rate with time, (learning sheduling)\n",
    "#eta0 = learning rate (n)\n"
   ]
  },
  {
   "cell_type": "code",
   "execution_count": 12,
   "id": "cbd3a794",
   "metadata": {
    "execution": {
     "iopub.execute_input": "2025-07-26T14:10:40.181244Z",
     "iopub.status.busy": "2025-07-26T14:10:40.180864Z",
     "iopub.status.idle": "2025-07-26T14:10:40.196328Z",
     "shell.execute_reply": "2025-07-26T14:10:40.195445Z"
    },
    "papermill": {
     "duration": 0.021942,
     "end_time": "2025-07-26T14:10:40.197899",
     "exception": false,
     "start_time": "2025-07-26T14:10:40.175957",
     "status": "completed"
    },
    "tags": []
   },
   "outputs": [
    {
     "data": {
      "text/html": [
       "<style>#sk-container-id-1 {color: black;background-color: white;}#sk-container-id-1 pre{padding: 0;}#sk-container-id-1 div.sk-toggleable {background-color: white;}#sk-container-id-1 label.sk-toggleable__label {cursor: pointer;display: block;width: 100%;margin-bottom: 0;padding: 0.3em;box-sizing: border-box;text-align: center;}#sk-container-id-1 label.sk-toggleable__label-arrow:before {content: \"▸\";float: left;margin-right: 0.25em;color: #696969;}#sk-container-id-1 label.sk-toggleable__label-arrow:hover:before {color: black;}#sk-container-id-1 div.sk-estimator:hover label.sk-toggleable__label-arrow:before {color: black;}#sk-container-id-1 div.sk-toggleable__content {max-height: 0;max-width: 0;overflow: hidden;text-align: left;background-color: #f0f8ff;}#sk-container-id-1 div.sk-toggleable__content pre {margin: 0.2em;color: black;border-radius: 0.25em;background-color: #f0f8ff;}#sk-container-id-1 input.sk-toggleable__control:checked~div.sk-toggleable__content {max-height: 200px;max-width: 100%;overflow: auto;}#sk-container-id-1 input.sk-toggleable__control:checked~label.sk-toggleable__label-arrow:before {content: \"▾\";}#sk-container-id-1 div.sk-estimator input.sk-toggleable__control:checked~label.sk-toggleable__label {background-color: #d4ebff;}#sk-container-id-1 div.sk-label input.sk-toggleable__control:checked~label.sk-toggleable__label {background-color: #d4ebff;}#sk-container-id-1 input.sk-hidden--visually {border: 0;clip: rect(1px 1px 1px 1px);clip: rect(1px, 1px, 1px, 1px);height: 1px;margin: -1px;overflow: hidden;padding: 0;position: absolute;width: 1px;}#sk-container-id-1 div.sk-estimator {font-family: monospace;background-color: #f0f8ff;border: 1px dotted black;border-radius: 0.25em;box-sizing: border-box;margin-bottom: 0.5em;}#sk-container-id-1 div.sk-estimator:hover {background-color: #d4ebff;}#sk-container-id-1 div.sk-parallel-item::after {content: \"\";width: 100%;border-bottom: 1px solid gray;flex-grow: 1;}#sk-container-id-1 div.sk-label:hover label.sk-toggleable__label {background-color: #d4ebff;}#sk-container-id-1 div.sk-serial::before {content: \"\";position: absolute;border-left: 1px solid gray;box-sizing: border-box;top: 0;bottom: 0;left: 50%;z-index: 0;}#sk-container-id-1 div.sk-serial {display: flex;flex-direction: column;align-items: center;background-color: white;padding-right: 0.2em;padding-left: 0.2em;position: relative;}#sk-container-id-1 div.sk-item {position: relative;z-index: 1;}#sk-container-id-1 div.sk-parallel {display: flex;align-items: stretch;justify-content: center;background-color: white;position: relative;}#sk-container-id-1 div.sk-item::before, #sk-container-id-1 div.sk-parallel-item::before {content: \"\";position: absolute;border-left: 1px solid gray;box-sizing: border-box;top: 0;bottom: 0;left: 50%;z-index: -1;}#sk-container-id-1 div.sk-parallel-item {display: flex;flex-direction: column;z-index: 1;position: relative;background-color: white;}#sk-container-id-1 div.sk-parallel-item:first-child::after {align-self: flex-end;width: 50%;}#sk-container-id-1 div.sk-parallel-item:last-child::after {align-self: flex-start;width: 50%;}#sk-container-id-1 div.sk-parallel-item:only-child::after {width: 0;}#sk-container-id-1 div.sk-dashed-wrapped {border: 1px dashed gray;margin: 0 0.4em 0.5em 0.4em;box-sizing: border-box;padding-bottom: 0.4em;background-color: white;}#sk-container-id-1 div.sk-label label {font-family: monospace;font-weight: bold;display: inline-block;line-height: 1.2em;}#sk-container-id-1 div.sk-label-container {text-align: center;}#sk-container-id-1 div.sk-container {/* jupyter's `normalize.less` sets `[hidden] { display: none; }` but bootstrap.min.css set `[hidden] { display: none !important; }` so we also need the `!important` here to be able to override the default hidden behavior on the sphinx rendered scikit-learn.org. See: https://github.com/scikit-learn/scikit-learn/issues/21755 */display: inline-block !important;position: relative;}#sk-container-id-1 div.sk-text-repr-fallback {display: none;}</style><div id=\"sk-container-id-1\" class=\"sk-top-container\"><div class=\"sk-text-repr-fallback\"><pre>SGDRegressor(random_state=42)</pre><b>In a Jupyter environment, please rerun this cell to show the HTML representation or trust the notebook. <br />On GitHub, the HTML representation is unable to render, please try loading this page with nbviewer.org.</b></div><div class=\"sk-container\" hidden><div class=\"sk-item\"><div class=\"sk-estimator sk-toggleable\"><input class=\"sk-toggleable__control sk-hidden--visually\" id=\"sk-estimator-id-1\" type=\"checkbox\" checked><label for=\"sk-estimator-id-1\" class=\"sk-toggleable__label sk-toggleable__label-arrow\">SGDRegressor</label><div class=\"sk-toggleable__content\"><pre>SGDRegressor(random_state=42)</pre></div></div></div></div></div>"
      ],
      "text/plain": [
       "SGDRegressor(random_state=42)"
      ]
     },
     "execution_count": 12,
     "metadata": {},
     "output_type": "execute_result"
    }
   ],
   "source": [
    "model.fit(X_train_scaled, Y_train)"
   ]
  },
  {
   "cell_type": "code",
   "execution_count": 13,
   "id": "9bda4ba3",
   "metadata": {
    "execution": {
     "iopub.execute_input": "2025-07-26T14:10:40.207292Z",
     "iopub.status.busy": "2025-07-26T14:10:40.206958Z",
     "iopub.status.idle": "2025-07-26T14:10:40.211187Z",
     "shell.execute_reply": "2025-07-26T14:10:40.210370Z"
    },
    "papermill": {
     "duration": 0.010774,
     "end_time": "2025-07-26T14:10:40.212880",
     "exception": false,
     "start_time": "2025-07-26T14:10:40.202106",
     "status": "completed"
    },
    "tags": []
   },
   "outputs": [],
   "source": [
    "from sklearn.metrics import r2_score"
   ]
  },
  {
   "cell_type": "code",
   "execution_count": 14,
   "id": "2ea8207a",
   "metadata": {
    "execution": {
     "iopub.execute_input": "2025-07-26T14:10:40.221998Z",
     "iopub.status.busy": "2025-07-26T14:10:40.221708Z",
     "iopub.status.idle": "2025-07-26T14:10:40.230228Z",
     "shell.execute_reply": "2025-07-26T14:10:40.229357Z"
    },
    "papermill": {
     "duration": 0.014707,
     "end_time": "2025-07-26T14:10:40.231695",
     "exception": false,
     "start_time": "2025-07-26T14:10:40.216988",
     "status": "completed"
    },
    "tags": []
   },
   "outputs": [],
   "source": [
    "y_pred = model.predict(X_test_scaled)"
   ]
  },
  {
   "cell_type": "code",
   "execution_count": 15,
   "id": "bcbf0925",
   "metadata": {
    "execution": {
     "iopub.execute_input": "2025-07-26T14:10:40.240655Z",
     "iopub.status.busy": "2025-07-26T14:10:40.240388Z",
     "iopub.status.idle": "2025-07-26T14:10:40.246652Z",
     "shell.execute_reply": "2025-07-26T14:10:40.245732Z"
    },
    "papermill": {
     "duration": 0.012453,
     "end_time": "2025-07-26T14:10:40.248144",
     "exception": false,
     "start_time": "2025-07-26T14:10:40.235691",
     "status": "completed"
    },
    "tags": []
   },
   "outputs": [
    {
     "data": {
      "text/plain": [
       "-0.013120078406271496"
      ]
     },
     "execution_count": 15,
     "metadata": {},
     "output_type": "execute_result"
    }
   ],
   "source": [
    "r2_score(y_pred, Y_test)"
   ]
  },
  {
   "cell_type": "code",
   "execution_count": 16,
   "id": "a5fca639",
   "metadata": {
    "execution": {
     "iopub.execute_input": "2025-07-26T14:10:40.257967Z",
     "iopub.status.busy": "2025-07-26T14:10:40.257038Z",
     "iopub.status.idle": "2025-07-26T14:10:40.261842Z",
     "shell.execute_reply": "2025-07-26T14:10:40.261096Z"
    },
    "papermill": {
     "duration": 0.010755,
     "end_time": "2025-07-26T14:10:40.263143",
     "exception": false,
     "start_time": "2025-07-26T14:10:40.252388",
     "status": "completed"
    },
    "tags": []
   },
   "outputs": [],
   "source": [
    "from sklearn.metrics import mean_squared_error\n",
    "\n",
    "MSE = mean_squared_error(y_pred, Y_test)"
   ]
  },
  {
   "cell_type": "code",
   "execution_count": 17,
   "id": "bb3ce3f9",
   "metadata": {
    "execution": {
     "iopub.execute_input": "2025-07-26T14:10:40.272877Z",
     "iopub.status.busy": "2025-07-26T14:10:40.271948Z",
     "iopub.status.idle": "2025-07-26T14:10:40.277459Z",
     "shell.execute_reply": "2025-07-26T14:10:40.276515Z"
    },
    "papermill": {
     "duration": 0.011489,
     "end_time": "2025-07-26T14:10:40.278776",
     "exception": false,
     "start_time": "2025-07-26T14:10:40.267287",
     "status": "completed"
    },
    "tags": []
   },
   "outputs": [
    {
     "name": "stdout",
     "output_type": "stream",
     "text": [
      "MSE Score 2883.720046438128\n"
     ]
    }
   ],
   "source": [
    "print(\"MSE Score\", MSE)"
   ]
  },
  {
   "cell_type": "code",
   "execution_count": 18,
   "id": "283e946a",
   "metadata": {
    "execution": {
     "iopub.execute_input": "2025-07-26T14:10:40.288403Z",
     "iopub.status.busy": "2025-07-26T14:10:40.287656Z",
     "iopub.status.idle": "2025-07-26T14:10:40.293060Z",
     "shell.execute_reply": "2025-07-26T14:10:40.292061Z"
    },
    "papermill": {
     "duration": 0.01172,
     "end_time": "2025-07-26T14:10:40.294645",
     "exception": false,
     "start_time": "2025-07-26T14:10:40.282925",
     "status": "completed"
    },
    "tags": []
   },
   "outputs": [
    {
     "name": "stdout",
     "output_type": "stream",
     "text": [
      "Root mean square error 53.70027976126501\n"
     ]
    }
   ],
   "source": [
    "rmse = np.sqrt(MSE)\n",
    "\n",
    "print(\"Root mean square error\", rmse)"
   ]
  },
  {
   "cell_type": "code",
   "execution_count": null,
   "id": "abcb05bf",
   "metadata": {
    "papermill": {
     "duration": 0.003837,
     "end_time": "2025-07-26T14:10:40.302889",
     "exception": false,
     "start_time": "2025-07-26T14:10:40.299052",
     "status": "completed"
    },
    "tags": []
   },
   "outputs": [],
   "source": []
  }
 ],
 "metadata": {
  "kaggle": {
   "accelerator": "none",
   "dataSources": [],
   "dockerImageVersionId": 31089,
   "isGpuEnabled": false,
   "isInternetEnabled": true,
   "language": "python",
   "sourceType": "notebook"
  },
  "kernelspec": {
   "display_name": "Python 3",
   "language": "python",
   "name": "python3"
  },
  "language_info": {
   "codemirror_mode": {
    "name": "ipython",
    "version": 3
   },
   "file_extension": ".py",
   "mimetype": "text/x-python",
   "name": "python",
   "nbconvert_exporter": "python",
   "pygments_lexer": "ipython3",
   "version": "3.11.13"
  },
  "papermill": {
   "default_parameters": {},
   "duration": 9.629404,
   "end_time": "2025-07-26T14:10:40.927131",
   "environment_variables": {},
   "exception": null,
   "input_path": "__notebook__.ipynb",
   "output_path": "__notebook__.ipynb",
   "parameters": {},
   "start_time": "2025-07-26T14:10:31.297727",
   "version": "2.6.0"
  }
 },
 "nbformat": 4,
 "nbformat_minor": 5
}
