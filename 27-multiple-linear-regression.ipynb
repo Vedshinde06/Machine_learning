{
 "cells": [
  {
   "cell_type": "code",
   "execution_count": 1,
   "id": "f6a976de",
   "metadata": {
    "_cell_guid": "b1076dfc-b9ad-4769-8c92-a6c4dae69d19",
    "_uuid": "8f2839f25d086af736a60e9eeb907d3b93b6e0e5",
    "execution": {
     "iopub.execute_input": "2025-03-26T17:47:28.212123Z",
     "iopub.status.busy": "2025-03-26T17:47:28.211737Z",
     "iopub.status.idle": "2025-03-26T17:47:29.040593Z",
     "shell.execute_reply": "2025-03-26T17:47:29.039603Z"
    },
    "papermill": {
     "duration": 0.835824,
     "end_time": "2025-03-26T17:47:29.042578",
     "exception": false,
     "start_time": "2025-03-26T17:47:28.206754",
     "status": "completed"
    },
    "tags": []
   },
   "outputs": [],
   "source": [
    "# This Python 3 environment comes with many helpful analytics libraries installed\n",
    "# It is defined by the kaggle/python Docker image: https://github.com/kaggle/docker-python\n",
    "# For example, here's several helpful packages to load\n",
    "\n",
    "import numpy as np # linear algebra\n",
    "import pandas as pd # data processing, CSV file I/O (e.g. pd.read_csv)\n",
    "\n",
    "# Input data files are available in the read-only \"../input/\" directory\n",
    "# For example, running this (by clicking run or pressing Shift+Enter) will list all files under the input directory\n",
    "\n",
    "import os\n",
    "for dirname, _, filenames in os.walk('/kaggle/input'):\n",
    "    for filename in filenames:\n",
    "        print(os.path.join(dirname, filename))\n",
    "\n",
    "# You can write up to 20GB to the current directory (/kaggle/working/) that gets preserved as output when you create a version using \"Save & Run All\" \n",
    "# You can also write temporary files to /kaggle/temp/, but they won't be saved outside of the current session"
   ]
  },
  {
   "cell_type": "code",
   "execution_count": 2,
   "id": "4d80fc90",
   "metadata": {
    "execution": {
     "iopub.execute_input": "2025-03-26T17:47:29.050693Z",
     "iopub.status.busy": "2025-03-26T17:47:29.050227Z",
     "iopub.status.idle": "2025-03-26T17:47:31.350050Z",
     "shell.execute_reply": "2025-03-26T17:47:31.349205Z"
    },
    "papermill": {
     "duration": 2.305698,
     "end_time": "2025-03-26T17:47:31.352053",
     "exception": false,
     "start_time": "2025-03-26T17:47:29.046355",
     "status": "completed"
    },
    "tags": []
   },
   "outputs": [],
   "source": [
    "from sklearn.datasets import make_regression\n",
    "import pandas as pd\n",
    "import numpy as np\n",
    "\n",
    "import plotly.express as px\n",
    "import plotly.graph_objects as go\n",
    "\n",
    "from sklearn.metrics import mean_absolute_error,mean_squared_error,r2_score"
   ]
  },
  {
   "cell_type": "code",
   "execution_count": 3,
   "id": "c6fe33a7",
   "metadata": {
    "execution": {
     "iopub.execute_input": "2025-03-26T17:47:31.360036Z",
     "iopub.status.busy": "2025-03-26T17:47:31.359546Z",
     "iopub.status.idle": "2025-03-26T17:47:31.369024Z",
     "shell.execute_reply": "2025-03-26T17:47:31.368171Z"
    },
    "papermill": {
     "duration": 0.015244,
     "end_time": "2025-03-26T17:47:31.370717",
     "exception": false,
     "start_time": "2025-03-26T17:47:31.355473",
     "status": "completed"
    },
    "tags": []
   },
   "outputs": [],
   "source": [
    "X,y = make_regression(n_samples=100, n_features=2, n_informative=2, n_targets=1, noise=50)\n"
   ]
  },
  {
   "cell_type": "code",
   "execution_count": 4,
   "id": "332ab03d",
   "metadata": {
    "execution": {
     "iopub.execute_input": "2025-03-26T17:47:31.378874Z",
     "iopub.status.busy": "2025-03-26T17:47:31.378574Z",
     "iopub.status.idle": "2025-03-26T17:47:31.384783Z",
     "shell.execute_reply": "2025-03-26T17:47:31.383904Z"
    },
    "papermill": {
     "duration": 0.011924,
     "end_time": "2025-03-26T17:47:31.386389",
     "exception": false,
     "start_time": "2025-03-26T17:47:31.374465",
     "status": "completed"
    },
    "tags": []
   },
   "outputs": [],
   "source": [
    "df = pd.DataFrame({'feature1':X[:,0],'feature2':X[:,1],'target':y})\n"
   ]
  },
  {
   "cell_type": "code",
   "execution_count": 5,
   "id": "2307a540",
   "metadata": {
    "execution": {
     "iopub.execute_input": "2025-03-26T17:47:31.393773Z",
     "iopub.status.busy": "2025-03-26T17:47:31.393482Z",
     "iopub.status.idle": "2025-03-26T17:47:33.202655Z",
     "shell.execute_reply": "2025-03-26T17:47:33.201678Z"
    },
    "papermill": {
     "duration": 1.814742,
     "end_time": "2025-03-26T17:47:33.204433",
     "exception": false,
     "start_time": "2025-03-26T17:47:31.389691",
     "status": "completed"
    },
    "tags": []
   },
   "outputs": [
    {
     "data": {
      "text/html": [
       "<html>\n",
       "<head><meta charset=\"utf-8\" /></head>\n",
       "<body>\n",
       "    <div>            <script src=\"https://cdnjs.cloudflare.com/ajax/libs/mathjax/2.7.5/MathJax.js?config=TeX-AMS-MML_SVG\"></script><script type=\"text/javascript\">if (window.MathJax && window.MathJax.Hub && window.MathJax.Hub.Config) {window.MathJax.Hub.Config({SVG: {font: \"STIX-Web\"}});}</script>                <script type=\"text/javascript\">window.PlotlyConfig = {MathJaxConfig: 'local'};</script>\n",
       "        <script charset=\"utf-8\" src=\"https://cdn.plot.ly/plotly-2.35.2.min.js\"></script>                <div id=\"69d23afa-8ece-4b55-a0ac-d784b69d2136\" class=\"plotly-graph-div\" style=\"height:525px; width:100%;\"></div>            <script type=\"text/javascript\">                                    window.PLOTLYENV=window.PLOTLYENV || {};                                    if (document.getElementById(\"69d23afa-8ece-4b55-a0ac-d784b69d2136\")) {                    Plotly.newPlot(                        \"69d23afa-8ece-4b55-a0ac-d784b69d2136\",                        [{\"hovertemplate\":\"feature1=%{x}\\u003cbr\\u003efeature2=%{y}\\u003cbr\\u003etarget=%{z}\\u003cextra\\u003e\\u003c\\u002fextra\\u003e\",\"legendgroup\":\"\",\"marker\":{\"color\":\"#636efa\",\"symbol\":\"circle\"},\"mode\":\"markers\",\"name\":\"\",\"scene\":\"scene\",\"showlegend\":false,\"x\":[0.47683061539215155,0.6790482178954017,0.05463809234955833,1.3130723644698405,0.727431898112515,-1.0037890662549873,1.1717377173098475,-0.615646952648313,-0.8444681722740219,0.7338024454716913,-2.312188036562813,1.8216238307732913,-0.5697046062448445,0.25825452626113693,-0.8237297196102386,-0.12640759983579675,-1.035517161840374,-0.05458738568913812,1.1729555583099829,0.07325423787166782,-1.3035179884732624,-1.4879482008552385,0.48941725729044183,-0.3258789619345654,0.9204749219046585,1.287854524581631,-0.3669109055282711,-0.6370056953596591,-0.6031014475087049,-1.1967562175477948,-1.2726369409529266,0.38235051679602805,-0.09955718224771898,0.18440941497722496,0.9618208093336357,0.9511373394548196,0.02580393361364847,-1.4739271661190407,-2.5481190638237776,-1.2683966462005323,-0.6903724982084146,0.4398441875313257,1.1199608265013485,-0.48730544698860356,-0.5649403416824275,-1.3734482478719854,1.0923666027792562,-0.796988896605551,0.07994951404921899,0.8726278831605662,-1.9542576668728984,0.6592572287051239,-0.23442576355592432,0.5733918340668371,-0.41858989959728576,-0.026389851429598567,0.4813552491170981,0.8254670905386555,1.7273841631621119,0.5828972526720773,0.3008004025642353,-0.3514505789614074,0.28228947924737974,1.3595655239721998,-0.29123688212024834,-0.3359814993049637,-0.6406196134674113,1.109449738655265,-0.8595086658978407,1.2439488876143354,-0.263454912865478,0.3232996709098085,0.3823342530433321,-0.9235788094682265,0.9281963375877232,-0.2327710959915075,0.07929750501822583,-0.5258682238198269,-0.05945640446644919,1.278745694527648,0.43906556050313394,2.2349284455185066,0.1364417752414343,-0.2908179753116786,0.2830423698210349,0.6910188336758541,0.007696128161664285,-0.4803888367987092,-0.45280575856789457,2.3433471385636064,0.24753087923068756,-0.6706113052147976,-1.269041291638109,-1.7262349733821793,0.08123127707344742,-0.25078854543447276,0.1675089707223058,-2.0316890264948095,-1.27505218781334,2.256416343621207],\"y\":[-0.053998492062413285,-0.19020344624040048,-1.0044524272177215,0.35801185855283696,0.5329446885154796,-2.800262371633199,0.36159153487555823,-0.10967681567003654,-1.1724292343737894,0.0038514593458192675,-1.8135780011540694,0.8527443315967721,-0.5759113874391474,1.5090354223724038,-0.5174836473788706,-0.30661394874464165,0.15375567663132356,-0.5227101567163734,0.34159500480946775,-0.04794144265074495,0.1965717289694391,2.0137931246224454,-0.8936175146218316,0.28637791815023395,2.298615914719565,0.751676684655324,0.003704527924106419,-1.6585928807113421,0.6371754959832132,1.2627491718980877,-0.050780618380118416,-0.8825481244319907,-2.6528284415640666,0.7133689049199609,-0.7620479627187033,2.48171095303989,0.43142438390406906,-0.2277320712208117,1.0360798398261792,1.5861952871399623,1.0420351970046016,0.06815169574649964,-0.9897720600403473,1.6961765678958152,0.0502104281852501,0.7363770018878287,1.3315272068491422,-0.5303473355293562,-1.0662222273933712,-1.3377772213503802,0.5313597513421474,-0.0457750510113203,-1.116425939387389,0.173490717125069,-1.6225941248886462,-0.2231581470388348,-1.8303772560513973,-0.061622629739824776,-0.3033330202811165,-0.46655875043073297,1.038837655264849,-0.2574366211487668,0.13587030851292717,-1.4590812500844277,-0.5096993284750135,0.13079573924110116,0.47092861716598466,1.2021004393645822,1.1929985059661783,-0.25951057274894934,-0.06395306651552284,-0.7524113964466693,0.37453576615737233,-0.9365021918009772,-0.3637570552583222,0.44863546769982626,1.3950878819988848,-0.15993785902689103,0.018601167190992685,-0.41875900903960445,-0.17869545040809917,-0.32846301239024267,0.9750737847845475,-1.3800324896280705,-0.20087979910798395,0.5114617074306709,-2.055893374624409,0.44840712494523616,-0.9837871466970426,-0.3217399592316924,-0.5829294108790971,1.780257622062103,0.661234225062947,-0.32953285096186496,-1.3039745536998422,0.3542260899596891,0.0723155631758402,-1.2104959703050326,-0.6709305299328836,2.0744931132075073],\"z\":[-69.76274223145532,-18.424129561367863,-135.30067100606084,86.3289602418817,27.935333138359244,-73.07208184661471,37.76530780791296,15.240636339679888,21.74687490001794,-23.243880527487185,-50.393966349152485,35.925864348767554,-57.860275513277394,-24.527118081202993,-47.01221889467819,-16.148907045350224,-23.30781062759987,-4.919236347113451,76.89697057743578,-21.71175796043709,60.65575506672535,51.265238199407655,64.71932536284763,14.735678519081516,-47.374728169916914,-0.28107735067426276,-29.88793784927323,-45.393134156687765,85.45448773002244,-53.231240011024184,13.795137357379895,31.55923533660883,-66.88877864515385,-113.78087222573129,2.7838832896474224,58.29749441275651,150.37841123772648,21.513436884556043,4.018314007920942,-71.00391618204208,28.607010415592093,-32.506392833107356,93.45905443246973,40.48867085504085,-63.49984937023756,-49.2974263572914,-1.948827700505806,-122.35019946823776,-15.46440408956361,-57.038105210221204,-1.052201454757185,33.90299809402478,-14.625664509980604,27.068580255843596,-15.984940310879432,78.76338457009467,75.99523823371834,33.91717688012294,75.49383719816797,-53.644247829562794,60.42696636449507,33.005643687382765,34.8571505820476,-11.086945007797695,-80.30453313497955,-11.290579695127242,-35.28788129906179,49.361818468147,-4.259596500641586,63.563934125262435,-41.144447834260326,-15.28774659834468,-10.851703608153674,-82.11109009046226,43.79922433648118,-32.74993668647439,-38.53159293705424,-48.77946542825465,1.6758988103946122,-7.390429094652243,12.15876100558937,34.41284351242544,63.34525212242729,-169.09127867933788,-112.2596164619284,-72.32139731987611,-15.298969217586599,-16.060295584057098,64.67113250002973,-14.658757644389315,96.66548231897325,130.4502468035853,2.645620155766018,11.687578933577395,-35.201270500346645,-25.247788422319232,-14.155696900690153,-61.087031220255184,-37.15854684684531,2.570368685252994],\"type\":\"scatter3d\"}],                        {\"template\":{\"data\":{\"histogram2dcontour\":[{\"type\":\"histogram2dcontour\",\"colorbar\":{\"outlinewidth\":0,\"ticks\":\"\"},\"colorscale\":[[0.0,\"#0d0887\"],[0.1111111111111111,\"#46039f\"],[0.2222222222222222,\"#7201a8\"],[0.3333333333333333,\"#9c179e\"],[0.4444444444444444,\"#bd3786\"],[0.5555555555555556,\"#d8576b\"],[0.6666666666666666,\"#ed7953\"],[0.7777777777777778,\"#fb9f3a\"],[0.8888888888888888,\"#fdca26\"],[1.0,\"#f0f921\"]]}],\"choropleth\":[{\"type\":\"choropleth\",\"colorbar\":{\"outlinewidth\":0,\"ticks\":\"\"}}],\"histogram2d\":[{\"type\":\"histogram2d\",\"colorbar\":{\"outlinewidth\":0,\"ticks\":\"\"},\"colorscale\":[[0.0,\"#0d0887\"],[0.1111111111111111,\"#46039f\"],[0.2222222222222222,\"#7201a8\"],[0.3333333333333333,\"#9c179e\"],[0.4444444444444444,\"#bd3786\"],[0.5555555555555556,\"#d8576b\"],[0.6666666666666666,\"#ed7953\"],[0.7777777777777778,\"#fb9f3a\"],[0.8888888888888888,\"#fdca26\"],[1.0,\"#f0f921\"]]}],\"heatmap\":[{\"type\":\"heatmap\",\"colorbar\":{\"outlinewidth\":0,\"ticks\":\"\"},\"colorscale\":[[0.0,\"#0d0887\"],[0.1111111111111111,\"#46039f\"],[0.2222222222222222,\"#7201a8\"],[0.3333333333333333,\"#9c179e\"],[0.4444444444444444,\"#bd3786\"],[0.5555555555555556,\"#d8576b\"],[0.6666666666666666,\"#ed7953\"],[0.7777777777777778,\"#fb9f3a\"],[0.8888888888888888,\"#fdca26\"],[1.0,\"#f0f921\"]]}],\"heatmapgl\":[{\"type\":\"heatmapgl\",\"colorbar\":{\"outlinewidth\":0,\"ticks\":\"\"},\"colorscale\":[[0.0,\"#0d0887\"],[0.1111111111111111,\"#46039f\"],[0.2222222222222222,\"#7201a8\"],[0.3333333333333333,\"#9c179e\"],[0.4444444444444444,\"#bd3786\"],[0.5555555555555556,\"#d8576b\"],[0.6666666666666666,\"#ed7953\"],[0.7777777777777778,\"#fb9f3a\"],[0.8888888888888888,\"#fdca26\"],[1.0,\"#f0f921\"]]}],\"contourcarpet\":[{\"type\":\"contourcarpet\",\"colorbar\":{\"outlinewidth\":0,\"ticks\":\"\"}}],\"contour\":[{\"type\":\"contour\",\"colorbar\":{\"outlinewidth\":0,\"ticks\":\"\"},\"colorscale\":[[0.0,\"#0d0887\"],[0.1111111111111111,\"#46039f\"],[0.2222222222222222,\"#7201a8\"],[0.3333333333333333,\"#9c179e\"],[0.4444444444444444,\"#bd3786\"],[0.5555555555555556,\"#d8576b\"],[0.6666666666666666,\"#ed7953\"],[0.7777777777777778,\"#fb9f3a\"],[0.8888888888888888,\"#fdca26\"],[1.0,\"#f0f921\"]]}],\"surface\":[{\"type\":\"surface\",\"colorbar\":{\"outlinewidth\":0,\"ticks\":\"\"},\"colorscale\":[[0.0,\"#0d0887\"],[0.1111111111111111,\"#46039f\"],[0.2222222222222222,\"#7201a8\"],[0.3333333333333333,\"#9c179e\"],[0.4444444444444444,\"#bd3786\"],[0.5555555555555556,\"#d8576b\"],[0.6666666666666666,\"#ed7953\"],[0.7777777777777778,\"#fb9f3a\"],[0.8888888888888888,\"#fdca26\"],[1.0,\"#f0f921\"]]}],\"mesh3d\":[{\"type\":\"mesh3d\",\"colorbar\":{\"outlinewidth\":0,\"ticks\":\"\"}}],\"scatter\":[{\"fillpattern\":{\"fillmode\":\"overlay\",\"size\":10,\"solidity\":0.2},\"type\":\"scatter\"}],\"parcoords\":[{\"type\":\"parcoords\",\"line\":{\"colorbar\":{\"outlinewidth\":0,\"ticks\":\"\"}}}],\"scatterpolargl\":[{\"type\":\"scatterpolargl\",\"marker\":{\"colorbar\":{\"outlinewidth\":0,\"ticks\":\"\"}}}],\"bar\":[{\"error_x\":{\"color\":\"#2a3f5f\"},\"error_y\":{\"color\":\"#2a3f5f\"},\"marker\":{\"line\":{\"color\":\"#E5ECF6\",\"width\":0.5},\"pattern\":{\"fillmode\":\"overlay\",\"size\":10,\"solidity\":0.2}},\"type\":\"bar\"}],\"scattergeo\":[{\"type\":\"scattergeo\",\"marker\":{\"colorbar\":{\"outlinewidth\":0,\"ticks\":\"\"}}}],\"scatterpolar\":[{\"type\":\"scatterpolar\",\"marker\":{\"colorbar\":{\"outlinewidth\":0,\"ticks\":\"\"}}}],\"histogram\":[{\"marker\":{\"pattern\":{\"fillmode\":\"overlay\",\"size\":10,\"solidity\":0.2}},\"type\":\"histogram\"}],\"scattergl\":[{\"type\":\"scattergl\",\"marker\":{\"colorbar\":{\"outlinewidth\":0,\"ticks\":\"\"}}}],\"scatter3d\":[{\"type\":\"scatter3d\",\"line\":{\"colorbar\":{\"outlinewidth\":0,\"ticks\":\"\"}},\"marker\":{\"colorbar\":{\"outlinewidth\":0,\"ticks\":\"\"}}}],\"scattermapbox\":[{\"type\":\"scattermapbox\",\"marker\":{\"colorbar\":{\"outlinewidth\":0,\"ticks\":\"\"}}}],\"scatterternary\":[{\"type\":\"scatterternary\",\"marker\":{\"colorbar\":{\"outlinewidth\":0,\"ticks\":\"\"}}}],\"scattercarpet\":[{\"type\":\"scattercarpet\",\"marker\":{\"colorbar\":{\"outlinewidth\":0,\"ticks\":\"\"}}}],\"carpet\":[{\"aaxis\":{\"endlinecolor\":\"#2a3f5f\",\"gridcolor\":\"white\",\"linecolor\":\"white\",\"minorgridcolor\":\"white\",\"startlinecolor\":\"#2a3f5f\"},\"baxis\":{\"endlinecolor\":\"#2a3f5f\",\"gridcolor\":\"white\",\"linecolor\":\"white\",\"minorgridcolor\":\"white\",\"startlinecolor\":\"#2a3f5f\"},\"type\":\"carpet\"}],\"table\":[{\"cells\":{\"fill\":{\"color\":\"#EBF0F8\"},\"line\":{\"color\":\"white\"}},\"header\":{\"fill\":{\"color\":\"#C8D4E3\"},\"line\":{\"color\":\"white\"}},\"type\":\"table\"}],\"barpolar\":[{\"marker\":{\"line\":{\"color\":\"#E5ECF6\",\"width\":0.5},\"pattern\":{\"fillmode\":\"overlay\",\"size\":10,\"solidity\":0.2}},\"type\":\"barpolar\"}],\"pie\":[{\"automargin\":true,\"type\":\"pie\"}]},\"layout\":{\"autotypenumbers\":\"strict\",\"colorway\":[\"#636efa\",\"#EF553B\",\"#00cc96\",\"#ab63fa\",\"#FFA15A\",\"#19d3f3\",\"#FF6692\",\"#B6E880\",\"#FF97FF\",\"#FECB52\"],\"font\":{\"color\":\"#2a3f5f\"},\"hovermode\":\"closest\",\"hoverlabel\":{\"align\":\"left\"},\"paper_bgcolor\":\"white\",\"plot_bgcolor\":\"#E5ECF6\",\"polar\":{\"bgcolor\":\"#E5ECF6\",\"angularaxis\":{\"gridcolor\":\"white\",\"linecolor\":\"white\",\"ticks\":\"\"},\"radialaxis\":{\"gridcolor\":\"white\",\"linecolor\":\"white\",\"ticks\":\"\"}},\"ternary\":{\"bgcolor\":\"#E5ECF6\",\"aaxis\":{\"gridcolor\":\"white\",\"linecolor\":\"white\",\"ticks\":\"\"},\"baxis\":{\"gridcolor\":\"white\",\"linecolor\":\"white\",\"ticks\":\"\"},\"caxis\":{\"gridcolor\":\"white\",\"linecolor\":\"white\",\"ticks\":\"\"}},\"coloraxis\":{\"colorbar\":{\"outlinewidth\":0,\"ticks\":\"\"}},\"colorscale\":{\"sequential\":[[0.0,\"#0d0887\"],[0.1111111111111111,\"#46039f\"],[0.2222222222222222,\"#7201a8\"],[0.3333333333333333,\"#9c179e\"],[0.4444444444444444,\"#bd3786\"],[0.5555555555555556,\"#d8576b\"],[0.6666666666666666,\"#ed7953\"],[0.7777777777777778,\"#fb9f3a\"],[0.8888888888888888,\"#fdca26\"],[1.0,\"#f0f921\"]],\"sequentialminus\":[[0.0,\"#0d0887\"],[0.1111111111111111,\"#46039f\"],[0.2222222222222222,\"#7201a8\"],[0.3333333333333333,\"#9c179e\"],[0.4444444444444444,\"#bd3786\"],[0.5555555555555556,\"#d8576b\"],[0.6666666666666666,\"#ed7953\"],[0.7777777777777778,\"#fb9f3a\"],[0.8888888888888888,\"#fdca26\"],[1.0,\"#f0f921\"]],\"diverging\":[[0,\"#8e0152\"],[0.1,\"#c51b7d\"],[0.2,\"#de77ae\"],[0.3,\"#f1b6da\"],[0.4,\"#fde0ef\"],[0.5,\"#f7f7f7\"],[0.6,\"#e6f5d0\"],[0.7,\"#b8e186\"],[0.8,\"#7fbc41\"],[0.9,\"#4d9221\"],[1,\"#276419\"]]},\"xaxis\":{\"gridcolor\":\"white\",\"linecolor\":\"white\",\"ticks\":\"\",\"title\":{\"standoff\":15},\"zerolinecolor\":\"white\",\"automargin\":true,\"zerolinewidth\":2},\"yaxis\":{\"gridcolor\":\"white\",\"linecolor\":\"white\",\"ticks\":\"\",\"title\":{\"standoff\":15},\"zerolinecolor\":\"white\",\"automargin\":true,\"zerolinewidth\":2},\"scene\":{\"xaxis\":{\"backgroundcolor\":\"#E5ECF6\",\"gridcolor\":\"white\",\"linecolor\":\"white\",\"showbackground\":true,\"ticks\":\"\",\"zerolinecolor\":\"white\",\"gridwidth\":2},\"yaxis\":{\"backgroundcolor\":\"#E5ECF6\",\"gridcolor\":\"white\",\"linecolor\":\"white\",\"showbackground\":true,\"ticks\":\"\",\"zerolinecolor\":\"white\",\"gridwidth\":2},\"zaxis\":{\"backgroundcolor\":\"#E5ECF6\",\"gridcolor\":\"white\",\"linecolor\":\"white\",\"showbackground\":true,\"ticks\":\"\",\"zerolinecolor\":\"white\",\"gridwidth\":2}},\"shapedefaults\":{\"line\":{\"color\":\"#2a3f5f\"}},\"annotationdefaults\":{\"arrowcolor\":\"#2a3f5f\",\"arrowhead\":0,\"arrowwidth\":1},\"geo\":{\"bgcolor\":\"white\",\"landcolor\":\"#E5ECF6\",\"subunitcolor\":\"white\",\"showland\":true,\"showlakes\":true,\"lakecolor\":\"white\"},\"title\":{\"x\":0.05},\"mapbox\":{\"style\":\"light\"}}},\"scene\":{\"domain\":{\"x\":[0.0,1.0],\"y\":[0.0,1.0]},\"xaxis\":{\"title\":{\"text\":\"feature1\"}},\"yaxis\":{\"title\":{\"text\":\"feature2\"}},\"zaxis\":{\"title\":{\"text\":\"target\"}}},\"legend\":{\"tracegroupgap\":0},\"margin\":{\"t\":60}},                        {\"responsive\": true}                    ).then(function(){\n",
       "                            \n",
       "var gd = document.getElementById('69d23afa-8ece-4b55-a0ac-d784b69d2136');\n",
       "var x = new MutationObserver(function (mutations, observer) {{\n",
       "        var display = window.getComputedStyle(gd).display;\n",
       "        if (!display || display === 'none') {{\n",
       "            console.log([gd, 'removed!']);\n",
       "            Plotly.purge(gd);\n",
       "            observer.disconnect();\n",
       "        }}\n",
       "}});\n",
       "\n",
       "// Listen for the removal of the full notebook cells\n",
       "var notebookContainer = gd.closest('#notebook-container');\n",
       "if (notebookContainer) {{\n",
       "    x.observe(notebookContainer, {childList: true});\n",
       "}}\n",
       "\n",
       "// Listen for the clearing of the current output cell\n",
       "var outputEl = gd.closest('.output');\n",
       "if (outputEl) {{\n",
       "    x.observe(outputEl, {childList: true});\n",
       "}}\n",
       "\n",
       "                        })                };                            </script>        </div>\n",
       "</body>\n",
       "</html>"
      ]
     },
     "metadata": {},
     "output_type": "display_data"
    }
   ],
   "source": [
    "fig = px.scatter_3d(df, x='feature1', y='feature2', z='target')\n",
    "\n",
    "fig.show()"
   ]
  },
  {
   "cell_type": "code",
   "execution_count": 6,
   "id": "ccda5547",
   "metadata": {
    "execution": {
     "iopub.execute_input": "2025-03-26T17:47:33.212934Z",
     "iopub.status.busy": "2025-03-26T17:47:33.212596Z",
     "iopub.status.idle": "2025-03-26T17:47:33.324149Z",
     "shell.execute_reply": "2025-03-26T17:47:33.323252Z"
    },
    "papermill": {
     "duration": 0.117774,
     "end_time": "2025-03-26T17:47:33.325940",
     "exception": false,
     "start_time": "2025-03-26T17:47:33.208166",
     "status": "completed"
    },
    "tags": []
   },
   "outputs": [],
   "source": [
    "from sklearn.model_selection import train_test_split\n",
    "X_train,X_test,y_train,y_test = train_test_split(X,y,test_size=0.2,random_state=3)\n",
    "     \n",
    "\n",
    "from sklearn.linear_model import LinearRegression\n",
    "     "
   ]
  },
  {
   "cell_type": "code",
   "execution_count": 7,
   "id": "50db6aec",
   "metadata": {
    "execution": {
     "iopub.execute_input": "2025-03-26T17:47:33.334424Z",
     "iopub.status.busy": "2025-03-26T17:47:33.334053Z",
     "iopub.status.idle": "2025-03-26T17:47:33.386782Z",
     "shell.execute_reply": "2025-03-26T17:47:33.385701Z"
    },
    "papermill": {
     "duration": 0.058809,
     "end_time": "2025-03-26T17:47:33.388471",
     "exception": false,
     "start_time": "2025-03-26T17:47:33.329662",
     "status": "completed"
    },
    "tags": []
   },
   "outputs": [
    {
     "data": {
      "text/html": [
       "<style>#sk-container-id-1 {color: black;background-color: white;}#sk-container-id-1 pre{padding: 0;}#sk-container-id-1 div.sk-toggleable {background-color: white;}#sk-container-id-1 label.sk-toggleable__label {cursor: pointer;display: block;width: 100%;margin-bottom: 0;padding: 0.3em;box-sizing: border-box;text-align: center;}#sk-container-id-1 label.sk-toggleable__label-arrow:before {content: \"▸\";float: left;margin-right: 0.25em;color: #696969;}#sk-container-id-1 label.sk-toggleable__label-arrow:hover:before {color: black;}#sk-container-id-1 div.sk-estimator:hover label.sk-toggleable__label-arrow:before {color: black;}#sk-container-id-1 div.sk-toggleable__content {max-height: 0;max-width: 0;overflow: hidden;text-align: left;background-color: #f0f8ff;}#sk-container-id-1 div.sk-toggleable__content pre {margin: 0.2em;color: black;border-radius: 0.25em;background-color: #f0f8ff;}#sk-container-id-1 input.sk-toggleable__control:checked~div.sk-toggleable__content {max-height: 200px;max-width: 100%;overflow: auto;}#sk-container-id-1 input.sk-toggleable__control:checked~label.sk-toggleable__label-arrow:before {content: \"▾\";}#sk-container-id-1 div.sk-estimator input.sk-toggleable__control:checked~label.sk-toggleable__label {background-color: #d4ebff;}#sk-container-id-1 div.sk-label input.sk-toggleable__control:checked~label.sk-toggleable__label {background-color: #d4ebff;}#sk-container-id-1 input.sk-hidden--visually {border: 0;clip: rect(1px 1px 1px 1px);clip: rect(1px, 1px, 1px, 1px);height: 1px;margin: -1px;overflow: hidden;padding: 0;position: absolute;width: 1px;}#sk-container-id-1 div.sk-estimator {font-family: monospace;background-color: #f0f8ff;border: 1px dotted black;border-radius: 0.25em;box-sizing: border-box;margin-bottom: 0.5em;}#sk-container-id-1 div.sk-estimator:hover {background-color: #d4ebff;}#sk-container-id-1 div.sk-parallel-item::after {content: \"\";width: 100%;border-bottom: 1px solid gray;flex-grow: 1;}#sk-container-id-1 div.sk-label:hover label.sk-toggleable__label {background-color: #d4ebff;}#sk-container-id-1 div.sk-serial::before {content: \"\";position: absolute;border-left: 1px solid gray;box-sizing: border-box;top: 0;bottom: 0;left: 50%;z-index: 0;}#sk-container-id-1 div.sk-serial {display: flex;flex-direction: column;align-items: center;background-color: white;padding-right: 0.2em;padding-left: 0.2em;position: relative;}#sk-container-id-1 div.sk-item {position: relative;z-index: 1;}#sk-container-id-1 div.sk-parallel {display: flex;align-items: stretch;justify-content: center;background-color: white;position: relative;}#sk-container-id-1 div.sk-item::before, #sk-container-id-1 div.sk-parallel-item::before {content: \"\";position: absolute;border-left: 1px solid gray;box-sizing: border-box;top: 0;bottom: 0;left: 50%;z-index: -1;}#sk-container-id-1 div.sk-parallel-item {display: flex;flex-direction: column;z-index: 1;position: relative;background-color: white;}#sk-container-id-1 div.sk-parallel-item:first-child::after {align-self: flex-end;width: 50%;}#sk-container-id-1 div.sk-parallel-item:last-child::after {align-self: flex-start;width: 50%;}#sk-container-id-1 div.sk-parallel-item:only-child::after {width: 0;}#sk-container-id-1 div.sk-dashed-wrapped {border: 1px dashed gray;margin: 0 0.4em 0.5em 0.4em;box-sizing: border-box;padding-bottom: 0.4em;background-color: white;}#sk-container-id-1 div.sk-label label {font-family: monospace;font-weight: bold;display: inline-block;line-height: 1.2em;}#sk-container-id-1 div.sk-label-container {text-align: center;}#sk-container-id-1 div.sk-container {/* jupyter's `normalize.less` sets `[hidden] { display: none; }` but bootstrap.min.css set `[hidden] { display: none !important; }` so we also need the `!important` here to be able to override the default hidden behavior on the sphinx rendered scikit-learn.org. See: https://github.com/scikit-learn/scikit-learn/issues/21755 */display: inline-block !important;position: relative;}#sk-container-id-1 div.sk-text-repr-fallback {display: none;}</style><div id=\"sk-container-id-1\" class=\"sk-top-container\"><div class=\"sk-text-repr-fallback\"><pre>LinearRegression()</pre><b>In a Jupyter environment, please rerun this cell to show the HTML representation or trust the notebook. <br />On GitHub, the HTML representation is unable to render, please try loading this page with nbviewer.org.</b></div><div class=\"sk-container\" hidden><div class=\"sk-item\"><div class=\"sk-estimator sk-toggleable\"><input class=\"sk-toggleable__control sk-hidden--visually\" id=\"sk-estimator-id-1\" type=\"checkbox\" checked><label for=\"sk-estimator-id-1\" class=\"sk-toggleable__label sk-toggleable__label-arrow\">LinearRegression</label><div class=\"sk-toggleable__content\"><pre>LinearRegression()</pre></div></div></div></div></div>"
      ],
      "text/plain": [
       "LinearRegression()"
      ]
     },
     "execution_count": 7,
     "metadata": {},
     "output_type": "execute_result"
    }
   ],
   "source": [
    "lr = LinearRegression()\n",
    "     \n",
    "\n",
    "lr.fit(X_train,y_train)"
   ]
  },
  {
   "cell_type": "code",
   "execution_count": 8,
   "id": "d9c6255f",
   "metadata": {
    "execution": {
     "iopub.execute_input": "2025-03-26T17:47:33.397246Z",
     "iopub.status.busy": "2025-03-26T17:47:33.396904Z",
     "iopub.status.idle": "2025-03-26T17:47:33.400969Z",
     "shell.execute_reply": "2025-03-26T17:47:33.400176Z"
    },
    "papermill": {
     "duration": 0.010229,
     "end_time": "2025-03-26T17:47:33.402599",
     "exception": false,
     "start_time": "2025-03-26T17:47:33.392370",
     "status": "completed"
    },
    "tags": []
   },
   "outputs": [],
   "source": [
    "y_pred = lr.predict(X_test)\n",
    "     "
   ]
  },
  {
   "cell_type": "code",
   "execution_count": 9,
   "id": "a9444948",
   "metadata": {
    "execution": {
     "iopub.execute_input": "2025-03-26T17:47:33.411178Z",
     "iopub.status.busy": "2025-03-26T17:47:33.410818Z",
     "iopub.status.idle": "2025-03-26T17:47:33.418136Z",
     "shell.execute_reply": "2025-03-26T17:47:33.417318Z"
    },
    "papermill": {
     "duration": 0.013117,
     "end_time": "2025-03-26T17:47:33.419624",
     "exception": false,
     "start_time": "2025-03-26T17:47:33.406507",
     "status": "completed"
    },
    "tags": []
   },
   "outputs": [
    {
     "name": "stdout",
     "output_type": "stream",
     "text": [
      "MAE 38.58737959932829\n",
      "MSE 2617.6735579477563\n",
      "R2 score 0.15199970173369404\n"
     ]
    }
   ],
   "source": [
    "print(\"MAE\",mean_absolute_error(y_test,y_pred))\n",
    "print(\"MSE\",mean_squared_error(y_test,y_pred))\n",
    "print(\"R2 score\",r2_score(y_test,y_pred))"
   ]
  },
  {
   "cell_type": "code",
   "execution_count": 10,
   "id": "8b2c91a2",
   "metadata": {
    "execution": {
     "iopub.execute_input": "2025-03-26T17:47:33.428340Z",
     "iopub.status.busy": "2025-03-26T17:47:33.427936Z",
     "iopub.status.idle": "2025-03-26T17:47:33.434012Z",
     "shell.execute_reply": "2025-03-26T17:47:33.432855Z"
    },
    "papermill": {
     "duration": 0.012369,
     "end_time": "2025-03-26T17:47:33.435795",
     "exception": false,
     "start_time": "2025-03-26T17:47:33.423426",
     "status": "completed"
    },
    "tags": []
   },
   "outputs": [],
   "source": [
    "import numpy as np\n",
    "\n",
    "# Define the grid\n",
    "x = np.linspace(-5, 5, 10)\n",
    "y = np.linspace(-5, 5, 10)\n",
    "xGrid, yGrid = np.meshgrid(y, x)\n",
    "\n",
    "# Create the feature matrix (final) before prediction\n",
    "final = np.vstack((xGrid.ravel(), yGrid.ravel())).T  # Shape (100,2)\n",
    "\n",
    "# Assuming 'lr' is a trained model\n",
    "z_final = lr.predict(final).reshape(10, 10)\n",
    "\n",
    "# Assign to z\n",
    "z = z_final\n"
   ]
  },
  {
   "cell_type": "code",
   "execution_count": 11,
   "id": "7341bd74",
   "metadata": {
    "execution": {
     "iopub.execute_input": "2025-03-26T17:47:33.447913Z",
     "iopub.status.busy": "2025-03-26T17:47:33.447611Z",
     "iopub.status.idle": "2025-03-26T17:47:33.515162Z",
     "shell.execute_reply": "2025-03-26T17:47:33.513814Z"
    },
    "papermill": {
     "duration": 0.076097,
     "end_time": "2025-03-26T17:47:33.516819",
     "exception": false,
     "start_time": "2025-03-26T17:47:33.440722",
     "status": "completed"
    },
    "tags": []
   },
   "outputs": [
    {
     "data": {
      "text/html": [
       "<html>\n",
       "<head><meta charset=\"utf-8\" /></head>\n",
       "<body>\n",
       "    <div>            <script src=\"https://cdnjs.cloudflare.com/ajax/libs/mathjax/2.7.5/MathJax.js?config=TeX-AMS-MML_SVG\"></script><script type=\"text/javascript\">if (window.MathJax && window.MathJax.Hub && window.MathJax.Hub.Config) {window.MathJax.Hub.Config({SVG: {font: \"STIX-Web\"}});}</script>                <script type=\"text/javascript\">window.PlotlyConfig = {MathJaxConfig: 'local'};</script>\n",
       "        <script charset=\"utf-8\" src=\"https://cdn.plot.ly/plotly-2.35.2.min.js\"></script>                <div id=\"6248af09-20cb-49bb-b6a0-281dac550f35\" class=\"plotly-graph-div\" style=\"height:525px; width:100%;\"></div>            <script type=\"text/javascript\">                                    window.PLOTLYENV=window.PLOTLYENV || {};                                    if (document.getElementById(\"6248af09-20cb-49bb-b6a0-281dac550f35\")) {                    Plotly.newPlot(                        \"6248af09-20cb-49bb-b6a0-281dac550f35\",                        [{\"hovertemplate\":\"feature1=%{x}\\u003cbr\\u003efeature2=%{y}\\u003cbr\\u003etarget=%{z}\\u003cextra\\u003e\\u003c\\u002fextra\\u003e\",\"legendgroup\":\"\",\"marker\":{\"color\":\"#636efa\",\"symbol\":\"circle\"},\"mode\":\"markers\",\"name\":\"\",\"scene\":\"scene\",\"showlegend\":false,\"x\":[0.47683061539215155,0.6790482178954017,0.05463809234955833,1.3130723644698405,0.727431898112515,-1.0037890662549873,1.1717377173098475,-0.615646952648313,-0.8444681722740219,0.7338024454716913,-2.312188036562813,1.8216238307732913,-0.5697046062448445,0.25825452626113693,-0.8237297196102386,-0.12640759983579675,-1.035517161840374,-0.05458738568913812,1.1729555583099829,0.07325423787166782,-1.3035179884732624,-1.4879482008552385,0.48941725729044183,-0.3258789619345654,0.9204749219046585,1.287854524581631,-0.3669109055282711,-0.6370056953596591,-0.6031014475087049,-1.1967562175477948,-1.2726369409529266,0.38235051679602805,-0.09955718224771898,0.18440941497722496,0.9618208093336357,0.9511373394548196,0.02580393361364847,-1.4739271661190407,-2.5481190638237776,-1.2683966462005323,-0.6903724982084146,0.4398441875313257,1.1199608265013485,-0.48730544698860356,-0.5649403416824275,-1.3734482478719854,1.0923666027792562,-0.796988896605551,0.07994951404921899,0.8726278831605662,-1.9542576668728984,0.6592572287051239,-0.23442576355592432,0.5733918340668371,-0.41858989959728576,-0.026389851429598567,0.4813552491170981,0.8254670905386555,1.7273841631621119,0.5828972526720773,0.3008004025642353,-0.3514505789614074,0.28228947924737974,1.3595655239721998,-0.29123688212024834,-0.3359814993049637,-0.6406196134674113,1.109449738655265,-0.8595086658978407,1.2439488876143354,-0.263454912865478,0.3232996709098085,0.3823342530433321,-0.9235788094682265,0.9281963375877232,-0.2327710959915075,0.07929750501822583,-0.5258682238198269,-0.05945640446644919,1.278745694527648,0.43906556050313394,2.2349284455185066,0.1364417752414343,-0.2908179753116786,0.2830423698210349,0.6910188336758541,0.007696128161664285,-0.4803888367987092,-0.45280575856789457,2.3433471385636064,0.24753087923068756,-0.6706113052147976,-1.269041291638109,-1.7262349733821793,0.08123127707344742,-0.25078854543447276,0.1675089707223058,-2.0316890264948095,-1.27505218781334,2.256416343621207],\"y\":[-0.053998492062413285,-0.19020344624040048,-1.0044524272177215,0.35801185855283696,0.5329446885154796,-2.800262371633199,0.36159153487555823,-0.10967681567003654,-1.1724292343737894,0.0038514593458192675,-1.8135780011540694,0.8527443315967721,-0.5759113874391474,1.5090354223724038,-0.5174836473788706,-0.30661394874464165,0.15375567663132356,-0.5227101567163734,0.34159500480946775,-0.04794144265074495,0.1965717289694391,2.0137931246224454,-0.8936175146218316,0.28637791815023395,2.298615914719565,0.751676684655324,0.003704527924106419,-1.6585928807113421,0.6371754959832132,1.2627491718980877,-0.050780618380118416,-0.8825481244319907,-2.6528284415640666,0.7133689049199609,-0.7620479627187033,2.48171095303989,0.43142438390406906,-0.2277320712208117,1.0360798398261792,1.5861952871399623,1.0420351970046016,0.06815169574649964,-0.9897720600403473,1.6961765678958152,0.0502104281852501,0.7363770018878287,1.3315272068491422,-0.5303473355293562,-1.0662222273933712,-1.3377772213503802,0.5313597513421474,-0.0457750510113203,-1.116425939387389,0.173490717125069,-1.6225941248886462,-0.2231581470388348,-1.8303772560513973,-0.061622629739824776,-0.3033330202811165,-0.46655875043073297,1.038837655264849,-0.2574366211487668,0.13587030851292717,-1.4590812500844277,-0.5096993284750135,0.13079573924110116,0.47092861716598466,1.2021004393645822,1.1929985059661783,-0.25951057274894934,-0.06395306651552284,-0.7524113964466693,0.37453576615737233,-0.9365021918009772,-0.3637570552583222,0.44863546769982626,1.3950878819988848,-0.15993785902689103,0.018601167190992685,-0.41875900903960445,-0.17869545040809917,-0.32846301239024267,0.9750737847845475,-1.3800324896280705,-0.20087979910798395,0.5114617074306709,-2.055893374624409,0.44840712494523616,-0.9837871466970426,-0.3217399592316924,-0.5829294108790971,1.780257622062103,0.661234225062947,-0.32953285096186496,-1.3039745536998422,0.3542260899596891,0.0723155631758402,-1.2104959703050326,-0.6709305299328836,2.0744931132075073],\"z\":[-69.76274223145532,-18.424129561367863,-135.30067100606084,86.3289602418817,27.935333138359244,-73.07208184661471,37.76530780791296,15.240636339679888,21.74687490001794,-23.243880527487185,-50.393966349152485,35.925864348767554,-57.860275513277394,-24.527118081202993,-47.01221889467819,-16.148907045350224,-23.30781062759987,-4.919236347113451,76.89697057743578,-21.71175796043709,60.65575506672535,51.265238199407655,64.71932536284763,14.735678519081516,-47.374728169916914,-0.28107735067426276,-29.88793784927323,-45.393134156687765,85.45448773002244,-53.231240011024184,13.795137357379895,31.55923533660883,-66.88877864515385,-113.78087222573129,2.7838832896474224,58.29749441275651,150.37841123772648,21.513436884556043,4.018314007920942,-71.00391618204208,28.607010415592093,-32.506392833107356,93.45905443246973,40.48867085504085,-63.49984937023756,-49.2974263572914,-1.948827700505806,-122.35019946823776,-15.46440408956361,-57.038105210221204,-1.052201454757185,33.90299809402478,-14.625664509980604,27.068580255843596,-15.984940310879432,78.76338457009467,75.99523823371834,33.91717688012294,75.49383719816797,-53.644247829562794,60.42696636449507,33.005643687382765,34.8571505820476,-11.086945007797695,-80.30453313497955,-11.290579695127242,-35.28788129906179,49.361818468147,-4.259596500641586,63.563934125262435,-41.144447834260326,-15.28774659834468,-10.851703608153674,-82.11109009046226,43.79922433648118,-32.74993668647439,-38.53159293705424,-48.77946542825465,1.6758988103946122,-7.390429094652243,12.15876100558937,34.41284351242544,63.34525212242729,-169.09127867933788,-112.2596164619284,-72.32139731987611,-15.298969217586599,-16.060295584057098,64.67113250002973,-14.658757644389315,96.66548231897325,130.4502468035853,2.645620155766018,11.687578933577395,-35.201270500346645,-25.247788422319232,-14.155696900690153,-61.087031220255184,-37.15854684684531,2.570368685252994],\"type\":\"scatter3d\"},{\"x\":[-5.0,-3.888888888888889,-2.7777777777777777,-1.6666666666666665,-0.5555555555555554,0.5555555555555554,1.666666666666667,2.7777777777777786,3.8888888888888893,5.0],\"y\":[-5.0,-3.888888888888889,-2.7777777777777777,-1.6666666666666665,-0.5555555555555554,0.5555555555555554,1.666666666666667,2.7777777777777786,3.8888888888888893,5.0],\"z\":[[-105.38184460841272,-93.91682360461732,-82.45180260082194,-70.98678159702654,-59.521760593231136,-48.05673958943574,-36.591718585640336,-25.126697581844944,-13.66167657804955,-2.196655574254157],[-93.46428369249739,-81.99926268870199,-70.53424168490659,-59.0692206811112,-47.604199677315805,-36.13917867352041,-24.674157669725012,-13.20913666592961,-1.744115662134217,9.720905341661176],[-81.54672277658206,-70.08170177278666,-58.616680768991266,-47.151659765195866,-35.686638761400474,-24.22161775760508,-12.756596753809678,-1.2915757500142773,10.173445253781114,21.63846625757651],[-69.62916186066673,-58.16414085687133,-46.69911985307593,-35.234098849280535,-23.769077845485143,-12.304056841689748,-0.8390358378943445,10.625985165901055,22.09100616969645,33.55602717349184],[-57.711600944751396,-46.246579940955996,-34.7815589371606,-23.316537933365204,-11.851516929569808,-0.38649592577441544,11.078525078020988,22.543546081816388,34.00856708561178,45.47358808940717],[-45.794040028836065,-34.329019025040665,-22.863998021245273,-11.398977017449877,0.06604398634551961,11.531064990140912,22.99608599393632,34.46110699773172,45.92612800152711,57.391149005322504],[-33.87647911292073,-22.411458109125334,-10.946437105329936,0.5185838984654606,11.983604902260856,23.44862590605625,34.91364690985166,46.37866791364706,57.84368891744245,69.30870992123783],[-21.958918197005396,-10.493897193209994,0.9711238105854016,12.436144814380798,23.901165818176196,35.36618682197159,46.83120782576699,58.29622882956239,69.76124983335778,81.22627083715318],[-10.041357281090066,1.4236637227053333,12.88868472650073,24.353705730296127,35.81872673409152,47.28374773788691,58.74876874168232,70.21378974547771,81.67881074927311,93.1438317530685],[1.876203634825261,13.34122463862066,24.80624564241606,36.27126664621146,47.73628765000685,59.20130865380224,70.66632965759764,82.13135066139304,93.59637166518844,105.06139266898383]],\"type\":\"surface\"}],                        {\"template\":{\"data\":{\"histogram2dcontour\":[{\"type\":\"histogram2dcontour\",\"colorbar\":{\"outlinewidth\":0,\"ticks\":\"\"},\"colorscale\":[[0.0,\"#0d0887\"],[0.1111111111111111,\"#46039f\"],[0.2222222222222222,\"#7201a8\"],[0.3333333333333333,\"#9c179e\"],[0.4444444444444444,\"#bd3786\"],[0.5555555555555556,\"#d8576b\"],[0.6666666666666666,\"#ed7953\"],[0.7777777777777778,\"#fb9f3a\"],[0.8888888888888888,\"#fdca26\"],[1.0,\"#f0f921\"]]}],\"choropleth\":[{\"type\":\"choropleth\",\"colorbar\":{\"outlinewidth\":0,\"ticks\":\"\"}}],\"histogram2d\":[{\"type\":\"histogram2d\",\"colorbar\":{\"outlinewidth\":0,\"ticks\":\"\"},\"colorscale\":[[0.0,\"#0d0887\"],[0.1111111111111111,\"#46039f\"],[0.2222222222222222,\"#7201a8\"],[0.3333333333333333,\"#9c179e\"],[0.4444444444444444,\"#bd3786\"],[0.5555555555555556,\"#d8576b\"],[0.6666666666666666,\"#ed7953\"],[0.7777777777777778,\"#fb9f3a\"],[0.8888888888888888,\"#fdca26\"],[1.0,\"#f0f921\"]]}],\"heatmap\":[{\"type\":\"heatmap\",\"colorbar\":{\"outlinewidth\":0,\"ticks\":\"\"},\"colorscale\":[[0.0,\"#0d0887\"],[0.1111111111111111,\"#46039f\"],[0.2222222222222222,\"#7201a8\"],[0.3333333333333333,\"#9c179e\"],[0.4444444444444444,\"#bd3786\"],[0.5555555555555556,\"#d8576b\"],[0.6666666666666666,\"#ed7953\"],[0.7777777777777778,\"#fb9f3a\"],[0.8888888888888888,\"#fdca26\"],[1.0,\"#f0f921\"]]}],\"heatmapgl\":[{\"type\":\"heatmapgl\",\"colorbar\":{\"outlinewidth\":0,\"ticks\":\"\"},\"colorscale\":[[0.0,\"#0d0887\"],[0.1111111111111111,\"#46039f\"],[0.2222222222222222,\"#7201a8\"],[0.3333333333333333,\"#9c179e\"],[0.4444444444444444,\"#bd3786\"],[0.5555555555555556,\"#d8576b\"],[0.6666666666666666,\"#ed7953\"],[0.7777777777777778,\"#fb9f3a\"],[0.8888888888888888,\"#fdca26\"],[1.0,\"#f0f921\"]]}],\"contourcarpet\":[{\"type\":\"contourcarpet\",\"colorbar\":{\"outlinewidth\":0,\"ticks\":\"\"}}],\"contour\":[{\"type\":\"contour\",\"colorbar\":{\"outlinewidth\":0,\"ticks\":\"\"},\"colorscale\":[[0.0,\"#0d0887\"],[0.1111111111111111,\"#46039f\"],[0.2222222222222222,\"#7201a8\"],[0.3333333333333333,\"#9c179e\"],[0.4444444444444444,\"#bd3786\"],[0.5555555555555556,\"#d8576b\"],[0.6666666666666666,\"#ed7953\"],[0.7777777777777778,\"#fb9f3a\"],[0.8888888888888888,\"#fdca26\"],[1.0,\"#f0f921\"]]}],\"surface\":[{\"type\":\"surface\",\"colorbar\":{\"outlinewidth\":0,\"ticks\":\"\"},\"colorscale\":[[0.0,\"#0d0887\"],[0.1111111111111111,\"#46039f\"],[0.2222222222222222,\"#7201a8\"],[0.3333333333333333,\"#9c179e\"],[0.4444444444444444,\"#bd3786\"],[0.5555555555555556,\"#d8576b\"],[0.6666666666666666,\"#ed7953\"],[0.7777777777777778,\"#fb9f3a\"],[0.8888888888888888,\"#fdca26\"],[1.0,\"#f0f921\"]]}],\"mesh3d\":[{\"type\":\"mesh3d\",\"colorbar\":{\"outlinewidth\":0,\"ticks\":\"\"}}],\"scatter\":[{\"fillpattern\":{\"fillmode\":\"overlay\",\"size\":10,\"solidity\":0.2},\"type\":\"scatter\"}],\"parcoords\":[{\"type\":\"parcoords\",\"line\":{\"colorbar\":{\"outlinewidth\":0,\"ticks\":\"\"}}}],\"scatterpolargl\":[{\"type\":\"scatterpolargl\",\"marker\":{\"colorbar\":{\"outlinewidth\":0,\"ticks\":\"\"}}}],\"bar\":[{\"error_x\":{\"color\":\"#2a3f5f\"},\"error_y\":{\"color\":\"#2a3f5f\"},\"marker\":{\"line\":{\"color\":\"#E5ECF6\",\"width\":0.5},\"pattern\":{\"fillmode\":\"overlay\",\"size\":10,\"solidity\":0.2}},\"type\":\"bar\"}],\"scattergeo\":[{\"type\":\"scattergeo\",\"marker\":{\"colorbar\":{\"outlinewidth\":0,\"ticks\":\"\"}}}],\"scatterpolar\":[{\"type\":\"scatterpolar\",\"marker\":{\"colorbar\":{\"outlinewidth\":0,\"ticks\":\"\"}}}],\"histogram\":[{\"marker\":{\"pattern\":{\"fillmode\":\"overlay\",\"size\":10,\"solidity\":0.2}},\"type\":\"histogram\"}],\"scattergl\":[{\"type\":\"scattergl\",\"marker\":{\"colorbar\":{\"outlinewidth\":0,\"ticks\":\"\"}}}],\"scatter3d\":[{\"type\":\"scatter3d\",\"line\":{\"colorbar\":{\"outlinewidth\":0,\"ticks\":\"\"}},\"marker\":{\"colorbar\":{\"outlinewidth\":0,\"ticks\":\"\"}}}],\"scattermapbox\":[{\"type\":\"scattermapbox\",\"marker\":{\"colorbar\":{\"outlinewidth\":0,\"ticks\":\"\"}}}],\"scatterternary\":[{\"type\":\"scatterternary\",\"marker\":{\"colorbar\":{\"outlinewidth\":0,\"ticks\":\"\"}}}],\"scattercarpet\":[{\"type\":\"scattercarpet\",\"marker\":{\"colorbar\":{\"outlinewidth\":0,\"ticks\":\"\"}}}],\"carpet\":[{\"aaxis\":{\"endlinecolor\":\"#2a3f5f\",\"gridcolor\":\"white\",\"linecolor\":\"white\",\"minorgridcolor\":\"white\",\"startlinecolor\":\"#2a3f5f\"},\"baxis\":{\"endlinecolor\":\"#2a3f5f\",\"gridcolor\":\"white\",\"linecolor\":\"white\",\"minorgridcolor\":\"white\",\"startlinecolor\":\"#2a3f5f\"},\"type\":\"carpet\"}],\"table\":[{\"cells\":{\"fill\":{\"color\":\"#EBF0F8\"},\"line\":{\"color\":\"white\"}},\"header\":{\"fill\":{\"color\":\"#C8D4E3\"},\"line\":{\"color\":\"white\"}},\"type\":\"table\"}],\"barpolar\":[{\"marker\":{\"line\":{\"color\":\"#E5ECF6\",\"width\":0.5},\"pattern\":{\"fillmode\":\"overlay\",\"size\":10,\"solidity\":0.2}},\"type\":\"barpolar\"}],\"pie\":[{\"automargin\":true,\"type\":\"pie\"}]},\"layout\":{\"autotypenumbers\":\"strict\",\"colorway\":[\"#636efa\",\"#EF553B\",\"#00cc96\",\"#ab63fa\",\"#FFA15A\",\"#19d3f3\",\"#FF6692\",\"#B6E880\",\"#FF97FF\",\"#FECB52\"],\"font\":{\"color\":\"#2a3f5f\"},\"hovermode\":\"closest\",\"hoverlabel\":{\"align\":\"left\"},\"paper_bgcolor\":\"white\",\"plot_bgcolor\":\"#E5ECF6\",\"polar\":{\"bgcolor\":\"#E5ECF6\",\"angularaxis\":{\"gridcolor\":\"white\",\"linecolor\":\"white\",\"ticks\":\"\"},\"radialaxis\":{\"gridcolor\":\"white\",\"linecolor\":\"white\",\"ticks\":\"\"}},\"ternary\":{\"bgcolor\":\"#E5ECF6\",\"aaxis\":{\"gridcolor\":\"white\",\"linecolor\":\"white\",\"ticks\":\"\"},\"baxis\":{\"gridcolor\":\"white\",\"linecolor\":\"white\",\"ticks\":\"\"},\"caxis\":{\"gridcolor\":\"white\",\"linecolor\":\"white\",\"ticks\":\"\"}},\"coloraxis\":{\"colorbar\":{\"outlinewidth\":0,\"ticks\":\"\"}},\"colorscale\":{\"sequential\":[[0.0,\"#0d0887\"],[0.1111111111111111,\"#46039f\"],[0.2222222222222222,\"#7201a8\"],[0.3333333333333333,\"#9c179e\"],[0.4444444444444444,\"#bd3786\"],[0.5555555555555556,\"#d8576b\"],[0.6666666666666666,\"#ed7953\"],[0.7777777777777778,\"#fb9f3a\"],[0.8888888888888888,\"#fdca26\"],[1.0,\"#f0f921\"]],\"sequentialminus\":[[0.0,\"#0d0887\"],[0.1111111111111111,\"#46039f\"],[0.2222222222222222,\"#7201a8\"],[0.3333333333333333,\"#9c179e\"],[0.4444444444444444,\"#bd3786\"],[0.5555555555555556,\"#d8576b\"],[0.6666666666666666,\"#ed7953\"],[0.7777777777777778,\"#fb9f3a\"],[0.8888888888888888,\"#fdca26\"],[1.0,\"#f0f921\"]],\"diverging\":[[0,\"#8e0152\"],[0.1,\"#c51b7d\"],[0.2,\"#de77ae\"],[0.3,\"#f1b6da\"],[0.4,\"#fde0ef\"],[0.5,\"#f7f7f7\"],[0.6,\"#e6f5d0\"],[0.7,\"#b8e186\"],[0.8,\"#7fbc41\"],[0.9,\"#4d9221\"],[1,\"#276419\"]]},\"xaxis\":{\"gridcolor\":\"white\",\"linecolor\":\"white\",\"ticks\":\"\",\"title\":{\"standoff\":15},\"zerolinecolor\":\"white\",\"automargin\":true,\"zerolinewidth\":2},\"yaxis\":{\"gridcolor\":\"white\",\"linecolor\":\"white\",\"ticks\":\"\",\"title\":{\"standoff\":15},\"zerolinecolor\":\"white\",\"automargin\":true,\"zerolinewidth\":2},\"scene\":{\"xaxis\":{\"backgroundcolor\":\"#E5ECF6\",\"gridcolor\":\"white\",\"linecolor\":\"white\",\"showbackground\":true,\"ticks\":\"\",\"zerolinecolor\":\"white\",\"gridwidth\":2},\"yaxis\":{\"backgroundcolor\":\"#E5ECF6\",\"gridcolor\":\"white\",\"linecolor\":\"white\",\"showbackground\":true,\"ticks\":\"\",\"zerolinecolor\":\"white\",\"gridwidth\":2},\"zaxis\":{\"backgroundcolor\":\"#E5ECF6\",\"gridcolor\":\"white\",\"linecolor\":\"white\",\"showbackground\":true,\"ticks\":\"\",\"zerolinecolor\":\"white\",\"gridwidth\":2}},\"shapedefaults\":{\"line\":{\"color\":\"#2a3f5f\"}},\"annotationdefaults\":{\"arrowcolor\":\"#2a3f5f\",\"arrowhead\":0,\"arrowwidth\":1},\"geo\":{\"bgcolor\":\"white\",\"landcolor\":\"#E5ECF6\",\"subunitcolor\":\"white\",\"showland\":true,\"showlakes\":true,\"lakecolor\":\"white\"},\"title\":{\"x\":0.05},\"mapbox\":{\"style\":\"light\"}}},\"scene\":{\"domain\":{\"x\":[0.0,1.0],\"y\":[0.0,1.0]},\"xaxis\":{\"title\":{\"text\":\"feature1\"}},\"yaxis\":{\"title\":{\"text\":\"feature2\"}},\"zaxis\":{\"title\":{\"text\":\"target\"}}},\"legend\":{\"tracegroupgap\":0},\"margin\":{\"t\":60}},                        {\"responsive\": true}                    ).then(function(){\n",
       "                            \n",
       "var gd = document.getElementById('6248af09-20cb-49bb-b6a0-281dac550f35');\n",
       "var x = new MutationObserver(function (mutations, observer) {{\n",
       "        var display = window.getComputedStyle(gd).display;\n",
       "        if (!display || display === 'none') {{\n",
       "            console.log([gd, 'removed!']);\n",
       "            Plotly.purge(gd);\n",
       "            observer.disconnect();\n",
       "        }}\n",
       "}});\n",
       "\n",
       "// Listen for the removal of the full notebook cells\n",
       "var notebookContainer = gd.closest('#notebook-container');\n",
       "if (notebookContainer) {{\n",
       "    x.observe(notebookContainer, {childList: true});\n",
       "}}\n",
       "\n",
       "// Listen for the clearing of the current output cell\n",
       "var outputEl = gd.closest('.output');\n",
       "if (outputEl) {{\n",
       "    x.observe(outputEl, {childList: true});\n",
       "}}\n",
       "\n",
       "                        })                };                            </script>        </div>\n",
       "</body>\n",
       "</html>"
      ]
     },
     "metadata": {},
     "output_type": "display_data"
    }
   ],
   "source": [
    "fig = px.scatter_3d(df, x='feature1', y='feature2', z='target')\n",
    "\n",
    "fig.add_trace(go.Surface(x = x, y = y, z =z ))\n",
    "\n",
    "fig.show()"
   ]
  },
  {
   "cell_type": "code",
   "execution_count": 12,
   "id": "e42f362d",
   "metadata": {
    "execution": {
     "iopub.execute_input": "2025-03-26T17:47:33.526447Z",
     "iopub.status.busy": "2025-03-26T17:47:33.526109Z",
     "iopub.status.idle": "2025-03-26T17:47:33.531835Z",
     "shell.execute_reply": "2025-03-26T17:47:33.530997Z"
    },
    "papermill": {
     "duration": 0.012183,
     "end_time": "2025-03-26T17:47:33.533303",
     "exception": false,
     "start_time": "2025-03-26T17:47:33.521120",
     "status": "completed"
    },
    "tags": []
   },
   "outputs": [
    {
     "data": {
      "text/plain": [
       "array([10.3185189 , 10.72580482])"
      ]
     },
     "execution_count": 12,
     "metadata": {},
     "output_type": "execute_result"
    }
   ],
   "source": [
    "lr.coef_\n"
   ]
  },
  {
   "cell_type": "code",
   "execution_count": 13,
   "id": "1538e759",
   "metadata": {
    "execution": {
     "iopub.execute_input": "2025-03-26T17:47:33.542748Z",
     "iopub.status.busy": "2025-03-26T17:47:33.542454Z",
     "iopub.status.idle": "2025-03-26T17:47:33.548005Z",
     "shell.execute_reply": "2025-03-26T17:47:33.547149Z"
    },
    "papermill": {
     "duration": 0.011951,
     "end_time": "2025-03-26T17:47:33.549548",
     "exception": false,
     "start_time": "2025-03-26T17:47:33.537597",
     "status": "completed"
    },
    "tags": []
   },
   "outputs": [
    {
     "data": {
      "text/plain": [
       "-0.1602259697144479"
      ]
     },
     "execution_count": 13,
     "metadata": {},
     "output_type": "execute_result"
    }
   ],
   "source": [
    "lr.intercept_\n"
   ]
  }
 ],
 "metadata": {
  "kaggle": {
   "accelerator": "none",
   "dataSources": [],
   "dockerImageVersionId": 30918,
   "isGpuEnabled": false,
   "isInternetEnabled": true,
   "language": "python",
   "sourceType": "notebook"
  },
  "kernelspec": {
   "display_name": "Python 3",
   "language": "python",
   "name": "python3"
  },
  "language_info": {
   "codemirror_mode": {
    "name": "ipython",
    "version": 3
   },
   "file_extension": ".py",
   "mimetype": "text/x-python",
   "name": "python",
   "nbconvert_exporter": "python",
   "pygments_lexer": "ipython3",
   "version": "3.10.12"
  },
  "papermill": {
   "default_parameters": {},
   "duration": 8.802826,
   "end_time": "2025-03-26T17:47:34.373040",
   "environment_variables": {},
   "exception": null,
   "input_path": "__notebook__.ipynb",
   "output_path": "__notebook__.ipynb",
   "parameters": {},
   "start_time": "2025-03-26T17:47:25.570214",
   "version": "2.6.0"
  }
 },
 "nbformat": 4,
 "nbformat_minor": 5
}
