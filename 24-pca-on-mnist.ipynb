{
 "cells": [
  {
   "cell_type": "markdown",
   "id": "aa203212",
   "metadata": {
    "papermill": {
     "duration": 0.00635,
     "end_time": "2025-03-22T17:52:35.622717",
     "exception": false,
     "start_time": "2025-03-22T17:52:35.616367",
     "status": "completed"
    },
    "tags": []
   },
   "source": [
    "# "
   ]
  },
  {
   "cell_type": "code",
   "execution_count": 1,
   "id": "fa71e43b",
   "metadata": {
    "_cell_guid": "b1076dfc-b9ad-4769-8c92-a6c4dae69d19",
    "_uuid": "8f2839f25d086af736a60e9eeb907d3b93b6e0e5",
    "execution": {
     "iopub.execute_input": "2025-03-22T17:52:35.636005Z",
     "iopub.status.busy": "2025-03-22T17:52:35.635629Z",
     "iopub.status.idle": "2025-03-22T17:52:36.640878Z",
     "shell.execute_reply": "2025-03-22T17:52:36.639723Z"
    },
    "papermill": {
     "duration": 1.014036,
     "end_time": "2025-03-22T17:52:36.642763",
     "exception": false,
     "start_time": "2025-03-22T17:52:35.628727",
     "status": "completed"
    },
    "tags": []
   },
   "outputs": [
    {
     "name": "stdout",
     "output_type": "stream",
     "text": [
      "/kaggle/input/digit-recognizer/sample_submission.csv\n",
      "/kaggle/input/digit-recognizer/train.csv\n",
      "/kaggle/input/digit-recognizer/test.csv\n"
     ]
    }
   ],
   "source": [
    "# This Python 3 environment comes with many helpful analytics libraries installed\n",
    "# It is defined by the kaggle/python Docker image: https://github.com/kaggle/docker-python\n",
    "# For example, here's several helpful packages to load\n",
    "\n",
    "import numpy as np # linear algebra\n",
    "import pandas as pd # data processing, CSV file I/O (e.g. pd.read_csv)\n",
    "\n",
    "# Input data files are available in the read-only \"../input/\" directory\n",
    "# For example, running this (by clicking run or pressing Shift+Enter) will list all files under the input directory\n",
    "\n",
    "import os\n",
    "for dirname, _, filenames in os.walk('/kaggle/input'):\n",
    "    for filename in filenames:\n",
    "        print(os.path.join(dirname, filename))\n",
    "\n",
    "# You can write up to 20GB to the current directory (/kaggle/working/) that gets preserved as output when you create a version using \"Save & Run All\" \n",
    "# You can also write temporary files to /kaggle/temp/, but they won't be saved outside of the current session"
   ]
  },
  {
   "cell_type": "code",
   "execution_count": 2,
   "id": "ed6ae1e9",
   "metadata": {
    "execution": {
     "iopub.execute_input": "2025-03-22T17:52:36.655954Z",
     "iopub.status.busy": "2025-03-22T17:52:36.655379Z",
     "iopub.status.idle": "2025-03-22T17:52:36.707445Z",
     "shell.execute_reply": "2025-03-22T17:52:36.706394Z"
    },
    "papermill": {
     "duration": 0.060549,
     "end_time": "2025-03-22T17:52:36.709162",
     "exception": false,
     "start_time": "2025-03-22T17:52:36.648613",
     "status": "completed"
    },
    "tags": []
   },
   "outputs": [
    {
     "data": {
      "text/html": [
       "<div>\n",
       "<style scoped>\n",
       "    .dataframe tbody tr th:only-of-type {\n",
       "        vertical-align: middle;\n",
       "    }\n",
       "\n",
       "    .dataframe tbody tr th {\n",
       "        vertical-align: top;\n",
       "    }\n",
       "\n",
       "    .dataframe thead th {\n",
       "        text-align: right;\n",
       "    }\n",
       "</style>\n",
       "<table border=\"1\" class=\"dataframe\">\n",
       "  <thead>\n",
       "    <tr style=\"text-align: right;\">\n",
       "      <th></th>\n",
       "      <th>ImageId</th>\n",
       "      <th>Label</th>\n",
       "    </tr>\n",
       "  </thead>\n",
       "  <tbody>\n",
       "    <tr>\n",
       "      <th>0</th>\n",
       "      <td>1</td>\n",
       "      <td>0</td>\n",
       "    </tr>\n",
       "    <tr>\n",
       "      <th>1</th>\n",
       "      <td>2</td>\n",
       "      <td>0</td>\n",
       "    </tr>\n",
       "    <tr>\n",
       "      <th>2</th>\n",
       "      <td>3</td>\n",
       "      <td>0</td>\n",
       "    </tr>\n",
       "    <tr>\n",
       "      <th>3</th>\n",
       "      <td>4</td>\n",
       "      <td>0</td>\n",
       "    </tr>\n",
       "    <tr>\n",
       "      <th>4</th>\n",
       "      <td>5</td>\n",
       "      <td>0</td>\n",
       "    </tr>\n",
       "    <tr>\n",
       "      <th>...</th>\n",
       "      <td>...</td>\n",
       "      <td>...</td>\n",
       "    </tr>\n",
       "    <tr>\n",
       "      <th>27995</th>\n",
       "      <td>27996</td>\n",
       "      <td>0</td>\n",
       "    </tr>\n",
       "    <tr>\n",
       "      <th>27996</th>\n",
       "      <td>27997</td>\n",
       "      <td>0</td>\n",
       "    </tr>\n",
       "    <tr>\n",
       "      <th>27997</th>\n",
       "      <td>27998</td>\n",
       "      <td>0</td>\n",
       "    </tr>\n",
       "    <tr>\n",
       "      <th>27998</th>\n",
       "      <td>27999</td>\n",
       "      <td>0</td>\n",
       "    </tr>\n",
       "    <tr>\n",
       "      <th>27999</th>\n",
       "      <td>28000</td>\n",
       "      <td>0</td>\n",
       "    </tr>\n",
       "  </tbody>\n",
       "</table>\n",
       "<p>28000 rows × 2 columns</p>\n",
       "</div>"
      ],
      "text/plain": [
       "       ImageId  Label\n",
       "0            1      0\n",
       "1            2      0\n",
       "2            3      0\n",
       "3            4      0\n",
       "4            5      0\n",
       "...        ...    ...\n",
       "27995    27996      0\n",
       "27996    27997      0\n",
       "27997    27998      0\n",
       "27998    27999      0\n",
       "27999    28000      0\n",
       "\n",
       "[28000 rows x 2 columns]"
      ]
     },
     "execution_count": 2,
     "metadata": {},
     "output_type": "execute_result"
    }
   ],
   "source": [
    "sample = pd.read_csv('/kaggle/input/digit-recognizer/sample_submission.csv')\n",
    "sample"
   ]
  },
  {
   "cell_type": "code",
   "execution_count": 3,
   "id": "8066ca07",
   "metadata": {
    "execution": {
     "iopub.execute_input": "2025-03-22T17:52:36.722619Z",
     "iopub.status.busy": "2025-03-22T17:52:36.722165Z",
     "iopub.status.idle": "2025-03-22T17:52:42.115044Z",
     "shell.execute_reply": "2025-03-22T17:52:42.113994Z"
    },
    "papermill": {
     "duration": 5.401732,
     "end_time": "2025-03-22T17:52:42.117055",
     "exception": false,
     "start_time": "2025-03-22T17:52:36.715323",
     "status": "completed"
    },
    "tags": []
   },
   "outputs": [],
   "source": [
    "test = pd.read_csv('/kaggle/input/digit-recognizer/test.csv')\n",
    "train = pd.read_csv('/kaggle/input/digit-recognizer/train.csv')"
   ]
  },
  {
   "cell_type": "code",
   "execution_count": 4,
   "id": "52dd5ba5",
   "metadata": {
    "execution": {
     "iopub.execute_input": "2025-03-22T17:52:42.132474Z",
     "iopub.status.busy": "2025-03-22T17:52:42.132062Z",
     "iopub.status.idle": "2025-03-22T17:52:42.138295Z",
     "shell.execute_reply": "2025-03-22T17:52:42.137377Z"
    },
    "papermill": {
     "duration": 0.014866,
     "end_time": "2025-03-22T17:52:42.139944",
     "exception": false,
     "start_time": "2025-03-22T17:52:42.125078",
     "status": "completed"
    },
    "tags": []
   },
   "outputs": [
    {
     "data": {
      "text/plain": [
       "(42000, 785)"
      ]
     },
     "execution_count": 4,
     "metadata": {},
     "output_type": "execute_result"
    }
   ],
   "source": [
    "train.shape"
   ]
  },
  {
   "cell_type": "code",
   "execution_count": 5,
   "id": "f78ca9d4",
   "metadata": {
    "execution": {
     "iopub.execute_input": "2025-03-22T17:52:42.153878Z",
     "iopub.status.busy": "2025-03-22T17:52:42.153489Z",
     "iopub.status.idle": "2025-03-22T17:52:42.159880Z",
     "shell.execute_reply": "2025-03-22T17:52:42.158794Z"
    },
    "papermill": {
     "duration": 0.015158,
     "end_time": "2025-03-22T17:52:42.161529",
     "exception": false,
     "start_time": "2025-03-22T17:52:42.146371",
     "status": "completed"
    },
    "tags": []
   },
   "outputs": [
    {
     "data": {
      "text/plain": [
       "(28000, 784)"
      ]
     },
     "execution_count": 5,
     "metadata": {},
     "output_type": "execute_result"
    }
   ],
   "source": [
    "test.shape"
   ]
  },
  {
   "cell_type": "code",
   "execution_count": 6,
   "id": "3a70ad15",
   "metadata": {
    "execution": {
     "iopub.execute_input": "2025-03-22T17:52:42.175711Z",
     "iopub.status.busy": "2025-03-22T17:52:42.175365Z",
     "iopub.status.idle": "2025-03-22T17:52:42.287222Z",
     "shell.execute_reply": "2025-03-22T17:52:42.286366Z"
    },
    "papermill": {
     "duration": 0.121061,
     "end_time": "2025-03-22T17:52:42.289106",
     "exception": false,
     "start_time": "2025-03-22T17:52:42.168045",
     "status": "completed"
    },
    "tags": []
   },
   "outputs": [],
   "source": [
    "x = train.drop('label', axis=1)\n",
    "y = train['label']"
   ]
  },
  {
   "cell_type": "code",
   "execution_count": 7,
   "id": "66a2754a",
   "metadata": {
    "execution": {
     "iopub.execute_input": "2025-03-22T17:52:42.302987Z",
     "iopub.status.busy": "2025-03-22T17:52:42.302669Z",
     "iopub.status.idle": "2025-03-22T17:52:42.308702Z",
     "shell.execute_reply": "2025-03-22T17:52:42.307642Z"
    },
    "papermill": {
     "duration": 0.014815,
     "end_time": "2025-03-22T17:52:42.310235",
     "exception": false,
     "start_time": "2025-03-22T17:52:42.295420",
     "status": "completed"
    },
    "tags": []
   },
   "outputs": [
    {
     "data": {
      "text/plain": [
       "Index(['label', 'pixel0', 'pixel1', 'pixel2', 'pixel3', 'pixel4', 'pixel5',\n",
       "       'pixel6', 'pixel7', 'pixel8',\n",
       "       ...\n",
       "       'pixel774', 'pixel775', 'pixel776', 'pixel777', 'pixel778', 'pixel779',\n",
       "       'pixel780', 'pixel781', 'pixel782', 'pixel783'],\n",
       "      dtype='object', length=785)"
      ]
     },
     "execution_count": 7,
     "metadata": {},
     "output_type": "execute_result"
    }
   ],
   "source": [
    "test.keys()\n",
    "train.keys()"
   ]
  },
  {
   "cell_type": "code",
   "execution_count": 8,
   "id": "1c0d7dce",
   "metadata": {
    "execution": {
     "iopub.execute_input": "2025-03-22T17:52:42.324027Z",
     "iopub.status.busy": "2025-03-22T17:52:42.323665Z",
     "iopub.status.idle": "2025-03-22T17:52:44.112533Z",
     "shell.execute_reply": "2025-03-22T17:52:44.111457Z"
    },
    "papermill": {
     "duration": 1.797891,
     "end_time": "2025-03-22T17:52:44.114550",
     "exception": false,
     "start_time": "2025-03-22T17:52:42.316659",
     "status": "completed"
    },
    "tags": []
   },
   "outputs": [],
   "source": [
    "from sklearn.model_selection import train_test_split\n",
    "\n",
    "x_train, x_test, y_train, y_test = train_test_split(x,y,test_size=0.2,random_state=42)"
   ]
  },
  {
   "cell_type": "code",
   "execution_count": 9,
   "id": "a32dd35a",
   "metadata": {
    "execution": {
     "iopub.execute_input": "2025-03-22T17:52:44.129814Z",
     "iopub.status.busy": "2025-03-22T17:52:44.129111Z",
     "iopub.status.idle": "2025-03-22T17:52:44.137809Z",
     "shell.execute_reply": "2025-03-22T17:52:44.136524Z"
    },
    "papermill": {
     "duration": 0.018496,
     "end_time": "2025-03-22T17:52:44.139835",
     "exception": false,
     "start_time": "2025-03-22T17:52:44.121339",
     "status": "completed"
    },
    "tags": []
   },
   "outputs": [
    {
     "data": {
      "text/plain": [
       "5457     8\n",
       "38509    1\n",
       "25536    9\n",
       "31803    9\n",
       "39863    8\n",
       "Name: label, dtype: int64"
      ]
     },
     "execution_count": 9,
     "metadata": {},
     "output_type": "execute_result"
    }
   ],
   "source": [
    "y_test.head()"
   ]
  },
  {
   "cell_type": "code",
   "execution_count": 10,
   "id": "59a97a78",
   "metadata": {
    "execution": {
     "iopub.execute_input": "2025-03-22T17:52:44.154217Z",
     "iopub.status.busy": "2025-03-22T17:52:44.153848Z",
     "iopub.status.idle": "2025-03-22T17:52:44.158759Z",
     "shell.execute_reply": "2025-03-22T17:52:44.157365Z"
    },
    "papermill": {
     "duration": 0.014305,
     "end_time": "2025-03-22T17:52:44.160653",
     "exception": false,
     "start_time": "2025-03-22T17:52:44.146348",
     "status": "completed"
    },
    "tags": []
   },
   "outputs": [],
   "source": [
    "from sklearn.preprocessing import StandardScaler"
   ]
  },
  {
   "cell_type": "code",
   "execution_count": 11,
   "id": "a3555457",
   "metadata": {
    "execution": {
     "iopub.execute_input": "2025-03-22T17:52:44.176377Z",
     "iopub.status.busy": "2025-03-22T17:52:44.175946Z",
     "iopub.status.idle": "2025-03-22T17:52:44.869329Z",
     "shell.execute_reply": "2025-03-22T17:52:44.868310Z"
    },
    "papermill": {
     "duration": 0.703321,
     "end_time": "2025-03-22T17:52:44.871251",
     "exception": false,
     "start_time": "2025-03-22T17:52:44.167930",
     "status": "completed"
    },
    "tags": []
   },
   "outputs": [],
   "source": [
    "scaler = StandardScaler()\n",
    "x_train = scaler.fit_transform(x_train)\n",
    "x_test = scaler.transform(x_test)"
   ]
  },
  {
   "cell_type": "code",
   "execution_count": 12,
   "id": "00a57d98",
   "metadata": {
    "execution": {
     "iopub.execute_input": "2025-03-22T17:52:44.885845Z",
     "iopub.status.busy": "2025-03-22T17:52:44.885450Z",
     "iopub.status.idle": "2025-03-22T17:52:44.891375Z",
     "shell.execute_reply": "2025-03-22T17:52:44.890334Z"
    },
    "papermill": {
     "duration": 0.014984,
     "end_time": "2025-03-22T17:52:44.893105",
     "exception": false,
     "start_time": "2025-03-22T17:52:44.878121",
     "status": "completed"
    },
    "tags": []
   },
   "outputs": [
    {
     "data": {
      "text/plain": [
       "'for i in range(1,785):\\n    pca = PCA(n_components=i)\\n    x_train_trf = pca.fit_transform(x_train)\\n    x_test_trf = pca.transform(x_test)\\n\\n    knn = KNeighborsClassifier()\\n\\n    knn.fit(x_train_trf,y_train)\\n    y_pred= knn.predict(x_test_trf)\\n\\n    print(accuracy_score(y_pred,y_test))'"
      ]
     },
     "execution_count": 12,
     "metadata": {},
     "output_type": "execute_result"
    }
   ],
   "source": [
    "#PCA\n",
    "#from sklearn.decomposition import PCA\n",
    "#from sklearn.neighbors import KNeighborsClassifier\n",
    "#from sklearn.metrics import accuracy_score\n",
    "\n",
    "'''for i in range(1,785):\n",
    "    pca = PCA(n_components=i)\n",
    "    x_train_trf = pca.fit_transform(x_train)\n",
    "    x_test_trf = pca.transform(x_test)\n",
    "\n",
    "    knn = KNeighborsClassifier()\n",
    "\n",
    "    knn.fit(x_train_trf,y_train)\n",
    "    y_pred= knn.predict(x_test_trf)\n",
    "\n",
    "    print(accuracy_score(y_pred,y_test))'''"
   ]
  },
  {
   "cell_type": "code",
   "execution_count": 13,
   "id": "dea40b28",
   "metadata": {
    "execution": {
     "iopub.execute_input": "2025-03-22T17:52:44.908327Z",
     "iopub.status.busy": "2025-03-22T17:52:44.907969Z",
     "iopub.status.idle": "2025-03-22T17:52:49.644488Z",
     "shell.execute_reply": "2025-03-22T17:52:49.643445Z"
    },
    "papermill": {
     "duration": 4.746957,
     "end_time": "2025-03-22T17:52:49.646605",
     "exception": false,
     "start_time": "2025-03-22T17:52:44.899648",
     "status": "completed"
    },
    "tags": []
   },
   "outputs": [],
   "source": [
    "from sklearn.decomposition import PCA\n",
    "from sklearn.neighbors import KNeighborsClassifier\n",
    "from sklearn.metrics import accuracy_score\n",
    "\n",
    "pca = PCA(n_components=None)\n",
    "X_train_trf = pca.fit_transform(x_train)\n",
    "X_test_trf = pca.fit(x_test)"
   ]
  },
  {
   "cell_type": "code",
   "execution_count": 14,
   "id": "cb4bf844",
   "metadata": {
    "execution": {
     "iopub.execute_input": "2025-03-22T17:52:49.661559Z",
     "iopub.status.busy": "2025-03-22T17:52:49.661133Z",
     "iopub.status.idle": "2025-03-22T17:52:49.667444Z",
     "shell.execute_reply": "2025-03-22T17:52:49.666352Z"
    },
    "papermill": {
     "duration": 0.015703,
     "end_time": "2025-03-22T17:52:49.669234",
     "exception": false,
     "start_time": "2025-03-22T17:52:49.653531",
     "status": "completed"
    },
    "tags": []
   },
   "outputs": [
    {
     "data": {
      "text/plain": [
       "(784,)"
      ]
     },
     "execution_count": 14,
     "metadata": {},
     "output_type": "execute_result"
    }
   ],
   "source": [
    "pca.explained_variance_ratio_.shape"
   ]
  },
  {
   "cell_type": "code",
   "execution_count": 15,
   "id": "50cde228",
   "metadata": {
    "execution": {
     "iopub.execute_input": "2025-03-22T17:52:49.684586Z",
     "iopub.status.busy": "2025-03-22T17:52:49.684140Z",
     "iopub.status.idle": "2025-03-22T17:52:49.696339Z",
     "shell.execute_reply": "2025-03-22T17:52:49.695129Z"
    },
    "papermill": {
     "duration": 0.021874,
     "end_time": "2025-03-22T17:52:49.698188",
     "exception": false,
     "start_time": "2025-03-22T17:52:49.676314",
     "status": "completed"
    },
    "tags": []
   },
   "outputs": [
    {
     "data": {
      "text/plain": [
       "array([0.44085413, 0.52967954, 0.55599861, 0.5746144 , 0.59208444,\n",
       "       0.60829425, 0.62144214, 0.63296547, 0.64301444, 0.65186491,\n",
       "       0.66010921, 0.66752365, 0.67458846, 0.6812157 , 0.68779694,\n",
       "       0.69412658, 0.70006253, 0.70589273, 0.71152469, 0.71706969,\n",
       "       0.7223117 , 0.7273664 , 0.73227288, 0.7371033 , 0.74178379,\n",
       "       0.74629945, 0.75071207, 0.75480805, 0.75884578, 0.76276093,\n",
       "       0.76655628, 0.77023803, 0.773757  , 0.77714048, 0.78044299,\n",
       "       0.7836703 , 0.78680644, 0.78983423, 0.79277379, 0.79561433,\n",
       "       0.79843656, 0.80124174, 0.80393726, 0.80659643, 0.80924156,\n",
       "       0.81178074, 0.81427147, 0.81673992, 0.81918024, 0.82154849,\n",
       "       0.82387757, 0.82615598, 0.82836536, 0.83053629, 0.83265536,\n",
       "       0.83474808, 0.83683309, 0.83886351, 0.84081051, 0.84275011,\n",
       "       0.84466232, 0.84653634, 0.84838243, 0.85016293, 0.85193234,\n",
       "       0.85369586, 0.85541788, 0.85708229, 0.85872741, 0.86035976,\n",
       "       0.86193664, 0.86350778, 0.86506727, 0.86657887, 0.868075  ,\n",
       "       0.86955362, 0.87100501, 0.87244109, 0.87385701, 0.87524768,\n",
       "       0.87661975, 0.8779784 , 0.87932228, 0.88064326, 0.8819413 ,\n",
       "       0.88322938, 0.88449829, 0.8857437 , 0.88697601, 0.88820484,\n",
       "       0.8894106 , 0.89060378, 0.89178735, 0.89294984, 0.89410141,\n",
       "       0.8952457 , 0.8963629 , 0.89746891, 0.89856737, 0.89965132,\n",
       "       0.90072026, 0.90177579, 0.90281669, 0.90384477, 0.90486566,\n",
       "       0.90585438, 0.90682609, 0.90778721, 0.90873324, 0.90967764,\n",
       "       0.91060328, 0.91151066, 0.91240509, 0.91329365, 0.91417352,\n",
       "       0.91503788, 0.91589346, 0.91673904, 0.91757314, 0.91838609,\n",
       "       0.91919534, 0.91999147, 0.92077904, 0.9215532 , 0.92232178,\n",
       "       0.92308201, 0.92383009, 0.92457277, 0.92530332, 0.92602503,\n",
       "       0.92674211, 0.9274537 , 0.92815706, 0.92884979, 0.92953272,\n",
       "       0.93020288, 0.93086493, 0.93151692, 0.9321639 , 0.93280749,\n",
       "       0.93344416, 0.9340713 , 0.93469324, 0.9353108 , 0.93592397,\n",
       "       0.93653559, 0.93712866, 0.93771892, 0.93830462, 0.9388855 ,\n",
       "       0.93946089, 0.94002358, 0.94058474, 0.94113898, 0.94168384,\n",
       "       0.94222365, 0.94276042, 0.94329082, 0.94381319, 0.94432827,\n",
       "       0.94483482, 0.9453376 , 0.94583774, 0.94632893, 0.94681729,\n",
       "       0.947296  , 0.94776958, 0.94823943, 0.94870488, 0.94916366,\n",
       "       0.94962096, 0.95007368, 0.95052115, 0.95096448, 0.95140156,\n",
       "       0.95183243, 0.95225784, 0.95267942, 0.95309586, 0.95350869,\n",
       "       0.95391798, 0.9543238 , 0.95472488, 0.95511813, 0.95550742,\n",
       "       0.95589533, 0.9562772 , 0.95665738, 0.95703511, 0.95740769,\n",
       "       0.9577749 , 0.9581376 , 0.95849706, 0.95885326, 0.95920652,\n",
       "       0.95955769, 0.95990221, 0.96024153, 0.96057684, 0.96090747,\n",
       "       0.96123588, 0.96156358, 0.96188688, 0.96220721, 0.96252501,\n",
       "       0.96283775, 0.96314921, 0.96345517, 0.96375939, 0.96406174,\n",
       "       0.96436199, 0.96466023, 0.96495444, 0.96524707, 0.96553762,\n",
       "       0.96582479, 0.96610971, 0.96638992, 0.96666735, 0.96694467,\n",
       "       0.96721869, 0.9674878 , 0.9677542 , 0.96801779, 0.96827795,\n",
       "       0.96853772, 0.96879461, 0.96905052, 0.96930529, 0.96955521,\n",
       "       0.96980353, 0.97004793, 0.97028785, 0.97052711, 0.97076267,\n",
       "       0.97099653, 0.97122963, 0.97146011, 0.97168824, 0.97191598,\n",
       "       0.97214159, 0.97236283, 0.97258302, 0.97280199, 0.9730185 ,\n",
       "       0.97323197, 0.97344495, 0.9736562 , 0.97386423, 0.97407164,\n",
       "       0.9742766 , 0.97447799, 0.97467808, 0.97487637, 0.97507412,\n",
       "       0.97526953, 0.97546397, 0.97565628, 0.97584756, 0.97603725,\n",
       "       0.97622444, 0.9764102 , 0.97659422, 0.97677683, 0.97695735,\n",
       "       0.9771351 , 0.97731179, 0.97748585, 0.97765916, 0.97783034,\n",
       "       0.97799895, 0.97816711, 0.9783337 , 0.97849791, 0.97866148,\n",
       "       0.97882347, 0.97898448, 0.97914236, 0.97929906, 0.9794553 ,\n",
       "       0.97960974, 0.9797634 , 0.97991615, 0.98006719, 0.98021733,\n",
       "       0.98036637, 0.98051373, 0.98066083, 0.98080642, 0.98095068,\n",
       "       0.98109383, 0.98123578, 0.98137667, 0.98151716, 0.98165712,\n",
       "       0.98179482, 0.98193212, 0.98206917, 0.98220417, 0.98233796,\n",
       "       0.98247136, 0.9826027 , 0.98273339, 0.98286302, 0.98299048,\n",
       "       0.98311652, 0.98324189, 0.98336546, 0.98348759, 0.98360893,\n",
       "       0.98372979, 0.98385038, 0.98396978, 0.98408846, 0.98420609,\n",
       "       0.98432263, 0.98443842, 0.98455365, 0.98466786, 0.98478126,\n",
       "       0.98489348, 0.98500475, 0.98511526, 0.98522505, 0.98533397,\n",
       "       0.98544197, 0.98554954, 0.98565604, 0.9857619 , 0.98586673,\n",
       "       0.9859704 , 0.98607377, 0.9861762 , 0.98627746, 0.98637825,\n",
       "       0.98647773, 0.98657665, 0.98667449, 0.98677221, 0.98686871,\n",
       "       0.98696459, 0.98706008, 0.98715491, 0.98724825, 0.98734122,\n",
       "       0.98743364, 0.98752535, 0.9876164 , 0.98770647, 0.98779611,\n",
       "       0.98788539, 0.98797336, 0.98806064, 0.98814771, 0.98823411,\n",
       "       0.98832007, 0.98840562, 0.98849024, 0.9885744 , 0.98865772,\n",
       "       0.98874016, 0.98882238, 0.9889042 , 0.98898583, 0.9890671 ,\n",
       "       0.98914783, 0.98922777, 0.98930728, 0.98938616, 0.98946475,\n",
       "       0.98954303, 0.9896206 , 0.98969805, 0.9897753 , 0.98985149,\n",
       "       0.98992761, 0.99000297, 0.9900781 , 0.99015257, 0.99022642,\n",
       "       0.99029977, 0.9903729 , 0.99044565, 0.99051784, 0.99058951,\n",
       "       0.99066095, 0.99073148, 0.9908014 , 0.99087102, 0.99094044,\n",
       "       0.99100958, 0.99107781, 0.99114536, 0.99121288, 0.99127976,\n",
       "       0.9913461 , 0.99141227, 0.99147735, 0.99154236, 0.99160709,\n",
       "       0.99167147, 0.99173501, 0.99179828, 0.99186134, 0.99192429,\n",
       "       0.99198657, 0.9920487 , 0.99211047, 0.99217212, 0.99223329,\n",
       "       0.99229406, 0.99235401, 0.9924133 , 0.99247256, 0.99253126,\n",
       "       0.99258958, 0.99264763, 0.99270516, 0.99276248, 0.99281955,\n",
       "       0.99287629, 0.99293276, 0.9929892 , 0.99304532, 0.99310093,\n",
       "       0.99315644, 0.99321108, 0.99326521, 0.99331919, 0.99337311,\n",
       "       0.99342682, 0.99348026, 0.99353334, 0.9935861 , 0.99363837,\n",
       "       0.9936904 , 0.99374233, 0.99379407, 0.99384505, 0.99389591,\n",
       "       0.99394645, 0.99399659, 0.99404658, 0.99409627, 0.99414561,\n",
       "       0.99419463, 0.99424339, 0.99429175, 0.99434001, 0.99438793,\n",
       "       0.99443535, 0.99448263, 0.99452978, 0.9945768 , 0.99462302,\n",
       "       0.99466919, 0.99471515, 0.99476089, 0.9948064 , 0.99485137,\n",
       "       0.99489611, 0.99494065, 0.99498496, 0.99502898, 0.99507249,\n",
       "       0.99511585, 0.995159  , 0.99520181, 0.9952446 , 0.99528724,\n",
       "       0.99532958, 0.99537163, 0.9954132 , 0.99545468, 0.99549597,\n",
       "       0.99553697, 0.99557765, 0.9956182 , 0.99565854, 0.99569852,\n",
       "       0.99573833, 0.99577787, 0.99581711, 0.99585625, 0.99589498,\n",
       "       0.99593357, 0.99597172, 0.99600981, 0.99604758, 0.9960853 ,\n",
       "       0.99612278, 0.99616015, 0.99619731, 0.9962343 , 0.996271  ,\n",
       "       0.99630761, 0.99634381, 0.99637961, 0.99641528, 0.99645069,\n",
       "       0.99648606, 0.99652128, 0.99655622, 0.99659105, 0.99662562,\n",
       "       0.99665992, 0.99669417, 0.99672807, 0.99676175, 0.99679524,\n",
       "       0.99682851, 0.99686157, 0.99689451, 0.9969272 , 0.99695975,\n",
       "       0.99699223, 0.99702425, 0.99705619, 0.99708801, 0.99711957,\n",
       "       0.99715103, 0.99718237, 0.99721354, 0.99724428, 0.9972748 ,\n",
       "       0.99730522, 0.9973356 , 0.99736569, 0.99739545, 0.99742517,\n",
       "       0.99745464, 0.99748376, 0.99751275, 0.99754167, 0.99757049,\n",
       "       0.9975992 , 0.99762786, 0.99765618, 0.99768436, 0.99771235,\n",
       "       0.99774017, 0.99776782, 0.99779532, 0.99782279, 0.99784994,\n",
       "       0.997877  , 0.99790392, 0.99793064, 0.99795722, 0.99798378,\n",
       "       0.99801002, 0.99803614, 0.99806204, 0.9980879 , 0.99811362,\n",
       "       0.99813929, 0.99816471, 0.99818992, 0.99821511, 0.99824022,\n",
       "       0.99826521, 0.99829004, 0.99831474, 0.99833915, 0.99836339,\n",
       "       0.99838751, 0.99841157, 0.99843536, 0.99845905, 0.9984826 ,\n",
       "       0.99850596, 0.99852915, 0.99855225, 0.99857518, 0.99859799,\n",
       "       0.9986206 , 0.99864315, 0.99866553, 0.99868777, 0.9987099 ,\n",
       "       0.99873189, 0.9987538 , 0.99877555, 0.99879724, 0.99881881,\n",
       "       0.99884006, 0.99886109, 0.998882  , 0.99890286, 0.99892364,\n",
       "       0.99894414, 0.99896454, 0.99898482, 0.99900506, 0.99902513,\n",
       "       0.99904497, 0.99906472, 0.9990844 , 0.99910393, 0.99912317,\n",
       "       0.99914225, 0.9991611 , 0.99917984, 0.99919851, 0.99921704,\n",
       "       0.99923548, 0.99925381, 0.99927199, 0.99929006, 0.99930807,\n",
       "       0.99932585, 0.99934348, 0.99936099, 0.99937831, 0.9993956 ,\n",
       "       0.99941283, 0.99942987, 0.99944684, 0.99946373, 0.99948035,\n",
       "       0.99949682, 0.99951322, 0.99952946, 0.99954556, 0.99956158,\n",
       "       0.99957744, 0.99959317, 0.99960879, 0.99962417, 0.9996394 ,\n",
       "       0.9996546 , 0.99966951, 0.99968442, 0.9996992 , 0.99971361,\n",
       "       0.999728  , 0.99974221, 0.99975634, 0.99977018, 0.99978383,\n",
       "       0.99979738, 0.99981087, 0.99982416, 0.99983703, 0.99984988,\n",
       "       0.99986266, 0.99987513, 0.99988742, 0.99989942, 0.99991132,\n",
       "       0.99992293, 0.99993443, 0.99994581, 0.99995688, 0.99996753,\n",
       "       0.99997786, 0.99998454, 0.99999064, 0.99999491, 0.99999908,\n",
       "       0.99999954, 0.99999991, 0.99999998, 1.        , 1.        ,\n",
       "       1.        , 1.        , 1.        , 1.        , 1.        ,\n",
       "       1.        , 1.        , 1.        , 1.        , 1.        ,\n",
       "       1.        , 1.        , 1.        , 1.        , 1.        ,\n",
       "       1.        , 1.        , 1.        , 1.        , 1.        ,\n",
       "       1.        , 1.        , 1.        , 1.        , 1.        ,\n",
       "       1.        , 1.        , 1.        , 1.        , 1.        ,\n",
       "       1.        , 1.        , 1.        , 1.        , 1.        ,\n",
       "       1.        , 1.        , 1.        , 1.        , 1.        ,\n",
       "       1.        , 1.        , 1.        , 1.        , 1.        ,\n",
       "       1.        , 1.        , 1.        , 1.        , 1.        ,\n",
       "       1.        , 1.        , 1.        , 1.        , 1.        ,\n",
       "       1.        , 1.        , 1.        , 1.        , 1.        ,\n",
       "       1.        , 1.        , 1.        , 1.        , 1.        ,\n",
       "       1.        , 1.        , 1.        , 1.        , 1.        ,\n",
       "       1.        , 1.        , 1.        , 1.        , 1.        ,\n",
       "       1.        , 1.        , 1.        , 1.        , 1.        ,\n",
       "       1.        , 1.        , 1.        , 1.        , 1.        ,\n",
       "       1.        , 1.        , 1.        , 1.        , 1.        ,\n",
       "       1.        , 1.        , 1.        , 1.        , 1.        ,\n",
       "       1.        , 1.        , 1.        , 1.        , 1.        ,\n",
       "       1.        , 1.        , 1.        , 1.        , 1.        ,\n",
       "       1.        , 1.        , 1.        , 1.        , 1.        ,\n",
       "       1.        , 1.        , 1.        , 1.        , 1.        ,\n",
       "       1.        , 1.        , 1.        , 1.        ])"
      ]
     },
     "execution_count": 15,
     "metadata": {},
     "output_type": "execute_result"
    }
   ],
   "source": [
    "np.cumsum(pca.explained_variance_ratio_)"
   ]
  },
  {
   "cell_type": "code",
   "execution_count": 16,
   "id": "a923e9d3",
   "metadata": {
    "execution": {
     "iopub.execute_input": "2025-03-22T17:52:49.713759Z",
     "iopub.status.busy": "2025-03-22T17:52:49.713354Z",
     "iopub.status.idle": "2025-03-22T17:52:49.970587Z",
     "shell.execute_reply": "2025-03-22T17:52:49.969249Z"
    },
    "papermill": {
     "duration": 0.267199,
     "end_time": "2025-03-22T17:52:49.972635",
     "exception": false,
     "start_time": "2025-03-22T17:52:49.705436",
     "status": "completed"
    },
    "tags": []
   },
   "outputs": [
    {
     "data": {
      "text/plain": [
       "[<matplotlib.lines.Line2D at 0x7c170d993ee0>]"
      ]
     },
     "execution_count": 16,
     "metadata": {},
     "output_type": "execute_result"
    },
    {
     "data": {
      "image/png": "[encoded data removed]",
      "text/plain": [
       "<Figure size 640x480 with 1 Axes>"
      ]
     },
     "metadata": {},
     "output_type": "display_data"
    }
   ],
   "source": [
    "import matplotlib.pyplot as plt\n",
    "\n",
    "plt.plot(np.cumsum(pca.explained_variance_ratio_))"
   ]
  },
  {
   "cell_type": "code",
   "execution_count": 17,
   "id": "f21d698d",
   "metadata": {
    "execution": {
     "iopub.execute_input": "2025-03-22T17:52:49.988915Z",
     "iopub.status.busy": "2025-03-22T17:52:49.988519Z",
     "iopub.status.idle": "2025-03-22T17:52:56.077146Z",
     "shell.execute_reply": "2025-03-22T17:52:56.075937Z"
    },
    "papermill": {
     "duration": 6.098839,
     "end_time": "2025-03-22T17:52:56.078998",
     "exception": false,
     "start_time": "2025-03-22T17:52:49.980159",
     "status": "completed"
    },
    "tags": []
   },
   "outputs": [
    {
     "name": "stdout",
     "output_type": "stream",
     "text": [
      "0.9511904761904761\n"
     ]
    }
   ],
   "source": [
    "pca = PCA(n_components=200)\n",
    "x_train_trf = pca.fit_transform(x_train)\n",
    "x_test_trf = pca.transform(x_test)\n",
    "\n",
    "knn = KNeighborsClassifier()\n",
    "\n",
    "knn.fit(x_train_trf,y_train)\n",
    "y_pred= knn.predict(x_test_trf)\n",
    "\n",
    "print(accuracy_score(y_pred,y_test))"
   ]
  },
  {
   "cell_type": "code",
   "execution_count": 18,
   "id": "28d97a9a",
   "metadata": {
    "execution": {
     "iopub.execute_input": "2025-03-22T17:52:56.095358Z",
     "iopub.status.busy": "2025-03-22T17:52:56.094926Z",
     "iopub.status.idle": "2025-03-22T17:52:56.101155Z",
     "shell.execute_reply": "2025-03-22T17:52:56.100091Z"
    },
    "papermill": {
     "duration": 0.01631,
     "end_time": "2025-03-22T17:52:56.102990",
     "exception": false,
     "start_time": "2025-03-22T17:52:56.086680",
     "status": "completed"
    },
    "tags": []
   },
   "outputs": [
    {
     "data": {
      "text/plain": [
       "(28000, 784)"
      ]
     },
     "execution_count": 18,
     "metadata": {},
     "output_type": "execute_result"
    }
   ],
   "source": [
    "test.shape"
   ]
  },
  {
   "cell_type": "code",
   "execution_count": 19,
   "id": "84a18101",
   "metadata": {
    "execution": {
     "iopub.execute_input": "2025-03-22T17:52:56.119926Z",
     "iopub.status.busy": "2025-03-22T17:52:56.119560Z",
     "iopub.status.idle": "2025-03-22T17:52:56.433399Z",
     "shell.execute_reply": "2025-03-22T17:52:56.432505Z"
    },
    "papermill": {
     "duration": 0.324599,
     "end_time": "2025-03-22T17:52:56.435356",
     "exception": false,
     "start_time": "2025-03-22T17:52:56.110757",
     "status": "completed"
    },
    "tags": []
   },
   "outputs": [
    {
     "name": "stderr",
     "output_type": "stream",
     "text": [
      "/usr/local/lib/python3.10/dist-packages/sklearn/base.py:432: UserWarning: X has feature names, but PCA was fitted without feature names\n",
      "  warnings.warn(\n"
     ]
    }
   ],
   "source": [
    "test_trf = pca.transform(test)"
   ]
  },
  {
   "cell_type": "code",
   "execution_count": 20,
   "id": "641e9f47",
   "metadata": {
    "execution": {
     "iopub.execute_input": "2025-03-22T17:52:56.451966Z",
     "iopub.status.busy": "2025-03-22T17:52:56.451637Z",
     "iopub.status.idle": "2025-03-22T17:52:56.457520Z",
     "shell.execute_reply": "2025-03-22T17:52:56.456566Z"
    },
    "papermill": {
     "duration": 0.016079,
     "end_time": "2025-03-22T17:52:56.459300",
     "exception": false,
     "start_time": "2025-03-22T17:52:56.443221",
     "status": "completed"
    },
    "tags": []
   },
   "outputs": [
    {
     "data": {
      "text/plain": [
       "(8400, 200)"
      ]
     },
     "execution_count": 20,
     "metadata": {},
     "output_type": "execute_result"
    }
   ],
   "source": [
    "x_test_trf.shape"
   ]
  },
  {
   "cell_type": "code",
   "execution_count": 21,
   "id": "6f339fe3",
   "metadata": {
    "execution": {
     "iopub.execute_input": "2025-03-22T17:52:56.476513Z",
     "iopub.status.busy": "2025-03-22T17:52:56.476108Z",
     "iopub.status.idle": "2025-03-22T17:53:04.848839Z",
     "shell.execute_reply": "2025-03-22T17:53:04.847702Z"
    },
    "papermill": {
     "duration": 8.38343,
     "end_time": "2025-03-22T17:53:04.850786",
     "exception": false,
     "start_time": "2025-03-22T17:52:56.467356",
     "status": "completed"
    },
    "tags": []
   },
   "outputs": [],
   "source": [
    "result = knn.predict(test_trf)"
   ]
  },
  {
   "cell_type": "code",
   "execution_count": 22,
   "id": "bcd51132",
   "metadata": {
    "execution": {
     "iopub.execute_input": "2025-03-22T17:53:04.867715Z",
     "iopub.status.busy": "2025-03-22T17:53:04.867353Z",
     "iopub.status.idle": "2025-03-22T17:53:04.872101Z",
     "shell.execute_reply": "2025-03-22T17:53:04.871049Z"
    },
    "papermill": {
     "duration": 0.014988,
     "end_time": "2025-03-22T17:53:04.873843",
     "exception": false,
     "start_time": "2025-03-22T17:53:04.858855",
     "status": "completed"
    },
    "tags": []
   },
   "outputs": [],
   "source": [
    "submission = pd.DataFrame(result, columns = ['Label']) "
   ]
  },
  {
   "cell_type": "code",
   "execution_count": 23,
   "id": "57753ac4",
   "metadata": {
    "execution": {
     "iopub.execute_input": "2025-03-22T17:53:04.891345Z",
     "iopub.status.busy": "2025-03-22T17:53:04.890982Z",
     "iopub.status.idle": "2025-03-22T17:53:04.895245Z",
     "shell.execute_reply": "2025-03-22T17:53:04.894371Z"
    },
    "papermill": {
     "duration": 0.015269,
     "end_time": "2025-03-22T17:53:04.897007",
     "exception": false,
     "start_time": "2025-03-22T17:53:04.881738",
     "status": "completed"
    },
    "tags": []
   },
   "outputs": [],
   "source": [
    "submission.index = range(1, len(submission)+1)"
   ]
  },
  {
   "cell_type": "code",
   "execution_count": 24,
   "id": "ecb8e6d8",
   "metadata": {
    "execution": {
     "iopub.execute_input": "2025-03-22T17:53:04.913990Z",
     "iopub.status.busy": "2025-03-22T17:53:04.913636Z",
     "iopub.status.idle": "2025-03-22T17:53:04.917639Z",
     "shell.execute_reply": "2025-03-22T17:53:04.916649Z"
    },
    "papermill": {
     "duration": 0.014354,
     "end_time": "2025-03-22T17:53:04.919203",
     "exception": false,
     "start_time": "2025-03-22T17:53:04.904849",
     "status": "completed"
    },
    "tags": []
   },
   "outputs": [],
   "source": [
    "submission.index.name = 'ImageId'"
   ]
  },
  {
   "cell_type": "code",
   "execution_count": 25,
   "id": "ee5e8068",
   "metadata": {
    "execution": {
     "iopub.execute_input": "2025-03-22T17:53:04.936026Z",
     "iopub.status.busy": "2025-03-22T17:53:04.935647Z",
     "iopub.status.idle": "2025-03-22T17:53:04.943668Z",
     "shell.execute_reply": "2025-03-22T17:53:04.942603Z"
    },
    "papermill": {
     "duration": 0.018444,
     "end_time": "2025-03-22T17:53:04.945514",
     "exception": false,
     "start_time": "2025-03-22T17:53:04.927070",
     "status": "completed"
    },
    "tags": []
   },
   "outputs": [
    {
     "data": {
      "text/html": [
       "<div>\n",
       "<style scoped>\n",
       "    .dataframe tbody tr th:only-of-type {\n",
       "        vertical-align: middle;\n",
       "    }\n",
       "\n",
       "    .dataframe tbody tr th {\n",
       "        vertical-align: top;\n",
       "    }\n",
       "\n",
       "    .dataframe thead th {\n",
       "        text-align: right;\n",
       "    }\n",
       "</style>\n",
       "<table border=\"1\" class=\"dataframe\">\n",
       "  <thead>\n",
       "    <tr style=\"text-align: right;\">\n",
       "      <th></th>\n",
       "      <th>Label</th>\n",
       "    </tr>\n",
       "    <tr>\n",
       "      <th>ImageId</th>\n",
       "      <th></th>\n",
       "    </tr>\n",
       "  </thead>\n",
       "  <tbody>\n",
       "    <tr>\n",
       "      <th>1</th>\n",
       "      <td>2</td>\n",
       "    </tr>\n",
       "    <tr>\n",
       "      <th>2</th>\n",
       "      <td>0</td>\n",
       "    </tr>\n",
       "    <tr>\n",
       "      <th>3</th>\n",
       "      <td>8</td>\n",
       "    </tr>\n",
       "    <tr>\n",
       "      <th>4</th>\n",
       "      <td>0</td>\n",
       "    </tr>\n",
       "    <tr>\n",
       "      <th>5</th>\n",
       "      <td>3</td>\n",
       "    </tr>\n",
       "  </tbody>\n",
       "</table>\n",
       "</div>"
      ],
      "text/plain": [
       "         Label\n",
       "ImageId       \n",
       "1            2\n",
       "2            0\n",
       "3            8\n",
       "4            0\n",
       "5            3"
      ]
     },
     "execution_count": 25,
     "metadata": {},
     "output_type": "execute_result"
    }
   ],
   "source": [
    "submission.head()"
   ]
  },
  {
   "cell_type": "code",
   "execution_count": 26,
   "id": "c2ed0cb2",
   "metadata": {
    "execution": {
     "iopub.execute_input": "2025-03-22T17:53:04.962218Z",
     "iopub.status.busy": "2025-03-22T17:53:04.961843Z",
     "iopub.status.idle": "2025-03-22T17:53:04.988913Z",
     "shell.execute_reply": "2025-03-22T17:53:04.987781Z"
    },
    "papermill": {
     "duration": 0.037658,
     "end_time": "2025-03-22T17:53:04.990892",
     "exception": false,
     "start_time": "2025-03-22T17:53:04.953234",
     "status": "completed"
    },
    "tags": []
   },
   "outputs": [],
   "source": [
    "submission.to_csv('submission.csv')"
   ]
  },
  {
   "cell_type": "code",
   "execution_count": 27,
   "id": "3b97e5b4",
   "metadata": {
    "execution": {
     "iopub.execute_input": "2025-03-22T17:53:05.007924Z",
     "iopub.status.busy": "2025-03-22T17:53:05.007539Z",
     "iopub.status.idle": "2025-03-22T17:53:05.015976Z",
     "shell.execute_reply": "2025-03-22T17:53:05.014992Z"
    },
    "papermill": {
     "duration": 0.018763,
     "end_time": "2025-03-22T17:53:05.017653",
     "exception": false,
     "start_time": "2025-03-22T17:53:04.998890",
     "status": "completed"
    },
    "tags": []
   },
   "outputs": [
    {
     "data": {
      "text/html": [
       "<div>\n",
       "<style scoped>\n",
       "    .dataframe tbody tr th:only-of-type {\n",
       "        vertical-align: middle;\n",
       "    }\n",
       "\n",
       "    .dataframe tbody tr th {\n",
       "        vertical-align: top;\n",
       "    }\n",
       "\n",
       "    .dataframe thead th {\n",
       "        text-align: right;\n",
       "    }\n",
       "</style>\n",
       "<table border=\"1\" class=\"dataframe\">\n",
       "  <thead>\n",
       "    <tr style=\"text-align: right;\">\n",
       "      <th></th>\n",
       "      <th>Label</th>\n",
       "    </tr>\n",
       "    <tr>\n",
       "      <th>ImageId</th>\n",
       "      <th></th>\n",
       "    </tr>\n",
       "  </thead>\n",
       "  <tbody>\n",
       "    <tr>\n",
       "      <th>1</th>\n",
       "      <td>2</td>\n",
       "    </tr>\n",
       "    <tr>\n",
       "      <th>2</th>\n",
       "      <td>0</td>\n",
       "    </tr>\n",
       "    <tr>\n",
       "      <th>3</th>\n",
       "      <td>8</td>\n",
       "    </tr>\n",
       "    <tr>\n",
       "      <th>4</th>\n",
       "      <td>0</td>\n",
       "    </tr>\n",
       "    <tr>\n",
       "      <th>5</th>\n",
       "      <td>3</td>\n",
       "    </tr>\n",
       "  </tbody>\n",
       "</table>\n",
       "</div>"
      ],
      "text/plain": [
       "         Label\n",
       "ImageId       \n",
       "1            2\n",
       "2            0\n",
       "3            8\n",
       "4            0\n",
       "5            3"
      ]
     },
     "execution_count": 27,
     "metadata": {},
     "output_type": "execute_result"
    }
   ],
   "source": [
    "submission.head()"
   ]
  },
  {
   "cell_type": "code",
   "execution_count": null,
   "id": "5052cb31",
   "metadata": {
    "papermill": {
     "duration": 0.008244,
     "end_time": "2025-03-22T17:53:05.033932",
     "exception": false,
     "start_time": "2025-03-22T17:53:05.025688",
     "status": "completed"
    },
    "tags": []
   },
   "outputs": [],
   "source": []
  }
 ],
 "metadata": {
  "kaggle": {
   "accelerator": "none",
   "dataSources": [
    {
     "databundleVersionId": 861823,
     "sourceId": 3004,
     "sourceType": "competition"
    }
   ],
   "dockerImageVersionId": 30918,
   "isGpuEnabled": false,
   "isInternetEnabled": true,
   "language": "python",
   "sourceType": "notebook"
  },
  "kernelspec": {
   "display_name": "Python 3",
   "language": "python",
   "name": "python3"
  },
  "language_info": {
   "codemirror_mode": {
    "name": "ipython",
    "version": 3
   },
   "file_extension": ".py",
   "mimetype": "text/x-python",
   "name": "python",
   "nbconvert_exporter": "python",
   "pygments_lexer": "ipython3",
   "version": "3.10.12"
  },
  "papermill": {
   "default_parameters": {},
   "duration": 33.157433,
   "end_time": "2025-03-22T17:53:05.862932",
   "environment_variables": {},
   "exception": null,
   "input_path": "__notebook__.ipynb",
   "output_path": "__notebook__.ipynb",
   "parameters": {},
   "start_time": "2025-03-22T17:52:32.705499",
   "version": "2.6.0"
  }
 },
 "nbformat": 4,
 "nbformat_minor": 5
}
